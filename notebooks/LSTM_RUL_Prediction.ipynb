{
 "cells": [
  {
   "cell_type": "markdown",
   "metadata": {
    "id": "cWT-SspFvmtx"
   },
   "source": [
    "# Aircraft Engine RUL Prediction"
   ]
  },
  {
   "cell_type": "code",
   "execution_count": 2,
   "metadata": {
    "id": "UrsOMjxIvmt1"
   },
   "outputs": [],
   "source": [
    "import pandas as pd\n",
    "import numpy as np\n",
    "\n",
    "#to plot the data\n",
    "import matplotlib.pyplot as plt\n",
    "import seaborn as sns\n",
    "plt.style.use('fivethirtyeight')\n",
    "%matplotlib inline\n",
    "\n",
    "from sklearn.preprocessing import MinMaxScaler #to normalize data\n",
    "\n",
    "import os\n",
    "# os.chdir(\"C:/Data/aircraft/\")\n",
    "\n",
    "#for deep learning\n",
    "import tensorflow as tf\n",
    "import keras\n",
    "from keras import backend as K \n",
    "from keras.models import Sequential\n",
    "from keras.layers import Dense, LSTM, Activation, Masking, Dropout\n",
    "from keras.optimizers import RMSprop, Adam\n",
    "from keras.callbacks import History\n",
    "from keras import callbacks"
   ]
  },
  {
   "cell_type": "code",
   "execution_count": 3,
   "metadata": {
    "id": "y6-Dhaqdvmt2"
   },
   "outputs": [],
   "source": [
    "# based on data wrangling python notebook\n",
    "def prepare_data(drop_cols = True):\n",
    "    dependent_var = ['RUL']\n",
    "    index_columns_names =  [\"UnitNumber\",\"Cycle\"]\n",
    "    operational_settings_columns_names = [\"OpSet\"+str(i) for i in range(1,4)]\n",
    "    sensor_measure_columns_names =[\"SensorMeasure\"+str(i) for i in range(1,22)]\n",
    "    input_file_column_names = index_columns_names + operational_settings_columns_names + sensor_measure_columns_names\n",
    "\n",
    "    cols_to_drop = ['OpSet3', 'SensorMeasure1', 'SensorMeasure5', 'SensorMeasure6', 'SensorMeasure10', 'SensorMeasure14',\n",
    "     'SensorMeasure16', 'SensorMeasure18', 'SensorMeasure19']\n",
    "\n",
    "    df_train = pd.read_csv('/home/mei/rul/CMAPSSData/train_FD001.txt',delim_whitespace=True,names=input_file_column_names)\n",
    "\n",
    "    rul = pd.DataFrame(df_train.groupby('UnitNumber')['Cycle'].max()).reset_index()\n",
    "    rul.columns = ['UnitNumber', 'max']\n",
    "    df_train = df_train.merge(rul, on=['UnitNumber'], how='left')\n",
    "    df_train['RUL'] = df_train['max'] - df_train['Cycle']\n",
    "    df_train.drop('max', axis=1, inplace=True)\n",
    "\n",
    "    df_test = pd.read_csv('/home/mei/rul/CMAPSSData/test_FD001.txt', delim_whitespace=True, names=input_file_column_names)\n",
    "    \n",
    "    if(drop_cols == True):\n",
    "        df_train = df_train.drop(cols_to_drop, axis = 1)\n",
    "        df_test = df_test.drop(cols_to_drop, axis = 1)\n",
    "\n",
    "    y_true = pd.read_csv('/home/mei/rul/CMAPSSData/RUL_FD001.txt', delim_whitespace=True,names=[\"RUL\"])\n",
    "    y_true[\"UnitNumber\"] = y_true.index\n",
    "    \n",
    "    return df_train, df_test, y_true"
   ]
  },
  {
   "cell_type": "code",
   "execution_count": 4,
   "metadata": {
    "colab": {
     "base_uri": "https://localhost:8080/"
    },
    "id": "paIQqAlsvmt3",
    "outputId": "b1d2c234-935a-46e0-d06b-f693a4d0d12d"
   },
   "outputs": [
    {
     "data": {
      "text/plain": [
       "((20631, 18), (13096, 17), (100, 2))"
      ]
     },
     "execution_count": 4,
     "metadata": {},
     "output_type": "execute_result"
    }
   ],
   "source": [
    "df_train, df_test, y_true = prepare_data(drop_cols=True)\n",
    "df_train.shape, df_test.shape, y_true.shape"
   ]
  },
  {
   "cell_type": "markdown",
   "metadata": {
    "id": "NoTXbJNVvmt4"
   },
   "source": [
    "## Model"
   ]
  },
  {
   "cell_type": "markdown",
   "metadata": {
    "id": "iFvSsoRmvmt5"
   },
   "source": [
    "### Data Preprocessing"
   ]
  },
  {
   "cell_type": "markdown",
   "metadata": {
    "id": "T3cxTsDkvmt6"
   },
   "source": [
    "To make sure that variance of features remain in the same range, it is important to scale the features. If a feature's variance is order of magnitude more than the variance of other features, that particular feature might dominate other features in the dataset, which is not desirable."
   ]
  },
  {
   "cell_type": "code",
   "execution_count": 5,
   "metadata": {
    "id": "flJlAM82waxv"
   },
   "outputs": [],
   "source": [
    "feats = df_train.columns.drop(['UnitNumber', 'Cycle', 'RUL'])"
   ]
  },
  {
   "cell_type": "code",
   "execution_count": 6,
   "metadata": {
    "id": "n3Qa_ZfLvmt7"
   },
   "outputs": [],
   "source": [
    "min_max_scaler = MinMaxScaler(feature_range=(-1,1))\n",
    "\n",
    "df_train[feats] = min_max_scaler.fit_transform(df_train[feats])\n",
    "df_test[feats] = min_max_scaler.fit_transform(df_test[feats])"
   ]
  },
  {
   "cell_type": "markdown",
   "metadata": {
    "id": "ZpcnxZq_vmt7"
   },
   "source": [
    "\n",
    "LSTM expects an input in the shape of a numpy array of 3 dimensions and I will need to convert train and test data accordingly."
   ]
  },
  {
   "cell_type": "code",
   "execution_count": 7,
   "metadata": {
    "id": "9AsXaHsMvmt8"
   },
   "outputs": [],
   "source": [
    "def gen_train(id_df, seq_length, seq_cols):\n",
    "    \"\"\"\n",
    "        function to prepare train data into (samples, time steps, features)\n",
    "        id_df = train dataframe\n",
    "        seq_length = look back period\n",
    "        seq_cols = feature columns\n",
    "    \"\"\"\n",
    "        \n",
    "    data_array = id_df[seq_cols].values\n",
    "    num_elements = data_array.shape[0]\n",
    "    lstm_array=[]\n",
    "    \n",
    "    for start, stop in zip(range(0, num_elements-seq_length+1), range(seq_length, num_elements+1)):\n",
    "        lstm_array.append(data_array[start:stop, :])\n",
    "    \n",
    "    return np.array(lstm_array)"
   ]
  },
  {
   "cell_type": "code",
   "execution_count": 8,
   "metadata": {
    "id": "zl0lgvCyvmt9"
   },
   "outputs": [],
   "source": [
    "def gen_target(id_df, seq_length, label):\n",
    "    data_array = id_df[label].values\n",
    "    num_elements = data_array.shape[0]\n",
    "    return data_array[seq_length-1:num_elements+1]"
   ]
  },
  {
   "cell_type": "code",
   "execution_count": 9,
   "metadata": {
    "id": "ImTqez3pvmt-"
   },
   "outputs": [],
   "source": [
    "def gen_test(id_df, seq_length, seq_cols, mask_value):\n",
    "    \"\"\"\n",
    "        function to prepare test data into (samples, time steps, features)\n",
    "        function only returns last sequence of data for every unit\n",
    "        id_df = test dataframe\n",
    "        seq_length = look back period\n",
    "        seq_cols = feature columns\n",
    "    \"\"\"\n",
    "    df_mask = pd.DataFrame(np.zeros((seq_length-1,id_df.shape[1])),columns=id_df.columns)\n",
    "    df_mask[:] = mask_value\n",
    "    \n",
    "    id_df = df_mask.append(id_df,ignore_index=True)\n",
    "    \n",
    "    data_array = id_df[seq_cols].values\n",
    "    num_elements = data_array.shape[0]\n",
    "    lstm_array=[]\n",
    "    \n",
    "    start = num_elements-seq_length\n",
    "    stop = num_elements\n",
    "    \n",
    "    lstm_array.append(data_array[start:stop, :])\n",
    "    \n",
    "    return np.array(lstm_array)"
   ]
  },
  {
   "cell_type": "markdown",
   "metadata": {
    "id": "nQycpSHzvmt-"
   },
   "source": [
    "\n",
    "Let's define look back period and mask_value"
   ]
  },
  {
   "cell_type": "code",
   "execution_count": 10,
   "metadata": {
    "id": "5rCzcAJLvmt_"
   },
   "outputs": [],
   "source": [
    "sequence_length = 50\n",
    "mask_value = 0"
   ]
  },
  {
   "cell_type": "markdown",
   "metadata": {
    "id": "L_Ssdcj-vmt_"
   },
   "source": [
    "\n",
    "Let's prepare data using above functions."
   ]
  },
  {
   "cell_type": "code",
   "execution_count": 11,
   "metadata": {
    "colab": {
     "base_uri": "https://localhost:8080/"
    },
    "id": "FaBfKk5wvmuA",
    "outputId": "3c75ac83-6826-411f-f908-54c533b26a8f"
   },
   "outputs": [
    {
     "name": "stdout",
     "output_type": "stream",
     "text": [
      "(15731, 50, 15)\n"
     ]
    }
   ],
   "source": [
    "#generate train\n",
    "x_train=np.concatenate(list(list(gen_train(df_train[df_train['UnitNumber']==unit], sequence_length, feats)) for unit in df_train['UnitNumber'].unique()))\n",
    "print(x_train.shape)"
   ]
  },
  {
   "cell_type": "code",
   "execution_count": 12,
   "metadata": {
    "colab": {
     "base_uri": "https://localhost:8080/"
    },
    "id": "ZshnfGc1vmuB",
    "outputId": "aac2a2d5-25c4-4ec5-988e-443b0a1b56e0",
    "scrolled": true
   },
   "outputs": [
    {
     "data": {
      "text/plain": [
       "(15731,)"
      ]
     },
     "execution_count": 12,
     "metadata": {},
     "output_type": "execute_result"
    }
   ],
   "source": [
    "#generate target of train\n",
    "y_train = np.concatenate(list(list(gen_target(df_train[df_train['UnitNumber']==unit], sequence_length, \"RUL\")) for unit in df_train['UnitNumber'].unique()))\n",
    "y_train.shape"
   ]
  },
  {
   "cell_type": "code",
   "execution_count": 13,
   "metadata": {
    "colab": {
     "base_uri": "https://localhost:8080/"
    },
    "id": "Gk46UujovmuB",
    "outputId": "09d16758-a7dd-4bdf-da38-dc904d5c63c8"
   },
   "outputs": [
    {
     "name": "stdout",
     "output_type": "stream",
     "text": [
      "(100, 50, 15)\n"
     ]
    }
   ],
   "source": [
    "#generate test\n",
    "x_test=np.concatenate(list(list(gen_test(df_test[df_test['UnitNumber']==unit], sequence_length, feats, mask_value)) for unit in df_test['UnitNumber'].unique()))\n",
    "print(x_test.shape)"
   ]
  },
  {
   "cell_type": "code",
   "execution_count": 14,
   "metadata": {
    "colab": {
     "base_uri": "https://localhost:8080/"
    },
    "id": "rF62CHiAvmuC",
    "outputId": "54d998a2-75e3-41bb-ab13-9b9cd1a92591"
   },
   "outputs": [
    {
     "data": {
      "text/plain": [
       "(100,)"
      ]
     },
     "execution_count": 14,
     "metadata": {},
     "output_type": "execute_result"
    }
   ],
   "source": [
    "#true target of test \n",
    "y_test = y_true.RUL.values\n",
    "y_test.shape"
   ]
  },
  {
   "cell_type": "markdown",
   "metadata": {
    "id": "3lRgx1qEvmuD"
   },
   "source": [
    "### LSTM Model"
   ]
  },
  {
   "cell_type": "code",
   "execution_count": 15,
   "metadata": {
    "id": "xiAVKfNYvmuD"
   },
   "outputs": [],
   "source": [
    "nb_features = x_train.shape[2]\n",
    "nb_out = 1"
   ]
  },
  {
   "cell_type": "code",
   "execution_count": 16,
   "metadata": {
    "colab": {
     "base_uri": "https://localhost:8080/"
    },
    "id": "QvHRtSetvmuE",
    "outputId": "b19fffc5-7572-4128-9828-600c5353b4ee"
   },
   "outputs": [
    {
     "data": {
      "text/plain": [
       "15"
      ]
     },
     "execution_count": 16,
     "metadata": {},
     "output_type": "execute_result"
    }
   ],
   "source": [
    "nb_features"
   ]
  },
  {
   "cell_type": "code",
   "execution_count": null,
   "metadata": {},
   "outputs": [],
   "source": []
  },
  {
   "cell_type": "code",
   "execution_count": 17,
   "metadata": {
    "colab": {
     "base_uri": "https://localhost:8080/"
    },
    "id": "1SlITwdqvmuE",
    "outputId": "9572334c-0af6-48f7-d32d-3fcbd3e0dc03"
   },
   "outputs": [
    {
     "name": "stdout",
     "output_type": "stream",
     "text": [
      "Model: \"sequential\"\n",
      "_________________________________________________________________\n",
      "Layer (type)                 Output Shape              Param #   \n",
      "=================================================================\n",
      "lstm (LSTM)                  (None, 50, 100)           46400     \n",
      "_________________________________________________________________\n",
      "dropout (Dropout)            (None, 50, 100)           0         \n",
      "_________________________________________________________________\n",
      "lstm_1 (LSTM)                (None, 100)               80400     \n",
      "_________________________________________________________________\n",
      "dropout_1 (Dropout)          (None, 100)               0         \n",
      "_________________________________________________________________\n",
      "dense (Dense)                (None, 1)                 101       \n",
      "_________________________________________________________________\n",
      "activation (Activation)      (None, 1)                 0         \n",
      "=================================================================\n",
      "Total params: 126,901\n",
      "Trainable params: 126,901\n",
      "Non-trainable params: 0\n",
      "_________________________________________________________________\n"
     ]
    }
   ],
   "source": [
    "history = History()\n",
    "\n",
    "model = Sequential()\n",
    "model.add(LSTM(\n",
    "         units=100,\n",
    "         return_sequences=True,\n",
    "         input_shape=(sequence_length, nb_features)))\n",
    "model.add(Dropout(0.2))\n",
    "model.add(LSTM(\n",
    "          units=100,\n",
    "          return_sequences=False))\n",
    "model.add(Dropout(0.2))\n",
    "model.add(Dense(units=1, activation='relu'))\n",
    "model.add(Activation(\"relu\"))\n",
    "model.compile(loss=\"mse\", optimizer=\"rmsprop\", metrics=['mse'])\n",
    "\n",
    "model.summary()"
   ]
  },
  {
   "cell_type": "code",
   "execution_count": 18,
   "metadata": {
    "colab": {
     "base_uri": "https://localhost:8080/"
    },
    "id": "jR3GQD9uvmuF",
    "outputId": "3608087a-0cf4-4b55-89b6-61f15360f905"
   },
   "outputs": [
    {
     "name": "stdout",
     "output_type": "stream",
     "text": [
      "Epoch 1/100\n",
      "443/443 [==============================] - 23s 53ms/step - loss: 5690.0190 - mse: 5690.0190 - val_loss: 5665.3145 - val_mse: 5665.3145\n",
      "Epoch 2/100\n",
      "443/443 [==============================] - 19s 43ms/step - loss: 2403.3779 - mse: 2403.3779 - val_loss: 2718.4802 - val_mse: 2718.4802\n",
      "Epoch 3/100\n",
      "443/443 [==============================] - 19s 43ms/step - loss: 1130.8641 - mse: 1130.8641 - val_loss: 1506.5380 - val_mse: 1506.5380\n",
      "Epoch 4/100\n",
      "443/443 [==============================] - 19s 43ms/step - loss: 820.9703 - mse: 820.9703 - val_loss: 1298.0790 - val_mse: 1298.0790\n",
      "Epoch 5/100\n",
      "443/443 [==============================] - 19s 43ms/step - loss: 709.3515 - mse: 709.3515 - val_loss: 1262.6034 - val_mse: 1262.6034\n",
      "Epoch 6/100\n",
      "443/443 [==============================] - 19s 44ms/step - loss: 658.3821 - mse: 658.3821 - val_loss: 1258.3754 - val_mse: 1258.3754\n",
      "Epoch 7/100\n",
      "443/443 [==============================] - 19s 43ms/step - loss: 593.4988 - mse: 593.4988 - val_loss: 1439.5543 - val_mse: 1439.5543\n",
      "Epoch 8/100\n",
      "443/443 [==============================] - 19s 44ms/step - loss: 559.3284 - mse: 559.3284 - val_loss: 1230.7722 - val_mse: 1230.7722\n",
      "Epoch 9/100\n",
      "443/443 [==============================] - 19s 44ms/step - loss: 522.3387 - mse: 522.3387 - val_loss: 1393.9867 - val_mse: 1393.9867\n",
      "Epoch 10/100\n",
      "443/443 [==============================] - 19s 43ms/step - loss: 475.4211 - mse: 475.4211 - val_loss: 1241.3627 - val_mse: 1241.3627\n",
      "Epoch 11/100\n",
      "443/443 [==============================] - 19s 44ms/step - loss: 445.3660 - mse: 445.3660 - val_loss: 1490.6982 - val_mse: 1490.6982\n",
      "Epoch 12/100\n",
      "443/443 [==============================] - 19s 43ms/step - loss: 407.9746 - mse: 407.9746 - val_loss: 1285.7509 - val_mse: 1285.7509\n",
      "Epoch 13/100\n",
      "443/443 [==============================] - 19s 43ms/step - loss: 374.9893 - mse: 374.9893 - val_loss: 1543.7681 - val_mse: 1543.7681\n",
      "Epoch 14/100\n",
      "443/443 [==============================] - 19s 44ms/step - loss: 356.9317 - mse: 356.9317 - val_loss: 1765.3105 - val_mse: 1765.3105\n",
      "Epoch 15/100\n",
      "443/443 [==============================] - 19s 44ms/step - loss: 321.3904 - mse: 321.3904 - val_loss: 1549.9342 - val_mse: 1549.9342\n",
      "Epoch 16/100\n",
      "443/443 [==============================] - 19s 43ms/step - loss: 290.2759 - mse: 290.2759 - val_loss: 1828.1962 - val_mse: 1828.1962\n",
      "Epoch 17/100\n",
      "443/443 [==============================] - 19s 43ms/step - loss: 270.7795 - mse: 270.7795 - val_loss: 1459.6414 - val_mse: 1459.6414\n",
      "Epoch 18/100\n",
      "443/443 [==============================] - 19s 43ms/step - loss: 249.5146 - mse: 249.5146 - val_loss: 1674.6228 - val_mse: 1674.6228\n",
      "Epoch 19/100\n",
      "443/443 [==============================] - 19s 44ms/step - loss: 220.7170 - mse: 220.7170 - val_loss: 1828.7795 - val_mse: 1828.7795\n",
      "Epoch 20/100\n",
      "443/443 [==============================] - 19s 43ms/step - loss: 203.3548 - mse: 203.3548 - val_loss: 1788.7875 - val_mse: 1788.7875\n",
      "Epoch 21/100\n",
      "443/443 [==============================] - 19s 43ms/step - loss: 197.0917 - mse: 197.0917 - val_loss: 1655.6394 - val_mse: 1655.6394\n",
      "Epoch 22/100\n",
      "443/443 [==============================] - 19s 43ms/step - loss: 174.4774 - mse: 174.4774 - val_loss: 1976.0009 - val_mse: 1976.0009\n",
      "Epoch 23/100\n",
      "443/443 [==============================] - 19s 43ms/step - loss: 160.8541 - mse: 160.8541 - val_loss: 1983.0922 - val_mse: 1983.0922\n",
      "Epoch 24/100\n",
      "443/443 [==============================] - 19s 43ms/step - loss: 148.0747 - mse: 148.0747 - val_loss: 2319.7576 - val_mse: 2319.7576\n",
      "Epoch 25/100\n",
      "443/443 [==============================] - 19s 43ms/step - loss: 133.0490 - mse: 133.0490 - val_loss: 2520.6848 - val_mse: 2520.6848\n",
      "Epoch 26/100\n",
      "443/443 [==============================] - 19s 43ms/step - loss: 121.8032 - mse: 121.8032 - val_loss: 2118.9641 - val_mse: 2118.9641\n",
      "Epoch 27/100\n",
      "443/443 [==============================] - 19s 43ms/step - loss: 114.0062 - mse: 114.0062 - val_loss: 2354.4368 - val_mse: 2354.4368\n",
      "Epoch 28/100\n",
      "443/443 [==============================] - 19s 43ms/step - loss: 103.2256 - mse: 103.2256 - val_loss: 2129.7256 - val_mse: 2129.7256\n",
      "Epoch 29/100\n",
      "443/443 [==============================] - 19s 43ms/step - loss: 95.4514 - mse: 95.4514 - val_loss: 2175.6802 - val_mse: 2175.6802\n",
      "Epoch 30/100\n",
      "443/443 [==============================] - 19s 43ms/step - loss: 90.8223 - mse: 90.8223 - val_loss: 1957.7521 - val_mse: 1957.7521\n",
      "Epoch 31/100\n",
      "443/443 [==============================] - 19s 44ms/step - loss: 85.1046 - mse: 85.1046 - val_loss: 1933.6798 - val_mse: 1933.6798\n",
      "Epoch 32/100\n",
      "443/443 [==============================] - 19s 43ms/step - loss: 81.3210 - mse: 81.3210 - val_loss: 2350.2112 - val_mse: 2350.2112\n",
      "Epoch 33/100\n",
      "443/443 [==============================] - 19s 43ms/step - loss: 79.8369 - mse: 79.8369 - val_loss: 2262.2039 - val_mse: 2262.2039\n",
      "Epoch 34/100\n",
      "443/443 [==============================] - 19s 43ms/step - loss: 73.6404 - mse: 73.6404 - val_loss: 2093.4756 - val_mse: 2093.4756\n",
      "Epoch 35/100\n",
      "443/443 [==============================] - 19s 43ms/step - loss: 73.5446 - mse: 73.5446 - val_loss: 2348.3914 - val_mse: 2348.3914\n",
      "Epoch 36/100\n",
      "443/443 [==============================] - 19s 43ms/step - loss: 69.6152 - mse: 69.6152 - val_loss: 2620.3904 - val_mse: 2620.3904\n",
      "Epoch 37/100\n",
      "443/443 [==============================] - 19s 43ms/step - loss: 66.8439 - mse: 66.8439 - val_loss: 2411.0657 - val_mse: 2411.0657\n",
      "Epoch 38/100\n",
      "443/443 [==============================] - 19s 43ms/step - loss: 65.8933 - mse: 65.8933 - val_loss: 2342.3049 - val_mse: 2342.3049\n",
      "Epoch 39/100\n",
      "443/443 [==============================] - 19s 43ms/step - loss: 64.6916 - mse: 64.6916 - val_loss: 2307.4998 - val_mse: 2307.4998\n",
      "Epoch 40/100\n",
      "443/443 [==============================] - 19s 43ms/step - loss: 61.9438 - mse: 61.9438 - val_loss: 1697.5057 - val_mse: 1697.5057\n",
      "Epoch 41/100\n",
      "443/443 [==============================] - 19s 44ms/step - loss: 59.7153 - mse: 59.7153 - val_loss: 2287.4617 - val_mse: 2287.4617\n",
      "Epoch 42/100\n",
      "443/443 [==============================] - 19s 43ms/step - loss: 59.1205 - mse: 59.1205 - val_loss: 2333.5115 - val_mse: 2333.5115\n",
      "Epoch 43/100\n",
      "443/443 [==============================] - 19s 43ms/step - loss: 56.8998 - mse: 56.8998 - val_loss: 2287.4888 - val_mse: 2287.4888\n",
      "Epoch 44/100\n",
      "443/443 [==============================] - 19s 43ms/step - loss: 56.2452 - mse: 56.2452 - val_loss: 2305.0691 - val_mse: 2305.0691\n",
      "Epoch 45/100\n",
      "443/443 [==============================] - 19s 43ms/step - loss: 54.9301 - mse: 54.9301 - val_loss: 2266.3047 - val_mse: 2266.3047\n",
      "Epoch 46/100\n",
      "443/443 [==============================] - 19s 43ms/step - loss: 55.1070 - mse: 55.1070 - val_loss: 2480.0757 - val_mse: 2480.0757\n",
      "Epoch 47/100\n",
      "443/443 [==============================] - 19s 43ms/step - loss: 54.0803 - mse: 54.0803 - val_loss: 2151.3679 - val_mse: 2151.3679\n",
      "Epoch 48/100\n",
      "443/443 [==============================] - 19s 43ms/step - loss: 53.3974 - mse: 53.3974 - val_loss: 2303.0471 - val_mse: 2303.0471\n",
      "Epoch 49/100\n",
      "443/443 [==============================] - 19s 43ms/step - loss: 51.1685 - mse: 51.1685 - val_loss: 2264.5928 - val_mse: 2264.5928\n",
      "Epoch 50/100\n",
      "443/443 [==============================] - 19s 44ms/step - loss: 52.6895 - mse: 52.6895 - val_loss: 2406.3943 - val_mse: 2406.3943\n",
      "Epoch 51/100\n",
      "443/443 [==============================] - 19s 43ms/step - loss: 49.7453 - mse: 49.7453 - val_loss: 2194.7288 - val_mse: 2194.7288\n",
      "Epoch 52/100\n",
      "443/443 [==============================] - 19s 43ms/step - loss: 49.7774 - mse: 49.7774 - val_loss: 2649.8662 - val_mse: 2649.8662\n",
      "Epoch 53/100\n",
      "443/443 [==============================] - 19s 43ms/step - loss: 48.3097 - mse: 48.3097 - val_loss: 2519.3022 - val_mse: 2519.3022\n",
      "Epoch 54/100\n",
      "443/443 [==============================] - 19s 43ms/step - loss: 48.5494 - mse: 48.5494 - val_loss: 2550.1792 - val_mse: 2550.1792\n",
      "Epoch 55/100\n",
      "443/443 [==============================] - 19s 43ms/step - loss: 47.0866 - mse: 47.0866 - val_loss: 2186.8757 - val_mse: 2186.8757\n",
      "Epoch 56/100\n",
      "443/443 [==============================] - 19s 43ms/step - loss: 46.5094 - mse: 46.5094 - val_loss: 1848.8312 - val_mse: 1848.8312\n",
      "Epoch 57/100\n",
      "443/443 [==============================] - 19s 43ms/step - loss: 46.7718 - mse: 46.7718 - val_loss: 2578.3494 - val_mse: 2578.3494\n",
      "Epoch 58/100\n",
      "443/443 [==============================] - 19s 43ms/step - loss: 46.2184 - mse: 46.2184 - val_loss: 2371.8850 - val_mse: 2371.8850\n",
      "Epoch 59/100\n",
      "443/443 [==============================] - 19s 43ms/step - loss: 45.4042 - mse: 45.4042 - val_loss: 2291.8005 - val_mse: 2291.8005\n",
      "Epoch 60/100\n",
      "443/443 [==============================] - 19s 43ms/step - loss: 45.2437 - mse: 45.2437 - val_loss: 2406.0505 - val_mse: 2406.0505\n",
      "Epoch 61/100\n",
      "443/443 [==============================] - 19s 43ms/step - loss: 45.2946 - mse: 45.2946 - val_loss: 2625.8225 - val_mse: 2625.8225\n",
      "Epoch 62/100\n",
      "443/443 [==============================] - 19s 43ms/step - loss: 43.6816 - mse: 43.6816 - val_loss: 2378.2024 - val_mse: 2378.2024\n",
      "Epoch 63/100\n",
      "443/443 [==============================] - 19s 43ms/step - loss: 43.9895 - mse: 43.9895 - val_loss: 2294.2434 - val_mse: 2294.2434\n",
      "Epoch 64/100\n",
      "443/443 [==============================] - 19s 43ms/step - loss: 43.9781 - mse: 43.9781 - val_loss: 2429.1079 - val_mse: 2429.1079\n",
      "Epoch 65/100\n",
      "443/443 [==============================] - 19s 43ms/step - loss: 45.4474 - mse: 45.4474 - val_loss: 2875.2529 - val_mse: 2875.2529\n",
      "Epoch 66/100\n",
      "443/443 [==============================] - 19s 44ms/step - loss: 43.0350 - mse: 43.0350 - val_loss: 2362.2908 - val_mse: 2362.2908\n",
      "Epoch 67/100\n",
      "443/443 [==============================] - 19s 43ms/step - loss: 41.2810 - mse: 41.2810 - val_loss: 2220.2671 - val_mse: 2220.2671\n",
      "Epoch 68/100\n",
      "443/443 [==============================] - 19s 43ms/step - loss: 42.9779 - mse: 42.9779 - val_loss: 2341.4619 - val_mse: 2341.4619\n",
      "Epoch 69/100\n",
      "443/443 [==============================] - 19s 43ms/step - loss: 41.7828 - mse: 41.7828 - val_loss: 2518.8831 - val_mse: 2518.8831\n",
      "Epoch 70/100\n",
      "443/443 [==============================] - 19s 43ms/step - loss: 40.8716 - mse: 40.8716 - val_loss: 2371.3442 - val_mse: 2371.3442\n",
      "Epoch 71/100\n",
      "443/443 [==============================] - 19s 43ms/step - loss: 41.9107 - mse: 41.9107 - val_loss: 2502.6738 - val_mse: 2502.6738\n",
      "Epoch 72/100\n",
      "443/443 [==============================] - 19s 43ms/step - loss: 42.7607 - mse: 42.7607 - val_loss: 2187.2180 - val_mse: 2187.2180\n",
      "Epoch 73/100\n",
      "443/443 [==============================] - 19s 44ms/step - loss: 40.2195 - mse: 40.2195 - val_loss: 2540.8809 - val_mse: 2540.8809\n",
      "Epoch 74/100\n",
      "443/443 [==============================] - 19s 43ms/step - loss: 40.0501 - mse: 40.0501 - val_loss: 2789.9263 - val_mse: 2789.9263\n",
      "Epoch 75/100\n",
      "443/443 [==============================] - 19s 43ms/step - loss: 41.4251 - mse: 41.4251 - val_loss: 2440.3049 - val_mse: 2440.3049\n",
      "Epoch 76/100\n",
      "443/443 [==============================] - 19s 43ms/step - loss: 39.9518 - mse: 39.9518 - val_loss: 1934.4290 - val_mse: 1934.4290\n",
      "Epoch 77/100\n",
      "443/443 [==============================] - 19s 43ms/step - loss: 41.6958 - mse: 41.6958 - val_loss: 2461.6064 - val_mse: 2461.6064\n",
      "Epoch 78/100\n",
      "443/443 [==============================] - 19s 43ms/step - loss: 41.7282 - mse: 41.7282 - val_loss: 2872.0579 - val_mse: 2872.0579\n",
      "Epoch 79/100\n",
      "443/443 [==============================] - 19s 43ms/step - loss: 41.1432 - mse: 41.1432 - val_loss: 2498.4470 - val_mse: 2498.4470\n",
      "Epoch 80/100\n",
      "443/443 [==============================] - 19s 43ms/step - loss: 41.1061 - mse: 41.1061 - val_loss: 2938.3501 - val_mse: 2938.3501\n",
      "Epoch 81/100\n",
      "443/443 [==============================] - 19s 43ms/step - loss: 37.9169 - mse: 37.9169 - val_loss: 2239.9075 - val_mse: 2239.9075\n",
      "Epoch 82/100\n",
      "443/443 [==============================] - 19s 43ms/step - loss: 37.8912 - mse: 37.8912 - val_loss: 2527.9143 - val_mse: 2527.9143\n",
      "Epoch 83/100\n",
      "443/443 [==============================] - 19s 43ms/step - loss: 38.3428 - mse: 38.3428 - val_loss: 2564.1665 - val_mse: 2564.1665\n",
      "Epoch 84/100\n",
      "443/443 [==============================] - 19s 43ms/step - loss: 38.1960 - mse: 38.1960 - val_loss: 2614.3474 - val_mse: 2614.3474\n",
      "Epoch 85/100\n",
      "443/443 [==============================] - 19s 43ms/step - loss: 37.7136 - mse: 37.7136 - val_loss: 2323.0776 - val_mse: 2323.0776\n",
      "Epoch 86/100\n",
      "443/443 [==============================] - 19s 44ms/step - loss: 38.3716 - mse: 38.3716 - val_loss: 2839.0886 - val_mse: 2839.0886\n",
      "Epoch 87/100\n",
      "443/443 [==============================] - 19s 43ms/step - loss: 38.2764 - mse: 38.2764 - val_loss: 2667.7720 - val_mse: 2667.7720\n",
      "Epoch 88/100\n",
      "443/443 [==============================] - 19s 43ms/step - loss: 39.4125 - mse: 39.4125 - val_loss: 2172.8757 - val_mse: 2172.8757\n",
      "Epoch 89/100\n",
      "443/443 [==============================] - 19s 43ms/step - loss: 38.0098 - mse: 38.0098 - val_loss: 2448.7146 - val_mse: 2448.7146\n",
      "Epoch 90/100\n",
      "443/443 [==============================] - 19s 43ms/step - loss: 36.6588 - mse: 36.6588 - val_loss: 2523.6353 - val_mse: 2523.6353\n",
      "Epoch 91/100\n",
      "443/443 [==============================] - 19s 43ms/step - loss: 37.8756 - mse: 37.8756 - val_loss: 2579.8008 - val_mse: 2579.8008\n",
      "Epoch 92/100\n",
      "443/443 [==============================] - 19s 43ms/step - loss: 35.2838 - mse: 35.2838 - val_loss: 2796.8499 - val_mse: 2796.8499\n",
      "Epoch 93/100\n",
      "443/443 [==============================] - 19s 43ms/step - loss: 37.4778 - mse: 37.4778 - val_loss: 2470.2776 - val_mse: 2470.2776\n",
      "Epoch 94/100\n",
      "443/443 [==============================] - 19s 44ms/step - loss: 36.4881 - mse: 36.4881 - val_loss: 2451.8918 - val_mse: 2451.8918\n",
      "Epoch 95/100\n",
      "443/443 [==============================] - 19s 43ms/step - loss: 35.7894 - mse: 35.7894 - val_loss: 2645.9265 - val_mse: 2645.9265\n",
      "Epoch 96/100\n",
      "443/443 [==============================] - 19s 43ms/step - loss: 35.4041 - mse: 35.4041 - val_loss: 2496.6707 - val_mse: 2496.6707\n",
      "Epoch 97/100\n",
      "443/443 [==============================] - 19s 43ms/step - loss: 35.9755 - mse: 35.9755 - val_loss: 2669.6626 - val_mse: 2669.6626\n",
      "Epoch 98/100\n",
      "443/443 [==============================] - 19s 44ms/step - loss: 34.7470 - mse: 34.7470 - val_loss: 3134.2561 - val_mse: 3134.2561\n",
      "Epoch 99/100\n",
      "443/443 [==============================] - 19s 43ms/step - loss: 38.3410 - mse: 38.3410 - val_loss: 2910.5854 - val_mse: 2910.5854\n",
      "Epoch 100/100\n",
      "443/443 [==============================] - 19s 44ms/step - loss: 36.6291 - mse: 36.6291 - val_loss: 2499.8748 - val_mse: 2499.8748\n",
      "CPU times: user 29min 2s, sys: 8min 8s, total: 37min 10s\n",
      "Wall time: 32min 26s\n"
     ]
    },
    {
     "data": {
      "text/plain": [
       "<tensorflow.python.keras.callbacks.History at 0x7ea04fc5f8>"
      ]
     },
     "execution_count": 18,
     "metadata": {},
     "output_type": "execute_result"
    }
   ],
   "source": [
    "%%time\n",
    "# fit the model\n",
    "model.fit(x_train, y_train, epochs=100, batch_size=32, validation_split=0.1, verbose=1)"
   ]
  },
  {
   "cell_type": "markdown",
   "metadata": {
    "id": "jhkJpH0-vmuG"
   },
   "source": [
    "Let's plot the loss"
   ]
  },
  {
   "cell_type": "code",
   "execution_count": 19,
   "metadata": {
    "colab": {
     "base_uri": "https://localhost:8080/"
    },
    "id": "f4zlR57Zxpr3",
    "outputId": "42e5ef5d-2c37-4a0d-8195-24afaae61fea"
   },
   "outputs": [
    {
     "data": {
      "text/plain": [
       "dict_keys([])"
      ]
     },
     "execution_count": 19,
     "metadata": {},
     "output_type": "execute_result"
    }
   ],
   "source": [
    "history.history.keys()"
   ]
  },
  {
   "cell_type": "code",
   "execution_count": 20,
   "metadata": {
    "colab": {
     "base_uri": "https://localhost:8080/",
     "height": 296
    },
    "id": "mZJ_dYBnvmuG",
    "outputId": "aff13bd0-2bb3-4205-cc7a-7f98ad314a3e"
   },
   "outputs": [
    {
     "ename": "KeyError",
     "evalue": "'mse'",
     "output_type": "error",
     "traceback": [
      "\u001b[0;31m---------------------------------------------------------------------------\u001b[0m",
      "\u001b[0;31mKeyError\u001b[0m                                  Traceback (most recent call last)",
      "\u001b[0;32m<ipython-input-20-07bd8779adf4>\u001b[0m in \u001b[0;36m<module>\u001b[0;34m\u001b[0m\n\u001b[0;32m----> 1\u001b[0;31m \u001b[0mplt\u001b[0m\u001b[0;34m.\u001b[0m\u001b[0mplot\u001b[0m\u001b[0;34m(\u001b[0m\u001b[0mhistory\u001b[0m\u001b[0;34m.\u001b[0m\u001b[0mhistory\u001b[0m\u001b[0;34m[\u001b[0m\u001b[0;34m'mse'\u001b[0m\u001b[0;34m]\u001b[0m\u001b[0;34m)\u001b[0m\u001b[0;34m\u001b[0m\u001b[0;34m\u001b[0m\u001b[0m\n\u001b[0m\u001b[1;32m      2\u001b[0m \u001b[0mplt\u001b[0m\u001b[0;34m.\u001b[0m\u001b[0mplot\u001b[0m\u001b[0;34m(\u001b[0m\u001b[0mhistory\u001b[0m\u001b[0;34m.\u001b[0m\u001b[0mhistory\u001b[0m\u001b[0;34m[\u001b[0m\u001b[0;34m'val_mse'\u001b[0m\u001b[0;34m]\u001b[0m\u001b[0;34m)\u001b[0m\u001b[0;34m\u001b[0m\u001b[0;34m\u001b[0m\u001b[0m\n\u001b[1;32m      3\u001b[0m \u001b[0mplt\u001b[0m\u001b[0;34m.\u001b[0m\u001b[0mtitle\u001b[0m\u001b[0;34m(\u001b[0m\u001b[0;34m'MSE'\u001b[0m\u001b[0;34m)\u001b[0m\u001b[0;34m\u001b[0m\u001b[0;34m\u001b[0m\u001b[0m\n\u001b[1;32m      4\u001b[0m \u001b[0mplt\u001b[0m\u001b[0;34m.\u001b[0m\u001b[0mylabel\u001b[0m\u001b[0;34m(\u001b[0m\u001b[0;34m'Mean Squared Error'\u001b[0m\u001b[0;34m)\u001b[0m\u001b[0;34m\u001b[0m\u001b[0;34m\u001b[0m\u001b[0m\n\u001b[1;32m      5\u001b[0m \u001b[0mplt\u001b[0m\u001b[0;34m.\u001b[0m\u001b[0mxlabel\u001b[0m\u001b[0;34m(\u001b[0m\u001b[0;34m'# Epoch'\u001b[0m\u001b[0;34m)\u001b[0m\u001b[0;34m\u001b[0m\u001b[0;34m\u001b[0m\u001b[0m\n",
      "\u001b[0;31mKeyError\u001b[0m: 'mse'"
     ]
    }
   ],
   "source": [
    "plt.plot(history.history['mse'])\n",
    "plt.plot(history.history['val_mse'])\n",
    "plt.title('MSE')\n",
    "plt.ylabel('Mean Squared Error')\n",
    "plt.xlabel('# Epoch')\n",
    "plt.legend(['train', 'test'], loc='upper left')\n",
    "plt.show()"
   ]
  },
  {
   "cell_type": "markdown",
   "metadata": {
    "id": "d0uvVgjlvmuH"
   },
   "source": [
    "### Results on Train Set"
   ]
  },
  {
   "cell_type": "code",
   "execution_count": 21,
   "metadata": {
    "colab": {
     "base_uri": "https://localhost:8080/"
    },
    "id": "Y8fw3L6YvmuH",
    "outputId": "9a0af8db-5a09-4e88-b42a-bf9973aae46a"
   },
   "outputs": [
    {
     "name": "stdout",
     "output_type": "stream",
     "text": [
      "79/79 [==============================] - 4s 50ms/step - loss: 256.4713 - mse: 256.4713\n",
      "MSE: 256.47125244140625\n"
     ]
    }
   ],
   "source": [
    "scores = model.evaluate(x_train, y_train, verbose=1, batch_size=200)\n",
    "print('MSE: {}'.format(scores[1]))"
   ]
  },
  {
   "cell_type": "markdown",
   "metadata": {
    "id": "R2afaD0AvmuH"
   },
   "source": [
    "### Results on Test Set"
   ]
  },
  {
   "cell_type": "code",
   "execution_count": 22,
   "metadata": {
    "colab": {
     "base_uri": "https://localhost:8080/"
    },
    "id": "voR0gDtxvmuI",
    "outputId": "d0a3eeb4-6f93-4da1-c58c-e518c8fdab57"
   },
   "outputs": [
    {
     "name": "stdout",
     "output_type": "stream",
     "text": [
      "4/4 - 0s - loss: 1864.9000 - mse: 1864.9000\n",
      "MSE: 1864.9000244140625\n"
     ]
    }
   ],
   "source": [
    "scores_test = model.evaluate(x_test, y_test, verbose=2)\n",
    "print('MSE: {}'.format(scores_test[1]))"
   ]
  },
  {
   "cell_type": "code",
   "execution_count": 23,
   "metadata": {
    "colab": {
     "base_uri": "https://localhost:8080/",
     "height": 333
    },
    "id": "Jf9IfCamvmuI",
    "outputId": "af14dcfe-df35-4f15-cd06-480b858c4cd5"
   },
   "outputs": [
    {
     "data": {
      "image/png": "[encoded data removed]",
      "text/plain": [
       "<Figure size 720x360 with 1 Axes>"
      ]
     },
     "metadata": {
      "needs_background": "light"
     },
     "output_type": "display_data"
    },
    {
     "data": {
      "text/plain": [
       "<Figure size 432x288 with 0 Axes>"
      ]
     },
     "metadata": {},
     "output_type": "display_data"
    }
   ],
   "source": [
    "y_pred_test = model.predict(x_test, verbose=0)\n",
    "\n",
    "plt.figure(figsize=(10,5))\n",
    "plt.plot(y_pred_test, color='red', label='Prediction')\n",
    "plt.plot(y_test, color='blue', label='Ground Truth')\n",
    "plt.ylabel(\"RUL\")\n",
    "plt.xlabel(\"Unit Number\")\n",
    "plt.legend(loc='upper left')\n",
    "plt.show()\n",
    "plt.savefig('/home/mei/rul/figure/rul_figure.png')"
   ]
  },
  {
   "cell_type": "code",
   "execution_count": null,
   "metadata": {
    "id": "YNN9D1l_vmuJ"
   },
   "outputs": [
    {
     "name": "stdout",
     "output_type": "stream",
     "text": [
      "WARNING:tensorflow:From /usr/local/lib/python3.6/dist-packages/tensorflow/python/training/tracking/tracking.py:111: Model.state_updates (from tensorflow.python.keras.engine.training) is deprecated and will be removed in a future version.\n",
      "Instructions for updating:\n",
      "This property should not be used in TensorFlow 2.0, as updates are applied automatically.\n",
      "WARNING:tensorflow:From /usr/local/lib/python3.6/dist-packages/tensorflow/python/training/tracking/tracking.py:111: Layer.updates (from tensorflow.python.keras.engine.base_layer) is deprecated and will be removed in a future version.\n",
      "Instructions for updating:\n",
      "This property should not be used in TensorFlow 2.0, as updates are applied automatically.\n",
      "INFO:tensorflow:Assets written to: /home/mei/rul/model/lstm_rul.tf/assets\n"
     ]
    }
   ],
   "source": [
    "model.save('/home/mei/rul/model/lstm_rul.tf')"
   ]
  },
  {
   "cell_type": "code",
   "execution_count": null,
   "metadata": {},
   "outputs": [],
   "source": []
  }
 ],
 "metadata": {
  "accelerator": "GPU",
  "colab": {
   "name": "LSTM RUL Prediction.ipynb",
   "provenance": []
  },
  "kernelspec": {
   "display_name": "Python 3",
   "language": "python",
   "name": "python3"
  },
  "language_info": {
   "codemirror_mode": {
    "name": "ipython",
    "version": 3
   },
   "file_extension": ".py",
   "mimetype": "text/x-python",
   "name": "python",
   "nbconvert_exporter": "python",
   "pygments_lexer": "ipython3",
   "version": "3.6.9"
  }
 },
 "nbformat": 4,
 "nbformat_minor": 4
}
