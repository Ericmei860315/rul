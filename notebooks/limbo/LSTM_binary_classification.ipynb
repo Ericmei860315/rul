{
  "nbformat": 4,
  "nbformat_minor": 0,
  "metadata": {
    "kernelspec": {
      "display_name": "Python 3",
      "language": "python",
      "name": "python3"
    },
    "language_info": {
      "codemirror_mode": {
        "name": "ipython",
        "version": 3
      },
      "file_extension": ".py",
      "mimetype": "text/x-python",
      "name": "python",
      "nbconvert_exporter": "python",
      "pygments_lexer": "ipython3",
      "version": "3.7.3"
    },
    "colab": {
      "name": "LSTM - binary classification.ipynb",
      "provenance": [],
      "collapsed_sections": []
    },
    "accelerator": "GPU"
  },
  "cells": [
    {
      "cell_type": "markdown",
      "metadata": {
        "id": "Jk-offVJ3DER"
      },
      "source": [
        "## Aircraft Engine Failure Prediction"
      ]
    },
    {
      "cell_type": "markdown",
      "metadata": {
        "id": "8wX6SgTu3DEc"
      },
      "source": [
        "This file includes steps to build a LSTM Model. Since any deep learning models require many hyperparameters, finding out the perfect architecture is very important. While there is no specific method for model architecture, We can rely on some rule of thumbs."
      ]
    },
    {
      "cell_type": "markdown",
      "metadata": {
        "id": "fM_PYEjM3DEd"
      },
      "source": [
        "I follow tips suggested in this article: https://towardsdatascience.com/17-rules-of-thumb-for-building-a-neural-network-93356f9930af"
      ]
    },
    {
      "cell_type": "markdown",
      "metadata": {
        "id": "1TZHczoc3DEe"
      },
      "source": [
        "### Importing Required Libraries and Data"
      ]
    },
    {
      "cell_type": "code",
      "metadata": {
        "id": "k8RJKrBi3DEf"
      },
      "source": [
        "import pandas as pd\n",
        "import numpy as np\n",
        "\n",
        "#to plot the data\n",
        "import matplotlib.pyplot as plt\n",
        "import seaborn as sns\n",
        "%matplotlib inline\n",
        "import matplotlib as mpl\n",
        "mpl.rcParams.update(mpl.rcParamsDefault)\n",
        "\n",
        "import time\n",
        "import os\n",
        "# os.chdir(\"C:/Data/aircraft/\")\n",
        "\n",
        "from sklearn.preprocessing import MinMaxScaler #to normalize data\n",
        "from sklearn.metrics import classification_report, confusion_matrix, roc_curve\n",
        "from sklearn.metrics import f1_score, roc_auc_score, accuracy_score, precision_score, recall_score\n",
        "\n",
        "#for deep learning\n",
        "import keras\n",
        "import keras.backend as k\n",
        "from keras.models import Sequential\n",
        "from keras.layers import Dense, LSTM, Activation, Masking, Dropout\n",
        "from keras.optimizers import RMSprop, Adam\n",
        "from keras.callbacks import History\n",
        "from keras import callbacks"
      ],
      "execution_count": 1,
      "outputs": []
    },
    {
      "cell_type": "code",
      "metadata": {
        "id": "NAvd2twA3DEg"
      },
      "source": [
        "def prepare_data(drop_cols = True):\n",
        "    dependent_var = ['RUL']\n",
        "    index_columns_names =  [\"UnitNumber\",\"Cycle\"]\n",
        "    operational_settings_columns_names = [\"OpSet\"+str(i) for i in range(1,4)]\n",
        "    sensor_measure_columns_names =[\"SensorMeasure\"+str(i) for i in range(1,22)]\n",
        "    input_file_column_names = index_columns_names + operational_settings_columns_names + sensor_measure_columns_names\n",
        "\n",
        "    cols_to_drop = ['OpSet3', 'SensorMeasure1', 'SensorMeasure5', 'SensorMeasure6', 'SensorMeasure10', 'SensorMeasure14',\n",
        "     'SensorMeasure16', 'SensorMeasure18', 'SensorMeasure19']\n",
        "\n",
        "    df_train = pd.read_csv('https://raw.githubusercontent.com/ericlrf/rul/main/CMAPSSData/train_FD001.txt',delim_whitespace=True,names=input_file_column_names)\n",
        "\n",
        "    rul = pd.DataFrame(df_train.groupby('UnitNumber')['Cycle'].max()).reset_index()\n",
        "    rul.columns = ['UnitNumber', 'max']\n",
        "    df_train = df_train.merge(rul, on=['UnitNumber'], how='left')\n",
        "    df_train['RUL'] = df_train['max'] - df_train['Cycle']\n",
        "    df_train.drop('max', axis=1, inplace=True)\n",
        "\n",
        "    df_test = pd.read_csv('https://raw.githubusercontent.com/ericlrf/rul/main/CMAPSSData/test_FD001.txt', delim_whitespace=True, names=input_file_column_names)\n",
        "    \n",
        "    if(drop_cols == True):\n",
        "        df_train = df_train.drop(cols_to_drop, axis = 1)\n",
        "        df_test = df_test.drop(cols_to_drop, axis = 1)\n",
        "\n",
        "    y_true = pd.read_csv('https://raw.githubusercontent.com/ericlrf/rul/main/CMAPSSData/RUL_FD001.txt', delim_whitespace=True,names=[\"RUL\"])\n",
        "    y_true[\"UnitNumber\"] = y_true.index\n",
        "    \n",
        "    return df_train, df_test, y_true"
      ],
      "execution_count": 2,
      "outputs": []
    },
    {
      "cell_type": "code",
      "metadata": {
        "colab": {
          "base_uri": "https://localhost:8080/"
        },
        "id": "-7W2ukxm3DEh",
        "outputId": "f3bf0e0f-832f-4ce4-edb3-0b4ab604ff6e"
      },
      "source": [
        "df_train, df_test, y_true = prepare_data()\n",
        "df_train.shape, df_test.shape, y_true.shape"
      ],
      "execution_count": 3,
      "outputs": [
        {
          "output_type": "execute_result",
          "data": {
            "text/plain": [
              "((20631, 18), (13096, 17), (100, 2))"
            ]
          },
          "metadata": {
            "tags": []
          },
          "execution_count": 3
        }
      ]
    },
    {
      "cell_type": "code",
      "metadata": {
        "id": "xt7Cu4Hg3DEj"
      },
      "source": [
        "feats = df_train.columns.drop(['UnitNumber', 'Cycle', 'RUL'])"
      ],
      "execution_count": 4,
      "outputs": []
    },
    {
      "cell_type": "code",
      "metadata": {
        "id": "PnbT46ir3DEj"
      },
      "source": [
        "min_max_scaler = MinMaxScaler(feature_range=(-1,1))\n",
        "\n",
        "df_train[feats] = min_max_scaler.fit_transform(df_train[feats])\n",
        "df_test[feats] = min_max_scaler.transform(df_test[feats])"
      ],
      "execution_count": 5,
      "outputs": []
    },
    {
      "cell_type": "code",
      "metadata": {
        "id": "FYcveNBe3DEk"
      },
      "source": [
        "df_train['failure'] = [1 if i < 50 else 0 for i in df_train.RUL]\n",
        "y_true['failure'] = [1 if i < 50 else 0 for i in y_true.RUL]"
      ],
      "execution_count": 6,
      "outputs": []
    },
    {
      "cell_type": "code",
      "metadata": {
        "scrolled": true,
        "colab": {
          "base_uri": "https://localhost:8080/",
          "height": 224
        },
        "id": "nC2eYkA73DEk",
        "outputId": "ead626bf-7d83-4b97-fd34-d47a4ea93028"
      },
      "source": [
        "df_train.head()"
      ],
      "execution_count": 7,
      "outputs": [
        {
          "output_type": "execute_result",
          "data": {
            "text/html": [
              "<div>\n",
              "<style scoped>\n",
              "    .dataframe tbody tr th:only-of-type {\n",
              "        vertical-align: middle;\n",
              "    }\n",
              "\n",
              "    .dataframe tbody tr th {\n",
              "        vertical-align: top;\n",
              "    }\n",
              "\n",
              "    .dataframe thead th {\n",
              "        text-align: right;\n",
              "    }\n",
              "</style>\n",
              "<table border=\"1\" class=\"dataframe\">\n",
              "  <thead>\n",
              "    <tr style=\"text-align: right;\">\n",
              "      <th></th>\n",
              "      <th>UnitNumber</th>\n",
              "      <th>Cycle</th>\n",
              "      <th>OpSet1</th>\n",
              "      <th>OpSet2</th>\n",
              "      <th>SensorMeasure2</th>\n",
              "      <th>SensorMeasure3</th>\n",
              "      <th>SensorMeasure4</th>\n",
              "      <th>SensorMeasure7</th>\n",
              "      <th>SensorMeasure8</th>\n",
              "      <th>SensorMeasure9</th>\n",
              "      <th>SensorMeasure11</th>\n",
              "      <th>SensorMeasure12</th>\n",
              "      <th>SensorMeasure13</th>\n",
              "      <th>SensorMeasure15</th>\n",
              "      <th>SensorMeasure17</th>\n",
              "      <th>SensorMeasure20</th>\n",
              "      <th>SensorMeasure21</th>\n",
              "      <th>RUL</th>\n",
              "      <th>failure</th>\n",
              "    </tr>\n",
              "  </thead>\n",
              "  <tbody>\n",
              "    <tr>\n",
              "      <th>0</th>\n",
              "      <td>1</td>\n",
              "      <td>1</td>\n",
              "      <td>-0.080460</td>\n",
              "      <td>-0.666667</td>\n",
              "      <td>-0.632530</td>\n",
              "      <td>-0.186396</td>\n",
              "      <td>-0.380486</td>\n",
              "      <td>0.452496</td>\n",
              "      <td>-0.515152</td>\n",
              "      <td>-0.780490</td>\n",
              "      <td>-0.261905</td>\n",
              "      <td>0.266525</td>\n",
              "      <td>-0.588235</td>\n",
              "      <td>-0.272028</td>\n",
              "      <td>-0.333333</td>\n",
              "      <td>0.426357</td>\n",
              "      <td>0.449323</td>\n",
              "      <td>191</td>\n",
              "      <td>0</td>\n",
              "    </tr>\n",
              "    <tr>\n",
              "      <th>1</th>\n",
              "      <td>1</td>\n",
              "      <td>2</td>\n",
              "      <td>0.218391</td>\n",
              "      <td>-0.500000</td>\n",
              "      <td>-0.433735</td>\n",
              "      <td>-0.093961</td>\n",
              "      <td>-0.294733</td>\n",
              "      <td>0.256039</td>\n",
              "      <td>-0.575758</td>\n",
              "      <td>-0.799515</td>\n",
              "      <td>-0.238095</td>\n",
              "      <td>0.530917</td>\n",
              "      <td>-0.441176</td>\n",
              "      <td>-0.177376</td>\n",
              "      <td>-0.333333</td>\n",
              "      <td>0.333333</td>\n",
              "      <td>0.462027</td>\n",
              "      <td>190</td>\n",
              "      <td>0</td>\n",
              "    </tr>\n",
              "    <tr>\n",
              "      <th>2</th>\n",
              "      <td>1</td>\n",
              "      <td>3</td>\n",
              "      <td>-0.494253</td>\n",
              "      <td>0.500000</td>\n",
              "      <td>-0.313253</td>\n",
              "      <td>-0.260955</td>\n",
              "      <td>-0.258947</td>\n",
              "      <td>0.420290</td>\n",
              "      <td>-0.454545</td>\n",
              "      <td>-0.719914</td>\n",
              "      <td>-0.500000</td>\n",
              "      <td>0.590618</td>\n",
              "      <td>-0.558824</td>\n",
              "      <td>-0.285110</td>\n",
              "      <td>-0.666667</td>\n",
              "      <td>0.255814</td>\n",
              "      <td>0.242751</td>\n",
              "      <td>189</td>\n",
              "      <td>0</td>\n",
              "    </tr>\n",
              "    <tr>\n",
              "      <th>3</th>\n",
              "      <td>1</td>\n",
              "      <td>4</td>\n",
              "      <td>0.080460</td>\n",
              "      <td>0.000000</td>\n",
              "      <td>-0.313253</td>\n",
              "      <td>-0.487683</td>\n",
              "      <td>-0.337610</td>\n",
              "      <td>0.481481</td>\n",
              "      <td>-0.363636</td>\n",
              "      <td>-0.750965</td>\n",
              "      <td>-0.666667</td>\n",
              "      <td>0.778252</td>\n",
              "      <td>-0.411765</td>\n",
              "      <td>-0.666795</td>\n",
              "      <td>-0.333333</td>\n",
              "      <td>0.147287</td>\n",
              "      <td>0.324772</td>\n",
              "      <td>188</td>\n",
              "      <td>0</td>\n",
              "    </tr>\n",
              "    <tr>\n",
              "      <th>4</th>\n",
              "      <td>1</td>\n",
              "      <td>5</td>\n",
              "      <td>-0.218391</td>\n",
              "      <td>-0.333333</td>\n",
              "      <td>-0.301205</td>\n",
              "      <td>-0.485066</td>\n",
              "      <td>-0.190749</td>\n",
              "      <td>0.336554</td>\n",
              "      <td>-0.515152</td>\n",
              "      <td>-0.700081</td>\n",
              "      <td>-0.488095</td>\n",
              "      <td>0.492537</td>\n",
              "      <td>-0.529412</td>\n",
              "      <td>-0.195845</td>\n",
              "      <td>-0.166667</td>\n",
              "      <td>0.178295</td>\n",
              "      <td>0.409003</td>\n",
              "      <td>187</td>\n",
              "      <td>0</td>\n",
              "    </tr>\n",
              "  </tbody>\n",
              "</table>\n",
              "</div>"
            ],
            "text/plain": [
              "   UnitNumber  Cycle    OpSet1  ...  SensorMeasure21  RUL  failure\n",
              "0           1      1 -0.080460  ...         0.449323  191        0\n",
              "1           1      2  0.218391  ...         0.462027  190        0\n",
              "2           1      3 -0.494253  ...         0.242751  189        0\n",
              "3           1      4  0.080460  ...         0.324772  188        0\n",
              "4           1      5 -0.218391  ...         0.409003  187        0\n",
              "\n",
              "[5 rows x 19 columns]"
            ]
          },
          "metadata": {
            "tags": []
          },
          "execution_count": 7
        }
      ]
    },
    {
      "cell_type": "code",
      "metadata": {
        "colab": {
          "base_uri": "https://localhost:8080/",
          "height": 224
        },
        "id": "Rrwjci0V3DEl",
        "outputId": "5bd0cd83-9023-459f-ee65-041913b2abf7"
      },
      "source": [
        "df_test.head()"
      ],
      "execution_count": 8,
      "outputs": [
        {
          "output_type": "execute_result",
          "data": {
            "text/html": [
              "<div>\n",
              "<style scoped>\n",
              "    .dataframe tbody tr th:only-of-type {\n",
              "        vertical-align: middle;\n",
              "    }\n",
              "\n",
              "    .dataframe tbody tr th {\n",
              "        vertical-align: top;\n",
              "    }\n",
              "\n",
              "    .dataframe thead th {\n",
              "        text-align: right;\n",
              "    }\n",
              "</style>\n",
              "<table border=\"1\" class=\"dataframe\">\n",
              "  <thead>\n",
              "    <tr style=\"text-align: right;\">\n",
              "      <th></th>\n",
              "      <th>UnitNumber</th>\n",
              "      <th>Cycle</th>\n",
              "      <th>OpSet1</th>\n",
              "      <th>OpSet2</th>\n",
              "      <th>SensorMeasure2</th>\n",
              "      <th>SensorMeasure3</th>\n",
              "      <th>SensorMeasure4</th>\n",
              "      <th>SensorMeasure7</th>\n",
              "      <th>SensorMeasure8</th>\n",
              "      <th>SensorMeasure9</th>\n",
              "      <th>SensorMeasure11</th>\n",
              "      <th>SensorMeasure12</th>\n",
              "      <th>SensorMeasure13</th>\n",
              "      <th>SensorMeasure15</th>\n",
              "      <th>SensorMeasure17</th>\n",
              "      <th>SensorMeasure20</th>\n",
              "      <th>SensorMeasure21</th>\n",
              "    </tr>\n",
              "  </thead>\n",
              "  <tbody>\n",
              "    <tr>\n",
              "      <th>0</th>\n",
              "      <td>1</td>\n",
              "      <td>1</td>\n",
              "      <td>0.264368</td>\n",
              "      <td>0.500000</td>\n",
              "      <td>0.090361</td>\n",
              "      <td>-0.378679</td>\n",
              "      <td>-0.461175</td>\n",
              "      <td>0.304348</td>\n",
              "      <td>-0.575758</td>\n",
              "      <td>-0.744773</td>\n",
              "      <td>-0.583333</td>\n",
              "      <td>0.292111</td>\n",
              "      <td>-0.558824</td>\n",
              "      <td>-0.382070</td>\n",
              "      <td>-0.333333</td>\n",
              "      <td>0.116279</td>\n",
              "      <td>0.323667</td>\n",
              "    </tr>\n",
              "    <tr>\n",
              "      <th>1</th>\n",
              "      <td>1</td>\n",
              "      <td>2</td>\n",
              "      <td>-0.310345</td>\n",
              "      <td>-0.500000</td>\n",
              "      <td>-0.698795</td>\n",
              "      <td>-0.240898</td>\n",
              "      <td>-0.555368</td>\n",
              "      <td>0.610306</td>\n",
              "      <td>-0.666667</td>\n",
              "      <td>-0.706632</td>\n",
              "      <td>-0.226190</td>\n",
              "      <td>0.479744</td>\n",
              "      <td>-0.470588</td>\n",
              "      <td>-0.573682</td>\n",
              "      <td>-0.166667</td>\n",
              "      <td>0.364341</td>\n",
              "      <td>0.373654</td>\n",
              "    </tr>\n",
              "    <tr>\n",
              "      <th>2</th>\n",
              "      <td>1</td>\n",
              "      <td>3</td>\n",
              "      <td>0.034483</td>\n",
              "      <td>0.166667</td>\n",
              "      <td>-0.246988</td>\n",
              "      <td>-0.306736</td>\n",
              "      <td>-0.355503</td>\n",
              "      <td>0.371981</td>\n",
              "      <td>-0.545455</td>\n",
              "      <td>-0.683837</td>\n",
              "      <td>-0.226190</td>\n",
              "      <td>0.398721</td>\n",
              "      <td>-0.558824</td>\n",
              "      <td>-0.082724</td>\n",
              "      <td>-0.166667</td>\n",
              "      <td>0.457364</td>\n",
              "      <td>0.442695</td>\n",
              "    </tr>\n",
              "    <tr>\n",
              "      <th>3</th>\n",
              "      <td>1</td>\n",
              "      <td>4</td>\n",
              "      <td>0.482759</td>\n",
              "      <td>0.000000</td>\n",
              "      <td>-0.259036</td>\n",
              "      <td>-0.429693</td>\n",
              "      <td>-0.183997</td>\n",
              "      <td>0.359098</td>\n",
              "      <td>-0.606061</td>\n",
              "      <td>-0.788567</td>\n",
              "      <td>-0.488095</td>\n",
              "      <td>0.147122</td>\n",
              "      <td>-0.500000</td>\n",
              "      <td>-0.485956</td>\n",
              "      <td>-0.500000</td>\n",
              "      <td>0.333333</td>\n",
              "      <td>0.324220</td>\n",
              "    </tr>\n",
              "    <tr>\n",
              "      <th>4</th>\n",
              "      <td>1</td>\n",
              "      <td>5</td>\n",
              "      <td>0.160920</td>\n",
              "      <td>0.000000</td>\n",
              "      <td>-0.216867</td>\n",
              "      <td>-0.295836</td>\n",
              "      <td>-0.335922</td>\n",
              "      <td>0.388084</td>\n",
              "      <td>-0.666667</td>\n",
              "      <td>-0.795208</td>\n",
              "      <td>-0.452381</td>\n",
              "      <td>0.475480</td>\n",
              "      <td>-0.558824</td>\n",
              "      <td>-0.398230</td>\n",
              "      <td>-0.666667</td>\n",
              "      <td>0.317829</td>\n",
              "      <td>0.432753</td>\n",
              "    </tr>\n",
              "  </tbody>\n",
              "</table>\n",
              "</div>"
            ],
            "text/plain": [
              "   UnitNumber  Cycle  ...  SensorMeasure20  SensorMeasure21\n",
              "0           1      1  ...         0.116279         0.323667\n",
              "1           1      2  ...         0.364341         0.373654\n",
              "2           1      3  ...         0.457364         0.442695\n",
              "3           1      4  ...         0.333333         0.324220\n",
              "4           1      5  ...         0.317829         0.432753\n",
              "\n",
              "[5 rows x 17 columns]"
            ]
          },
          "metadata": {
            "tags": []
          },
          "execution_count": 8
        }
      ]
    },
    {
      "cell_type": "code",
      "metadata": {
        "colab": {
          "base_uri": "https://localhost:8080/",
          "height": 204
        },
        "id": "JVzYhM-G3DEl",
        "outputId": "1520eec8-b8ea-4d5d-a6ee-ae6b1932abad"
      },
      "source": [
        "y_true.head()"
      ],
      "execution_count": 9,
      "outputs": [
        {
          "output_type": "execute_result",
          "data": {
            "text/html": [
              "<div>\n",
              "<style scoped>\n",
              "    .dataframe tbody tr th:only-of-type {\n",
              "        vertical-align: middle;\n",
              "    }\n",
              "\n",
              "    .dataframe tbody tr th {\n",
              "        vertical-align: top;\n",
              "    }\n",
              "\n",
              "    .dataframe thead th {\n",
              "        text-align: right;\n",
              "    }\n",
              "</style>\n",
              "<table border=\"1\" class=\"dataframe\">\n",
              "  <thead>\n",
              "    <tr style=\"text-align: right;\">\n",
              "      <th></th>\n",
              "      <th>RUL</th>\n",
              "      <th>UnitNumber</th>\n",
              "      <th>failure</th>\n",
              "    </tr>\n",
              "  </thead>\n",
              "  <tbody>\n",
              "    <tr>\n",
              "      <th>0</th>\n",
              "      <td>112</td>\n",
              "      <td>0</td>\n",
              "      <td>0</td>\n",
              "    </tr>\n",
              "    <tr>\n",
              "      <th>1</th>\n",
              "      <td>98</td>\n",
              "      <td>1</td>\n",
              "      <td>0</td>\n",
              "    </tr>\n",
              "    <tr>\n",
              "      <th>2</th>\n",
              "      <td>69</td>\n",
              "      <td>2</td>\n",
              "      <td>0</td>\n",
              "    </tr>\n",
              "    <tr>\n",
              "      <th>3</th>\n",
              "      <td>82</td>\n",
              "      <td>3</td>\n",
              "      <td>0</td>\n",
              "    </tr>\n",
              "    <tr>\n",
              "      <th>4</th>\n",
              "      <td>91</td>\n",
              "      <td>4</td>\n",
              "      <td>0</td>\n",
              "    </tr>\n",
              "  </tbody>\n",
              "</table>\n",
              "</div>"
            ],
            "text/plain": [
              "   RUL  UnitNumber  failure\n",
              "0  112           0        0\n",
              "1   98           1        0\n",
              "2   69           2        0\n",
              "3   82           3        0\n",
              "4   91           4        0"
            ]
          },
          "metadata": {
            "tags": []
          },
          "execution_count": 9
        }
      ]
    },
    {
      "cell_type": "markdown",
      "metadata": {
        "id": "8mYdyW3N3DEm"
      },
      "source": [
        "\n",
        "LSTM expects an input in the shape of a numpy array of 3 dimensions and I will need to convert train and test data accordingly."
      ]
    },
    {
      "cell_type": "code",
      "metadata": {
        "id": "z49AetPu3DEm"
      },
      "source": [
        "def gen_train(id_df, seq_length, seq_cols):\n",
        "    \"\"\"\n",
        "        function to prepare train data into (samples, time steps, features)\n",
        "        id_df = train dataframe\n",
        "        seq_length = look back period\n",
        "        seq_cols = feature columns\n",
        "    \"\"\"\n",
        "        \n",
        "    data_array = id_df[seq_cols].values\n",
        "    num_elements = data_array.shape[0]\n",
        "    lstm_array=[]\n",
        "    \n",
        "    for start, stop in zip(range(0, num_elements-seq_length+1), range(seq_length, num_elements+1)):\n",
        "        lstm_array.append(data_array[start:stop, :])\n",
        "    \n",
        "    return np.array(lstm_array)"
      ],
      "execution_count": 10,
      "outputs": []
    },
    {
      "cell_type": "code",
      "metadata": {
        "id": "EUPHM9Du3DEn"
      },
      "source": [
        "def gen_target(id_df, seq_length, label):\n",
        "    data_array = id_df[label].values\n",
        "    num_elements = data_array.shape[0]\n",
        "    return data_array[seq_length-1:num_elements+1]"
      ],
      "execution_count": 11,
      "outputs": []
    },
    {
      "cell_type": "code",
      "metadata": {
        "id": "2P4Tymim3DEo"
      },
      "source": [
        "def gen_test(id_df, seq_length, seq_cols, mask_value):\n",
        "    \"\"\"\n",
        "        function to prepare test data into (samples, time steps, features)\n",
        "        function only returns last sequence of data for every unit\n",
        "        id_df = test dataframe\n",
        "        seq_length = look back period\n",
        "        seq_cols = feature columns\n",
        "    \"\"\"\n",
        "    df_mask = pd.DataFrame(np.zeros((seq_length-1,id_df.shape[1])),columns=id_df.columns)\n",
        "    df_mask[:] = mask_value\n",
        "    \n",
        "    id_df = df_mask.append(id_df,ignore_index=True)\n",
        "    \n",
        "    data_array = id_df[seq_cols].values\n",
        "    num_elements = data_array.shape[0]\n",
        "    lstm_array=[]\n",
        "    \n",
        "    start = num_elements-seq_length\n",
        "    stop = num_elements\n",
        "    \n",
        "    lstm_array.append(data_array[start:stop, :])\n",
        "    \n",
        "    return np.array(lstm_array)"
      ],
      "execution_count": 12,
      "outputs": []
    },
    {
      "cell_type": "markdown",
      "metadata": {
        "id": "xY5U6Rhl3DEo"
      },
      "source": [
        "\n",
        "Let's define look back period and mask_value"
      ]
    },
    {
      "cell_type": "code",
      "metadata": {
        "id": "w5AU5rnG3DEp"
      },
      "source": [
        "sequence_length = 50 #predicting using last 30 cycle values\n",
        "mask_value = 0"
      ],
      "execution_count": 13,
      "outputs": []
    },
    {
      "cell_type": "markdown",
      "metadata": {
        "id": "qaAFYXYQ3DEp"
      },
      "source": [
        "\n",
        "Let's prepare data using above functions."
      ]
    },
    {
      "cell_type": "code",
      "metadata": {
        "colab": {
          "base_uri": "https://localhost:8080/"
        },
        "id": "OBHxc8Pt3DEp",
        "outputId": "9ebdc043-487b-4033-85b7-72552507a6b2"
      },
      "source": [
        "#generate train\n",
        "x_train=np.concatenate(list(list(gen_train(df_train[df_train['UnitNumber']==unit], sequence_length, feats)) for unit in df_train['UnitNumber'].unique()))\n",
        "print(x_train.shape)"
      ],
      "execution_count": 14,
      "outputs": [
        {
          "output_type": "stream",
          "text": [
            "(15731, 50, 15)\n"
          ],
          "name": "stdout"
        }
      ]
    },
    {
      "cell_type": "code",
      "metadata": {
        "scrolled": true,
        "colab": {
          "base_uri": "https://localhost:8080/"
        },
        "id": "-VaDBZlo3DEq",
        "outputId": "e1164f1a-320a-45a2-ca84-9302794d24b3"
      },
      "source": [
        "#generate target of train\n",
        "y_train = np.concatenate(list(list(gen_target(df_train[df_train['UnitNumber']==unit], sequence_length, \"failure\")) for unit in df_train['UnitNumber'].unique()))\n",
        "y_train.shape"
      ],
      "execution_count": 15,
      "outputs": [
        {
          "output_type": "execute_result",
          "data": {
            "text/plain": [
              "(15731,)"
            ]
          },
          "metadata": {
            "tags": []
          },
          "execution_count": 15
        }
      ]
    },
    {
      "cell_type": "code",
      "metadata": {
        "colab": {
          "base_uri": "https://localhost:8080/"
        },
        "id": "ktS76fPF3DEr",
        "outputId": "7ef9d4fe-1bd2-493c-a077-5e162deca1b5"
      },
      "source": [
        "#generate test\n",
        "x_test=np.concatenate(list(list(gen_test(df_test[df_test['UnitNumber']==unit], sequence_length, feats, mask_value)) for unit in df_test['UnitNumber'].unique()))\n",
        "print(x_test.shape)"
      ],
      "execution_count": 16,
      "outputs": [
        {
          "output_type": "stream",
          "text": [
            "(100, 50, 15)\n"
          ],
          "name": "stdout"
        }
      ]
    },
    {
      "cell_type": "code",
      "metadata": {
        "colab": {
          "base_uri": "https://localhost:8080/"
        },
        "id": "mlEfQ-jU3DEr",
        "outputId": "5df7d76d-b540-463f-9a1a-67c446faa830"
      },
      "source": [
        "#true target of test \n",
        "y_test = y_true.RUL.values\n",
        "y_test.shape"
      ],
      "execution_count": 17,
      "outputs": [
        {
          "output_type": "execute_result",
          "data": {
            "text/plain": [
              "(100,)"
            ]
          },
          "metadata": {
            "tags": []
          },
          "execution_count": 17
        }
      ]
    },
    {
      "cell_type": "code",
      "metadata": {
        "id": "y54QCJh93DEt"
      },
      "source": [
        "nb_features = x_train.shape[2]\n",
        "nb_out = 1"
      ],
      "execution_count": 18,
      "outputs": []
    },
    {
      "cell_type": "code",
      "metadata": {
        "colab": {
          "base_uri": "https://localhost:8080/"
        },
        "id": "B5ser9TK3DEt",
        "outputId": "3b317233-4168-4cda-d680-20a1e24be7ef"
      },
      "source": [
        "nb_features"
      ],
      "execution_count": 19,
      "outputs": [
        {
          "output_type": "execute_result",
          "data": {
            "text/plain": [
              "15"
            ]
          },
          "metadata": {
            "tags": []
          },
          "execution_count": 19
        }
      ]
    },
    {
      "cell_type": "code",
      "metadata": {
        "id": "eZ9Vh90v3DEu"
      },
      "source": [
        "class_0 = pd.Series(y_train).value_counts()[0]\n",
        "class_1 = pd.Series(y_train).value_counts()[1]\n",
        "total = class_0 + class_1\n",
        "\n",
        "cls_wt = {0: class_1/total, 1: class_0/total}"
      ],
      "execution_count": 20,
      "outputs": []
    },
    {
      "cell_type": "code",
      "metadata": {
        "colab": {
          "base_uri": "https://localhost:8080/"
        },
        "id": "VdC2kRko3DEu",
        "outputId": "47a948e3-2863-4a36-c138-6d215e127a2b"
      },
      "source": [
        "cls_wt"
      ],
      "execution_count": 21,
      "outputs": [
        {
          "output_type": "execute_result",
          "data": {
            "text/plain": [
              "{0: 0.3178437480134766, 1: 0.6821562519865234}"
            ]
          },
          "metadata": {
            "tags": []
          },
          "execution_count": 21
        }
      ]
    },
    {
      "cell_type": "markdown",
      "metadata": {
        "id": "Nf50UELp3DEv"
      },
      "source": [
        "### Function to Print Results"
      ]
    },
    {
      "cell_type": "code",
      "metadata": {
        "id": "kfNSZHYa3DEv"
      },
      "source": [
        "def print_results(y_test, y_pred):\n",
        "    \n",
        "    #f1-score\n",
        "    f1 = f1_score(y_test, y_pred)\n",
        "    print(\"F1 Score: \", f1)\n",
        "    print(classification_report(y_true.failure, y_pred))\n",
        "    \n",
        "    conf_matrix = confusion_matrix(y_test, y_pred)\n",
        "    plt.figure(figsize=(12,12))\n",
        "    plt.subplot(221)\n",
        "    sns.heatmap(conf_matrix, fmt = \"d\",annot=True, cmap='Blues')\n",
        "    b, t = plt.ylim()\n",
        "    plt.ylim(b + 0.5, t - 0.5)\n",
        "    plt.title('Confuion Matrix')\n",
        "    plt.ylabel('True Values')\n",
        "    plt.xlabel('Predicted Values')\n",
        "\n",
        "    #roc_auc_score\n",
        "    model_roc_auc = roc_auc_score(y_test, y_pred) \n",
        "    print (\"Area under curve : \",model_roc_auc,\"\\n\")\n",
        "    fpr,tpr,thresholds = roc_curve(y_test, y_pred)\n",
        "    gmeans = np.sqrt(tpr * (1-fpr))\n",
        "    ix = np.argmax(gmeans)\n",
        "    threshold = np.round(thresholds[ix],3)\n",
        "\n",
        "    plt.subplot(222)\n",
        "    plt.plot(fpr, tpr, color='darkorange', lw=1, label = \"Auc : %.3f\" %model_roc_auc)\n",
        "    plt.plot([0, 1], [0, 1], color='navy', lw=2, linestyle='--')\n",
        "    plt.scatter(fpr[ix], tpr[ix], marker='o', color='black', label='Best Threshold:' + str(threshold))\n",
        "    plt.xlim([0.0, 1.0])\n",
        "    plt.ylim([0.0, 1.05])\n",
        "    plt.xlabel('False Positive Rate')\n",
        "    plt.ylabel('True Positive Rate')\n",
        "    plt.title('Receiver operating characteristic')\n",
        "    plt.legend(loc=\"lower right\")"
      ],
      "execution_count": 22,
      "outputs": []
    },
    {
      "cell_type": "markdown",
      "metadata": {
        "id": "IhRjm7js3DEv"
      },
      "source": [
        "### Model with 1 hidden layer"
      ]
    },
    {
      "cell_type": "markdown",
      "metadata": {
        "id": "9Iy7ff813DEw"
      },
      "source": [
        "#### Model 1"
      ]
    },
    {
      "cell_type": "code",
      "metadata": {
        "colab": {
          "base_uri": "https://localhost:8080/"
        },
        "id": "uCqNPvEM3DEw",
        "outputId": "a9b5758c-07f5-4629-d0a5-d0a479f1468f"
      },
      "source": [
        "history = History()\n",
        "\n",
        "model1 = Sequential()\n",
        "model1.add(LSTM(\n",
        "         units=4,\n",
        "         return_sequences=False,\n",
        "         input_shape=(sequence_length, nb_features)))\n",
        "model1.add(Dense(units=1, activation='sigmoid'))\n",
        "model1.compile(loss=\"binary_crossentropy\", optimizer=\"adam\", metrics=['accuracy'])\n",
        "\n",
        "model1.summary()"
      ],
      "execution_count": 23,
      "outputs": [
        {
          "output_type": "stream",
          "text": [
            "Model: \"sequential\"\n",
            "_________________________________________________________________\n",
            "Layer (type)                 Output Shape              Param #   \n",
            "=================================================================\n",
            "lstm (LSTM)                  (None, 4)                 320       \n",
            "_________________________________________________________________\n",
            "dense (Dense)                (None, 1)                 5         \n",
            "=================================================================\n",
            "Total params: 325\n",
            "Trainable params: 325\n",
            "Non-trainable params: 0\n",
            "_________________________________________________________________\n"
          ],
          "name": "stdout"
        }
      ]
    },
    {
      "cell_type": "code",
      "metadata": {
        "scrolled": true,
        "colab": {
          "base_uri": "https://localhost:8080/"
        },
        "id": "pQT1idcj3DEx",
        "outputId": "5825f5cd-48f6-4700-83e8-5355afe9f3cf"
      },
      "source": [
        "%%time\n",
        "# fit the model\n",
        "model1.fit(x_train, y_train, epochs=100, batch_size=64, validation_split=0.1, verbose=1, class_weight = cls_wt,\n",
        "          callbacks = [history])"
      ],
      "execution_count": 24,
      "outputs": [
        {
          "output_type": "stream",
          "text": [
            "Epoch 1/100\n",
            "222/222 [==============================] - 8s 25ms/step - loss: 0.2404 - accuracy: 0.8448 - val_loss: 0.3559 - val_accuracy: 0.8869\n",
            "Epoch 2/100\n",
            "222/222 [==============================] - 4s 20ms/step - loss: 0.1502 - accuracy: 0.8885 - val_loss: 0.2979 - val_accuracy: 0.8844\n",
            "Epoch 3/100\n",
            "222/222 [==============================] - 4s 20ms/step - loss: 0.1190 - accuracy: 0.9007 - val_loss: 0.2745 - val_accuracy: 0.8882\n",
            "Epoch 4/100\n",
            "222/222 [==============================] - 4s 20ms/step - loss: 0.1034 - accuracy: 0.9110 - val_loss: 0.2513 - val_accuracy: 0.9034\n",
            "Epoch 5/100\n",
            "222/222 [==============================] - 4s 20ms/step - loss: 0.0933 - accuracy: 0.9243 - val_loss: 0.2241 - val_accuracy: 0.9155\n",
            "Epoch 6/100\n",
            "222/222 [==============================] - 4s 20ms/step - loss: 0.0782 - accuracy: 0.9401 - val_loss: 0.2142 - val_accuracy: 0.9225\n",
            "Epoch 7/100\n",
            "222/222 [==============================] - 4s 19ms/step - loss: 0.0749 - accuracy: 0.9410 - val_loss: 0.1835 - val_accuracy: 0.9231\n",
            "Epoch 8/100\n",
            "222/222 [==============================] - 4s 20ms/step - loss: 0.0680 - accuracy: 0.9482 - val_loss: 0.1887 - val_accuracy: 0.9288\n",
            "Epoch 9/100\n",
            "222/222 [==============================] - 4s 20ms/step - loss: 0.0645 - accuracy: 0.9510 - val_loss: 0.1844 - val_accuracy: 0.9346\n",
            "Epoch 10/100\n",
            "222/222 [==============================] - 4s 20ms/step - loss: 0.0615 - accuracy: 0.9520 - val_loss: 0.1520 - val_accuracy: 0.9435\n",
            "Epoch 11/100\n",
            "222/222 [==============================] - 4s 20ms/step - loss: 0.0602 - accuracy: 0.9514 - val_loss: 0.1859 - val_accuracy: 0.9307\n",
            "Epoch 12/100\n",
            "222/222 [==============================] - 4s 19ms/step - loss: 0.0569 - accuracy: 0.9545 - val_loss: 0.1731 - val_accuracy: 0.9409\n",
            "Epoch 13/100\n",
            "222/222 [==============================] - 4s 20ms/step - loss: 0.0575 - accuracy: 0.9537 - val_loss: 0.1552 - val_accuracy: 0.9485\n",
            "Epoch 14/100\n",
            "222/222 [==============================] - 4s 20ms/step - loss: 0.0549 - accuracy: 0.9569 - val_loss: 0.1296 - val_accuracy: 0.9568\n",
            "Epoch 15/100\n",
            "222/222 [==============================] - 4s 20ms/step - loss: 0.0545 - accuracy: 0.9545 - val_loss: 0.1674 - val_accuracy: 0.9460\n",
            "Epoch 16/100\n",
            "222/222 [==============================] - 4s 20ms/step - loss: 0.0513 - accuracy: 0.9576 - val_loss: 0.1475 - val_accuracy: 0.9479\n",
            "Epoch 17/100\n",
            "222/222 [==============================] - 4s 20ms/step - loss: 0.0540 - accuracy: 0.9526 - val_loss: 0.1688 - val_accuracy: 0.9403\n",
            "Epoch 18/100\n",
            "222/222 [==============================] - 4s 20ms/step - loss: 0.0498 - accuracy: 0.9576 - val_loss: 0.1580 - val_accuracy: 0.9377\n",
            "Epoch 19/100\n",
            "222/222 [==============================] - 4s 20ms/step - loss: 0.0471 - accuracy: 0.9585 - val_loss: 0.1605 - val_accuracy: 0.9447\n",
            "Epoch 20/100\n",
            "222/222 [==============================] - 4s 19ms/step - loss: 0.0472 - accuracy: 0.9588 - val_loss: 0.2013 - val_accuracy: 0.9219\n",
            "Epoch 21/100\n",
            "222/222 [==============================] - 4s 19ms/step - loss: 0.0468 - accuracy: 0.9598 - val_loss: 0.1556 - val_accuracy: 0.9416\n",
            "Epoch 22/100\n",
            "222/222 [==============================] - 4s 19ms/step - loss: 0.0457 - accuracy: 0.9606 - val_loss: 0.1948 - val_accuracy: 0.9238\n",
            "Epoch 23/100\n",
            "222/222 [==============================] - 4s 20ms/step - loss: 0.0449 - accuracy: 0.9600 - val_loss: 0.2167 - val_accuracy: 0.9199\n",
            "Epoch 24/100\n",
            "222/222 [==============================] - 4s 19ms/step - loss: 0.0425 - accuracy: 0.9634 - val_loss: 0.1484 - val_accuracy: 0.9384\n",
            "Epoch 25/100\n",
            "222/222 [==============================] - 4s 20ms/step - loss: 0.0452 - accuracy: 0.9583 - val_loss: 0.1474 - val_accuracy: 0.9479\n",
            "Epoch 26/100\n",
            "222/222 [==============================] - 5s 22ms/step - loss: 0.0435 - accuracy: 0.9599 - val_loss: 0.1762 - val_accuracy: 0.9288\n",
            "Epoch 27/100\n",
            "222/222 [==============================] - 5s 22ms/step - loss: 0.0412 - accuracy: 0.9626 - val_loss: 0.1716 - val_accuracy: 0.9346\n",
            "Epoch 28/100\n",
            "222/222 [==============================] - 4s 19ms/step - loss: 0.0450 - accuracy: 0.9611 - val_loss: 0.1836 - val_accuracy: 0.9320\n",
            "Epoch 29/100\n",
            "222/222 [==============================] - 4s 19ms/step - loss: 0.0420 - accuracy: 0.9617 - val_loss: 0.2107 - val_accuracy: 0.9187\n",
            "Epoch 30/100\n",
            "222/222 [==============================] - 4s 19ms/step - loss: 0.0418 - accuracy: 0.9623 - val_loss: 0.2296 - val_accuracy: 0.9142\n",
            "Epoch 31/100\n",
            "222/222 [==============================] - 4s 20ms/step - loss: 0.0379 - accuracy: 0.9642 - val_loss: 0.2221 - val_accuracy: 0.9225\n",
            "Epoch 32/100\n",
            "222/222 [==============================] - 4s 19ms/step - loss: 0.0382 - accuracy: 0.9662 - val_loss: 0.2787 - val_accuracy: 0.9015\n",
            "Epoch 33/100\n",
            "222/222 [==============================] - 4s 20ms/step - loss: 0.0372 - accuracy: 0.9656 - val_loss: 0.2486 - val_accuracy: 0.9085\n",
            "Epoch 34/100\n",
            "222/222 [==============================] - 4s 20ms/step - loss: 0.0390 - accuracy: 0.9631 - val_loss: 0.2468 - val_accuracy: 0.9161\n",
            "Epoch 35/100\n",
            "222/222 [==============================] - 4s 19ms/step - loss: 0.0369 - accuracy: 0.9667 - val_loss: 0.1985 - val_accuracy: 0.9282\n",
            "Epoch 36/100\n",
            "222/222 [==============================] - 4s 19ms/step - loss: 0.0361 - accuracy: 0.9680 - val_loss: 0.2459 - val_accuracy: 0.9180\n",
            "Epoch 37/100\n",
            "222/222 [==============================] - 4s 19ms/step - loss: 0.0352 - accuracy: 0.9708 - val_loss: 0.2277 - val_accuracy: 0.9161\n",
            "Epoch 38/100\n",
            "222/222 [==============================] - 4s 20ms/step - loss: 0.0358 - accuracy: 0.9654 - val_loss: 0.2033 - val_accuracy: 0.9250\n",
            "Epoch 39/100\n",
            "222/222 [==============================] - 4s 19ms/step - loss: 0.0361 - accuracy: 0.9654 - val_loss: 0.2246 - val_accuracy: 0.9276\n",
            "Epoch 40/100\n",
            "222/222 [==============================] - 4s 20ms/step - loss: 0.0351 - accuracy: 0.9701 - val_loss: 0.2042 - val_accuracy: 0.9269\n",
            "Epoch 41/100\n",
            "222/222 [==============================] - 4s 20ms/step - loss: 0.0358 - accuracy: 0.9671 - val_loss: 0.2475 - val_accuracy: 0.9199\n",
            "Epoch 42/100\n",
            "222/222 [==============================] - 5s 24ms/step - loss: 0.0343 - accuracy: 0.9691 - val_loss: 0.2750 - val_accuracy: 0.9060\n",
            "Epoch 43/100\n",
            "222/222 [==============================] - 5s 22ms/step - loss: 0.0329 - accuracy: 0.9706 - val_loss: 0.2349 - val_accuracy: 0.9225\n",
            "Epoch 44/100\n",
            "222/222 [==============================] - 5s 22ms/step - loss: 0.0339 - accuracy: 0.9691 - val_loss: 0.2718 - val_accuracy: 0.9123\n",
            "Epoch 45/100\n",
            "222/222 [==============================] - 5s 21ms/step - loss: 0.0296 - accuracy: 0.9749 - val_loss: 0.2255 - val_accuracy: 0.9257\n",
            "Epoch 46/100\n",
            "222/222 [==============================] - 5s 22ms/step - loss: 0.0311 - accuracy: 0.9719 - val_loss: 0.2071 - val_accuracy: 0.9384\n",
            "Epoch 47/100\n",
            "222/222 [==============================] - 5s 21ms/step - loss: 0.0338 - accuracy: 0.9690 - val_loss: 0.2715 - val_accuracy: 0.9161\n",
            "Epoch 48/100\n",
            "222/222 [==============================] - 4s 20ms/step - loss: 0.0334 - accuracy: 0.9711 - val_loss: 0.2426 - val_accuracy: 0.9225\n",
            "Epoch 49/100\n",
            "222/222 [==============================] - 4s 19ms/step - loss: 0.0312 - accuracy: 0.9741 - val_loss: 0.2357 - val_accuracy: 0.9250\n",
            "Epoch 50/100\n",
            "222/222 [==============================] - 4s 19ms/step - loss: 0.0318 - accuracy: 0.9711 - val_loss: 0.2372 - val_accuracy: 0.9269\n",
            "Epoch 51/100\n",
            "222/222 [==============================] - 4s 20ms/step - loss: 0.0316 - accuracy: 0.9720 - val_loss: 0.2208 - val_accuracy: 0.9333\n",
            "Epoch 52/100\n",
            "222/222 [==============================] - 4s 19ms/step - loss: 0.0302 - accuracy: 0.9734 - val_loss: 0.2375 - val_accuracy: 0.9250\n",
            "Epoch 53/100\n",
            "222/222 [==============================] - 4s 19ms/step - loss: 0.0301 - accuracy: 0.9739 - val_loss: 0.3156 - val_accuracy: 0.9130\n",
            "Epoch 54/100\n",
            "222/222 [==============================] - 5s 20ms/step - loss: 0.0311 - accuracy: 0.9727 - val_loss: 0.2115 - val_accuracy: 0.9346\n",
            "Epoch 55/100\n",
            "222/222 [==============================] - 5s 21ms/step - loss: 0.0288 - accuracy: 0.9762 - val_loss: 0.2326 - val_accuracy: 0.9257\n",
            "Epoch 56/100\n",
            "222/222 [==============================] - 5s 20ms/step - loss: 0.0298 - accuracy: 0.9757 - val_loss: 0.2207 - val_accuracy: 0.9276\n",
            "Epoch 57/100\n",
            "222/222 [==============================] - 5s 21ms/step - loss: 0.0292 - accuracy: 0.9747 - val_loss: 0.1894 - val_accuracy: 0.9327\n",
            "Epoch 58/100\n",
            "222/222 [==============================] - 4s 20ms/step - loss: 0.0287 - accuracy: 0.9749 - val_loss: 0.2992 - val_accuracy: 0.9085\n",
            "Epoch 59/100\n",
            "222/222 [==============================] - 4s 20ms/step - loss: 0.0298 - accuracy: 0.9737 - val_loss: 0.2321 - val_accuracy: 0.9263\n",
            "Epoch 60/100\n",
            "222/222 [==============================] - 5s 20ms/step - loss: 0.0274 - accuracy: 0.9753 - val_loss: 0.2913 - val_accuracy: 0.9149\n",
            "Epoch 61/100\n",
            "222/222 [==============================] - 4s 20ms/step - loss: 0.0276 - accuracy: 0.9736 - val_loss: 0.2841 - val_accuracy: 0.9180\n",
            "Epoch 62/100\n",
            "222/222 [==============================] - 4s 20ms/step - loss: 0.0300 - accuracy: 0.9741 - val_loss: 0.2077 - val_accuracy: 0.9358\n",
            "Epoch 63/100\n",
            "222/222 [==============================] - 4s 19ms/step - loss: 0.0313 - accuracy: 0.9716 - val_loss: 0.2712 - val_accuracy: 0.9193\n",
            "Epoch 64/100\n",
            "222/222 [==============================] - 4s 20ms/step - loss: 0.0290 - accuracy: 0.9747 - val_loss: 0.2878 - val_accuracy: 0.9161\n",
            "Epoch 65/100\n",
            "222/222 [==============================] - 4s 20ms/step - loss: 0.0265 - accuracy: 0.9752 - val_loss: 0.1659 - val_accuracy: 0.9492\n",
            "Epoch 66/100\n",
            "222/222 [==============================] - 4s 20ms/step - loss: 0.0304 - accuracy: 0.9725 - val_loss: 0.2527 - val_accuracy: 0.9225\n",
            "Epoch 67/100\n",
            "222/222 [==============================] - 4s 20ms/step - loss: 0.0287 - accuracy: 0.9757 - val_loss: 0.2533 - val_accuracy: 0.9206\n",
            "Epoch 68/100\n",
            "222/222 [==============================] - 4s 20ms/step - loss: 0.0252 - accuracy: 0.9763 - val_loss: 0.2997 - val_accuracy: 0.9091\n",
            "Epoch 69/100\n",
            "222/222 [==============================] - 4s 19ms/step - loss: 0.0298 - accuracy: 0.9734 - val_loss: 0.2951 - val_accuracy: 0.9168\n",
            "Epoch 70/100\n",
            "222/222 [==============================] - 4s 19ms/step - loss: 0.0264 - accuracy: 0.9777 - val_loss: 0.2661 - val_accuracy: 0.9238\n",
            "Epoch 71/100\n",
            "222/222 [==============================] - 4s 20ms/step - loss: 0.0256 - accuracy: 0.9761 - val_loss: 0.3053 - val_accuracy: 0.9136\n",
            "Epoch 72/100\n",
            "222/222 [==============================] - 4s 20ms/step - loss: 0.0261 - accuracy: 0.9753 - val_loss: 0.2592 - val_accuracy: 0.9219\n",
            "Epoch 73/100\n",
            "222/222 [==============================] - 4s 19ms/step - loss: 0.0277 - accuracy: 0.9754 - val_loss: 0.2469 - val_accuracy: 0.9263\n",
            "Epoch 74/100\n",
            "222/222 [==============================] - 4s 19ms/step - loss: 0.0260 - accuracy: 0.9766 - val_loss: 0.2440 - val_accuracy: 0.9231\n",
            "Epoch 75/100\n",
            "222/222 [==============================] - 4s 19ms/step - loss: 0.0246 - accuracy: 0.9791 - val_loss: 0.2601 - val_accuracy: 0.9174\n",
            "Epoch 76/100\n",
            "222/222 [==============================] - 4s 19ms/step - loss: 0.0269 - accuracy: 0.9771 - val_loss: 0.2582 - val_accuracy: 0.9212\n",
            "Epoch 77/100\n",
            "222/222 [==============================] - 4s 19ms/step - loss: 0.0300 - accuracy: 0.9715 - val_loss: 0.3085 - val_accuracy: 0.9168\n",
            "Epoch 78/100\n",
            "222/222 [==============================] - 4s 19ms/step - loss: 0.0253 - accuracy: 0.9776 - val_loss: 0.2863 - val_accuracy: 0.9180\n",
            "Epoch 79/100\n",
            "222/222 [==============================] - 4s 19ms/step - loss: 0.0251 - accuracy: 0.9796 - val_loss: 0.2239 - val_accuracy: 0.9269\n",
            "Epoch 80/100\n",
            "222/222 [==============================] - 5s 23ms/step - loss: 0.0247 - accuracy: 0.9791 - val_loss: 0.2973 - val_accuracy: 0.9187\n",
            "Epoch 81/100\n",
            "222/222 [==============================] - 6s 26ms/step - loss: 0.0270 - accuracy: 0.9766 - val_loss: 0.2952 - val_accuracy: 0.9193\n",
            "Epoch 82/100\n",
            "222/222 [==============================] - 5s 21ms/step - loss: 0.0258 - accuracy: 0.9764 - val_loss: 0.3284 - val_accuracy: 0.9142\n",
            "Epoch 83/100\n",
            "222/222 [==============================] - 4s 20ms/step - loss: 0.0250 - accuracy: 0.9790 - val_loss: 0.3039 - val_accuracy: 0.9066\n",
            "Epoch 84/100\n",
            "222/222 [==============================] - 4s 20ms/step - loss: 0.0313 - accuracy: 0.9695 - val_loss: 0.2798 - val_accuracy: 0.9174\n",
            "Epoch 85/100\n",
            "222/222 [==============================] - 4s 20ms/step - loss: 0.0242 - accuracy: 0.9794 - val_loss: 0.2477 - val_accuracy: 0.9231\n",
            "Epoch 86/100\n",
            "222/222 [==============================] - 4s 20ms/step - loss: 0.0231 - accuracy: 0.9808 - val_loss: 0.2926 - val_accuracy: 0.9123\n",
            "Epoch 87/100\n",
            "222/222 [==============================] - 4s 20ms/step - loss: 0.0232 - accuracy: 0.9774 - val_loss: 0.3388 - val_accuracy: 0.9098\n",
            "Epoch 88/100\n",
            "222/222 [==============================] - 4s 20ms/step - loss: 0.0260 - accuracy: 0.9776 - val_loss: 0.2604 - val_accuracy: 0.9206\n",
            "Epoch 89/100\n",
            "222/222 [==============================] - 5s 20ms/step - loss: 0.0230 - accuracy: 0.9807 - val_loss: 0.3074 - val_accuracy: 0.9123\n",
            "Epoch 90/100\n",
            "222/222 [==============================] - 4s 20ms/step - loss: 0.0219 - accuracy: 0.9792 - val_loss: 0.3011 - val_accuracy: 0.9161\n",
            "Epoch 91/100\n",
            "222/222 [==============================] - 4s 20ms/step - loss: 0.0255 - accuracy: 0.9775 - val_loss: 0.2308 - val_accuracy: 0.9314\n",
            "Epoch 92/100\n",
            "222/222 [==============================] - 4s 20ms/step - loss: 0.0259 - accuracy: 0.9762 - val_loss: 0.3314 - val_accuracy: 0.9123\n",
            "Epoch 93/100\n",
            "222/222 [==============================] - 4s 19ms/step - loss: 0.0238 - accuracy: 0.9799 - val_loss: 0.3254 - val_accuracy: 0.9091\n",
            "Epoch 94/100\n",
            "222/222 [==============================] - 4s 20ms/step - loss: 0.0246 - accuracy: 0.9783 - val_loss: 0.2631 - val_accuracy: 0.9212\n",
            "Epoch 95/100\n",
            "222/222 [==============================] - 5s 21ms/step - loss: 0.0243 - accuracy: 0.9786 - val_loss: 0.2777 - val_accuracy: 0.9174\n",
            "Epoch 96/100\n",
            "222/222 [==============================] - 5s 23ms/step - loss: 0.0242 - accuracy: 0.9775 - val_loss: 0.3306 - val_accuracy: 0.9009\n",
            "Epoch 97/100\n",
            "222/222 [==============================] - 5s 21ms/step - loss: 0.0255 - accuracy: 0.9773 - val_loss: 0.2773 - val_accuracy: 0.9199\n",
            "Epoch 98/100\n",
            "222/222 [==============================] - 4s 20ms/step - loss: 0.0235 - accuracy: 0.9791 - val_loss: 0.2837 - val_accuracy: 0.9180\n",
            "Epoch 99/100\n",
            "222/222 [==============================] - 4s 19ms/step - loss: 0.0220 - accuracy: 0.9806 - val_loss: 0.2374 - val_accuracy: 0.9301\n",
            "Epoch 100/100\n",
            "222/222 [==============================] - 4s 19ms/step - loss: 0.0232 - accuracy: 0.9795 - val_loss: 0.2762 - val_accuracy: 0.9180\n",
            "CPU times: user 8min 28s, sys: 37.4 s, total: 9min 5s\n",
            "Wall time: 7min 28s\n"
          ],
          "name": "stdout"
        },
        {
          "output_type": "execute_result",
          "data": {
            "text/plain": [
              "<tensorflow.python.keras.callbacks.History at 0x7fc20f155f90>"
            ]
          },
          "metadata": {
            "tags": []
          },
          "execution_count": 24
        }
      ]
    },
    {
      "cell_type": "code",
      "metadata": {
        "colab": {
          "base_uri": "https://localhost:8080/"
        },
        "id": "zLgIfrGq9yqE",
        "outputId": "6df0cc40-63f7-4c16-c517-79022cc22282"
      },
      "source": [
        "history.history.keys()"
      ],
      "execution_count": 25,
      "outputs": [
        {
          "output_type": "execute_result",
          "data": {
            "text/plain": [
              "dict_keys(['loss', 'accuracy', 'val_loss', 'val_accuracy'])"
            ]
          },
          "metadata": {
            "tags": []
          },
          "execution_count": 25
        }
      ]
    },
    {
      "cell_type": "code",
      "metadata": {
        "colab": {
          "base_uri": "https://localhost:8080/",
          "height": 312
        },
        "id": "Y_fQ5w2C3DEx",
        "outputId": "9e730a12-717b-434e-8c16-4f41d9403ab5"
      },
      "source": [
        "fig, ax = plt.subplots(nrows = 1, ncols = 2, figsize = (10, 4))\n",
        "\n",
        "# Accuracy\n",
        "ax[0].plot(history.history['accuracy'])\n",
        "ax[0].plot(history.history['val_accuracy'])\n",
        "ax[0].set_ylabel('Accuracy')\n",
        "ax[0].set_xlabel('# Epoch')\n",
        "ax[0].legend(['train', 'validation'], loc='upper left')\n",
        "ax[0].set_title('Accuracy')\n",
        "\n",
        "# Loss\n",
        "ax[1].plot(history.history['loss'])\n",
        "ax[1].plot(history.history['val_loss'])\n",
        "ax[1].set_ylabel('Loss')\n",
        "ax[1].set_xlabel('# Epoch')\n",
        "ax[1].legend(['train', 'validation'], loc='upper left')\n",
        "ax[1].set_title('Loss')"
      ],
      "execution_count": 27,
      "outputs": [
        {
          "output_type": "execute_result",
          "data": {
            "text/plain": [
              "Text(0.5, 1.0, 'Loss')"
            ]
          },
          "metadata": {
            "tags": []
          },
          "execution_count": 27
        },
        {
          "output_type": "display_data",
          "data": {
            "image/png": "[encoded data removed]",
            "text/plain": [
              "<Figure size 720x288 with 2 Axes>"
            ]
          },
          "metadata": {
            "tags": [],
            "needs_background": "light"
          }
        }
      ]
    },
    {
      "cell_type": "code",
      "metadata": {
        "colab": {
          "base_uri": "https://localhost:8080/",
          "height": 609
        },
        "id": "j-p3ouwN3DEx",
        "outputId": "c70deeeb-8d4e-4c11-894e-395c170f9359"
      },
      "source": [
        "y_pred = model1.predict_classes(x_test)\n",
        "\n",
        "print_results(y_true.failure, y_pred)"
      ],
      "execution_count": 28,
      "outputs": [
        {
          "output_type": "stream",
          "text": [
            "/usr/local/lib/python3.7/dist-packages/tensorflow/python/keras/engine/sequential.py:450: UserWarning: `model.predict_classes()` is deprecated and will be removed after 2021-01-01. Please use instead:* `np.argmax(model.predict(x), axis=-1)`,   if your model does multi-class classification   (e.g. if it uses a `softmax` last-layer activation).* `(model.predict(x) > 0.5).astype(\"int32\")`,   if your model does binary classification   (e.g. if it uses a `sigmoid` last-layer activation).\n",
            "  warnings.warn('`model.predict_classes()` is deprecated and '\n"
          ],
          "name": "stderr"
        },
        {
          "output_type": "stream",
          "text": [
            "F1 Score:  0.9666666666666667\n",
            "              precision    recall  f1-score   support\n",
            "\n",
            "           0       0.99      0.99      0.99        70\n",
            "           1       0.97      0.97      0.97        30\n",
            "\n",
            "    accuracy                           0.98       100\n",
            "   macro avg       0.98      0.98      0.98       100\n",
            "weighted avg       0.98      0.98      0.98       100\n",
            "\n",
            "Area under curve :  0.9761904761904763 \n",
            "\n"
          ],
          "name": "stdout"
        },
        {
          "output_type": "display_data",
          "data": {
            "image/png": "[encoded data removed]",
            "text/plain": [
              "<Figure size 864x864 with 3 Axes>"
            ]
          },
          "metadata": {
            "tags": [],
            "needs_background": "light"
          }
        }
      ]
    },
    {
      "cell_type": "code",
      "metadata": {
        "colab": {
          "base_uri": "https://localhost:8080/"
        },
        "id": "Lr8RBTaZ3DEy",
        "outputId": "37f4fd35-f06a-4042-8fed-3dccfe1cbb47"
      },
      "source": [
        "confusion_matrix(y_train, model1.predict_classes(x_train))"
      ],
      "execution_count": 29,
      "outputs": [
        {
          "output_type": "stream",
          "text": [
            "/usr/local/lib/python3.7/dist-packages/tensorflow/python/keras/engine/sequential.py:450: UserWarning: `model.predict_classes()` is deprecated and will be removed after 2021-01-01. Please use instead:* `np.argmax(model.predict(x), axis=-1)`,   if your model does multi-class classification   (e.g. if it uses a `softmax` last-layer activation).* `(model.predict(x) > 0.5).astype(\"int32\")`,   if your model does binary classification   (e.g. if it uses a `sigmoid` last-layer activation).\n",
            "  warnings.warn('`model.predict_classes()` is deprecated and '\n"
          ],
          "name": "stderr"
        },
        {
          "output_type": "execute_result",
          "data": {
            "text/plain": [
              "array([[10471,   260],\n",
              "       [  125,  4875]])"
            ]
          },
          "metadata": {
            "tags": []
          },
          "execution_count": 29
        }
      ]
    },
    {
      "cell_type": "markdown",
      "metadata": {
        "id": "ZVgWzgVc3DEy"
      },
      "source": [
        "Eventhough we get very good results, there is an overfitting which can be seen in the Loss graph. After 25 epochs, the loss of validation set is increasing and loss of training set keeps on decreasing. Also, the accuracy of validation set remains constant after 25 epochs."
      ]
    },
    {
      "cell_type": "markdown",
      "metadata": {
        "id": "j4kIohmK3DEy"
      },
      "source": [
        "#### Model 2"
      ]
    },
    {
      "cell_type": "markdown",
      "metadata": {
        "id": "u6jnwq7E3DEz"
      },
      "source": [
        "Model 2 is same as Model 1 but the early stopping is implemented to stop overfitting. "
      ]
    },
    {
      "cell_type": "code",
      "metadata": {
        "colab": {
          "base_uri": "https://localhost:8080/"
        },
        "id": "x9fiM34k3DEz",
        "outputId": "51a07aef-1458-413a-dfa5-d14f40bd2547"
      },
      "source": [
        "history = History()\n",
        "\n",
        "model2 = Sequential()\n",
        "model2.add(LSTM(\n",
        "         units=4,\n",
        "         return_sequences=False,\n",
        "         input_shape=(sequence_length, nb_features)))\n",
        "model2.add(Dense(units=1, activation='sigmoid'))\n",
        "model2.compile(loss=\"binary_crossentropy\", optimizer=\"adam\", metrics=['accuracy'])\n",
        "\n",
        "model2.summary()"
      ],
      "execution_count": 30,
      "outputs": [
        {
          "output_type": "stream",
          "text": [
            "Model: \"sequential_1\"\n",
            "_________________________________________________________________\n",
            "Layer (type)                 Output Shape              Param #   \n",
            "=================================================================\n",
            "lstm_1 (LSTM)                (None, 4)                 320       \n",
            "_________________________________________________________________\n",
            "dense_1 (Dense)              (None, 1)                 5         \n",
            "=================================================================\n",
            "Total params: 325\n",
            "Trainable params: 325\n",
            "Non-trainable params: 0\n",
            "_________________________________________________________________\n"
          ],
          "name": "stdout"
        }
      ]
    },
    {
      "cell_type": "code",
      "metadata": {
        "scrolled": true,
        "colab": {
          "base_uri": "https://localhost:8080/"
        },
        "id": "-6w3e12e3DEz",
        "outputId": "ee350780-9e13-4594-cd5f-e56ca6c48a34"
      },
      "source": [
        "%%time\n",
        "# fit the model\n",
        "model2.fit(x_train, y_train, epochs=100, batch_size=64, validation_split=0.1, verbose=1, class_weight = cls_wt,\n",
        "          callbacks = [history,\n",
        "                       keras.callbacks.EarlyStopping(monitor='val_loss', min_delta=0, patience=10, verbose=0, mode='auto')])"
      ],
      "execution_count": 31,
      "outputs": [
        {
          "output_type": "stream",
          "text": [
            "Epoch 1/100\n",
            "222/222 [==============================] - 7s 23ms/step - loss: 0.2725 - accuracy: 0.8861 - val_loss: 0.4573 - val_accuracy: 0.8780\n",
            "Epoch 2/100\n",
            "222/222 [==============================] - 4s 20ms/step - loss: 0.1795 - accuracy: 0.9068 - val_loss: 0.3591 - val_accuracy: 0.8761\n",
            "Epoch 3/100\n",
            "222/222 [==============================] - 5s 22ms/step - loss: 0.1380 - accuracy: 0.9165 - val_loss: 0.2882 - val_accuracy: 0.9123\n",
            "Epoch 4/100\n",
            "222/222 [==============================] - 5s 21ms/step - loss: 0.1157 - accuracy: 0.9271 - val_loss: 0.2891 - val_accuracy: 0.8964\n",
            "Epoch 5/100\n",
            "222/222 [==============================] - 5s 21ms/step - loss: 0.1046 - accuracy: 0.9284 - val_loss: 0.2203 - val_accuracy: 0.9276\n",
            "Epoch 6/100\n",
            "222/222 [==============================] - 4s 20ms/step - loss: 0.0896 - accuracy: 0.9399 - val_loss: 0.1993 - val_accuracy: 0.9339\n",
            "Epoch 7/100\n",
            "222/222 [==============================] - 4s 19ms/step - loss: 0.0802 - accuracy: 0.9438 - val_loss: 0.1858 - val_accuracy: 0.9384\n",
            "Epoch 8/100\n",
            "222/222 [==============================] - 4s 20ms/step - loss: 0.0783 - accuracy: 0.9438 - val_loss: 0.1745 - val_accuracy: 0.9390\n",
            "Epoch 9/100\n",
            "222/222 [==============================] - 4s 19ms/step - loss: 0.0731 - accuracy: 0.9467 - val_loss: 0.1789 - val_accuracy: 0.9377\n",
            "Epoch 10/100\n",
            "222/222 [==============================] - 4s 19ms/step - loss: 0.0685 - accuracy: 0.9477 - val_loss: 0.1604 - val_accuracy: 0.9409\n",
            "Epoch 11/100\n",
            "222/222 [==============================] - 4s 20ms/step - loss: 0.0646 - accuracy: 0.9526 - val_loss: 0.1482 - val_accuracy: 0.9511\n",
            "Epoch 12/100\n",
            "222/222 [==============================] - 4s 19ms/step - loss: 0.0624 - accuracy: 0.9525 - val_loss: 0.1561 - val_accuracy: 0.9435\n",
            "Epoch 13/100\n",
            "222/222 [==============================] - 5s 23ms/step - loss: 0.0615 - accuracy: 0.9535 - val_loss: 0.1474 - val_accuracy: 0.9466\n",
            "Epoch 14/100\n",
            "222/222 [==============================] - 5s 22ms/step - loss: 0.0612 - accuracy: 0.9522 - val_loss: 0.1336 - val_accuracy: 0.9492\n",
            "Epoch 15/100\n",
            "222/222 [==============================] - 5s 22ms/step - loss: 0.0585 - accuracy: 0.9530 - val_loss: 0.1105 - val_accuracy: 0.9568\n",
            "Epoch 16/100\n",
            "222/222 [==============================] - 5s 22ms/step - loss: 0.0555 - accuracy: 0.9566 - val_loss: 0.1170 - val_accuracy: 0.9555\n",
            "Epoch 17/100\n",
            "222/222 [==============================] - 5s 23ms/step - loss: 0.0528 - accuracy: 0.9565 - val_loss: 0.1165 - val_accuracy: 0.9568\n",
            "Epoch 18/100\n",
            "222/222 [==============================] - 5s 24ms/step - loss: 0.0535 - accuracy: 0.9556 - val_loss: 0.1251 - val_accuracy: 0.9492\n",
            "Epoch 19/100\n",
            "222/222 [==============================] - 5s 23ms/step - loss: 0.0518 - accuracy: 0.9582 - val_loss: 0.1208 - val_accuracy: 0.9524\n",
            "Epoch 20/100\n",
            "222/222 [==============================] - 5s 23ms/step - loss: 0.0483 - accuracy: 0.9614 - val_loss: 0.1664 - val_accuracy: 0.9327\n",
            "Epoch 21/100\n",
            "222/222 [==============================] - 5s 23ms/step - loss: 0.0490 - accuracy: 0.9574 - val_loss: 0.1282 - val_accuracy: 0.9479\n",
            "Epoch 22/100\n",
            "222/222 [==============================] - 5s 23ms/step - loss: 0.0450 - accuracy: 0.9630 - val_loss: 0.1019 - val_accuracy: 0.9663\n",
            "Epoch 23/100\n",
            "222/222 [==============================] - 5s 22ms/step - loss: 0.0475 - accuracy: 0.9607 - val_loss: 0.1474 - val_accuracy: 0.9409\n",
            "Epoch 24/100\n",
            "222/222 [==============================] - 5s 22ms/step - loss: 0.0465 - accuracy: 0.9608 - val_loss: 0.1462 - val_accuracy: 0.9339\n",
            "Epoch 25/100\n",
            "222/222 [==============================] - 5s 22ms/step - loss: 0.0427 - accuracy: 0.9636 - val_loss: 0.1325 - val_accuracy: 0.9479\n",
            "Epoch 26/100\n",
            "222/222 [==============================] - 5s 22ms/step - loss: 0.0409 - accuracy: 0.9645 - val_loss: 0.1301 - val_accuracy: 0.9428\n",
            "Epoch 27/100\n",
            "222/222 [==============================] - 5s 22ms/step - loss: 0.0451 - accuracy: 0.9614 - val_loss: 0.0975 - val_accuracy: 0.9670\n",
            "Epoch 28/100\n",
            "222/222 [==============================] - 5s 22ms/step - loss: 0.0394 - accuracy: 0.9659 - val_loss: 0.1145 - val_accuracy: 0.9530\n",
            "Epoch 29/100\n",
            "222/222 [==============================] - 5s 22ms/step - loss: 0.0410 - accuracy: 0.9641 - val_loss: 0.1147 - val_accuracy: 0.9568\n",
            "Epoch 30/100\n",
            "222/222 [==============================] - 5s 22ms/step - loss: 0.0443 - accuracy: 0.9613 - val_loss: 0.0953 - val_accuracy: 0.9682\n",
            "Epoch 31/100\n",
            "222/222 [==============================] - 5s 22ms/step - loss: 0.0413 - accuracy: 0.9644 - val_loss: 0.1146 - val_accuracy: 0.9568\n",
            "Epoch 32/100\n",
            "222/222 [==============================] - 5s 23ms/step - loss: 0.0382 - accuracy: 0.9676 - val_loss: 0.1345 - val_accuracy: 0.9409\n",
            "Epoch 33/100\n",
            "222/222 [==============================] - 5s 22ms/step - loss: 0.0407 - accuracy: 0.9638 - val_loss: 0.0956 - val_accuracy: 0.9651\n",
            "Epoch 34/100\n",
            "222/222 [==============================] - 5s 22ms/step - loss: 0.0393 - accuracy: 0.9643 - val_loss: 0.1691 - val_accuracy: 0.9307\n",
            "Epoch 35/100\n",
            "222/222 [==============================] - 5s 22ms/step - loss: 0.0405 - accuracy: 0.9624 - val_loss: 0.1036 - val_accuracy: 0.9574\n",
            "Epoch 36/100\n",
            "222/222 [==============================] - 5s 22ms/step - loss: 0.0365 - accuracy: 0.9679 - val_loss: 0.1367 - val_accuracy: 0.9479\n",
            "Epoch 37/100\n",
            "222/222 [==============================] - 5s 22ms/step - loss: 0.0353 - accuracy: 0.9668 - val_loss: 0.1035 - val_accuracy: 0.9600\n",
            "Epoch 38/100\n",
            "222/222 [==============================] - 5s 22ms/step - loss: 0.0362 - accuracy: 0.9676 - val_loss: 0.1357 - val_accuracy: 0.9511\n",
            "Epoch 39/100\n",
            "222/222 [==============================] - 5s 22ms/step - loss: 0.0370 - accuracy: 0.9676 - val_loss: 0.0915 - val_accuracy: 0.9606\n",
            "Epoch 40/100\n",
            "222/222 [==============================] - 5s 22ms/step - loss: 0.0344 - accuracy: 0.9694 - val_loss: 0.1258 - val_accuracy: 0.9530\n",
            "Epoch 41/100\n",
            "222/222 [==============================] - 5s 23ms/step - loss: 0.0379 - accuracy: 0.9644 - val_loss: 0.1065 - val_accuracy: 0.9549\n",
            "Epoch 42/100\n",
            "222/222 [==============================] - 5s 23ms/step - loss: 0.0341 - accuracy: 0.9710 - val_loss: 0.1301 - val_accuracy: 0.9492\n",
            "Epoch 43/100\n",
            "222/222 [==============================] - 5s 22ms/step - loss: 0.0356 - accuracy: 0.9672 - val_loss: 0.1758 - val_accuracy: 0.9250\n",
            "Epoch 44/100\n",
            "222/222 [==============================] - 5s 24ms/step - loss: 0.0343 - accuracy: 0.9686 - val_loss: 0.1130 - val_accuracy: 0.9524\n",
            "Epoch 45/100\n",
            "222/222 [==============================] - 6s 28ms/step - loss: 0.0352 - accuracy: 0.9686 - val_loss: 0.1278 - val_accuracy: 0.9517\n",
            "Epoch 46/100\n",
            "222/222 [==============================] - 6s 25ms/step - loss: 0.0327 - accuracy: 0.9715 - val_loss: 0.1094 - val_accuracy: 0.9555\n",
            "Epoch 47/100\n",
            "222/222 [==============================] - 5s 23ms/step - loss: 0.0330 - accuracy: 0.9706 - val_loss: 0.1471 - val_accuracy: 0.9498\n",
            "Epoch 48/100\n",
            "222/222 [==============================] - 5s 24ms/step - loss: 0.0338 - accuracy: 0.9697 - val_loss: 0.1395 - val_accuracy: 0.9454\n",
            "Epoch 49/100\n",
            "222/222 [==============================] - 5s 23ms/step - loss: 0.0315 - accuracy: 0.9703 - val_loss: 0.1537 - val_accuracy: 0.9479\n",
            "CPU times: user 5min 8s, sys: 26.5 s, total: 5min 35s\n",
            "Wall time: 4min 2s\n"
          ],
          "name": "stdout"
        },
        {
          "output_type": "execute_result",
          "data": {
            "text/plain": [
              "<tensorflow.python.keras.callbacks.History at 0x7fc1ff3e7510>"
            ]
          },
          "metadata": {
            "tags": []
          },
          "execution_count": 31
        }
      ]
    },
    {
      "cell_type": "code",
      "metadata": {
        "colab": {
          "base_uri": "https://localhost:8080/"
        },
        "id": "EbDbJhnBHGEj",
        "outputId": "888667cf-7205-48be-814c-6c87fa4b52da"
      },
      "source": [
        "history.history.keys()"
      ],
      "execution_count": 34,
      "outputs": [
        {
          "output_type": "execute_result",
          "data": {
            "text/plain": [
              "dict_keys(['loss', 'accuracy', 'val_loss', 'val_accuracy'])"
            ]
          },
          "metadata": {
            "tags": []
          },
          "execution_count": 34
        }
      ]
    },
    {
      "cell_type": "code",
      "metadata": {
        "colab": {
          "base_uri": "https://localhost:8080/",
          "height": 312
        },
        "id": "iCWVMCVf3DE0",
        "outputId": "e138ec82-6bac-4ed0-aecd-9edf951e4914"
      },
      "source": [
        "fig, ax = plt.subplots(nrows = 1, ncols = 2, figsize = (10, 4))\n",
        "\n",
        "# Accuracy\n",
        "ax[0].plot(history.history['accuracy'])\n",
        "ax[0].plot(history.history['val_accuracy'])\n",
        "ax[0].set_ylabel('Accuracy')\n",
        "ax[0].set_xlabel('# Epoch')\n",
        "ax[0].legend(['train', 'validation'], loc='upper left')\n",
        "ax[0].set_title('Accuracy')\n",
        "\n",
        "# Loss\n",
        "ax[1].plot(history.history['loss'])\n",
        "ax[1].plot(history.history['val_loss'])\n",
        "ax[1].set_ylabel('Loss')\n",
        "ax[1].set_xlabel('# Epoch')\n",
        "ax[1].legend(['train', 'validation'], loc='upper left')\n",
        "ax[1].set_title('Loss')"
      ],
      "execution_count": 36,
      "outputs": [
        {
          "output_type": "execute_result",
          "data": {
            "text/plain": [
              "Text(0.5, 1.0, 'Loss')"
            ]
          },
          "metadata": {
            "tags": []
          },
          "execution_count": 36
        },
        {
          "output_type": "display_data",
          "data": {
            "image/png": "[encoded data removed]",
            "text/plain": [
              "<Figure size 720x288 with 2 Axes>"
            ]
          },
          "metadata": {
            "tags": [],
            "needs_background": "light"
          }
        }
      ]
    },
    {
      "cell_type": "code",
      "metadata": {
        "colab": {
          "base_uri": "https://localhost:8080/",
          "height": 609
        },
        "id": "2wdfLKFU3DE0",
        "outputId": "97798ad4-2235-4c8d-fba9-6415bb38eb5f"
      },
      "source": [
        "y_pred = model2.predict_classes(x_test)\n",
        "\n",
        "print_results(y_true.failure, y_pred)"
      ],
      "execution_count": 37,
      "outputs": [
        {
          "output_type": "stream",
          "text": [
            "/usr/local/lib/python3.7/dist-packages/tensorflow/python/keras/engine/sequential.py:450: UserWarning: `model.predict_classes()` is deprecated and will be removed after 2021-01-01. Please use instead:* `np.argmax(model.predict(x), axis=-1)`,   if your model does multi-class classification   (e.g. if it uses a `softmax` last-layer activation).* `(model.predict(x) > 0.5).astype(\"int32\")`,   if your model does binary classification   (e.g. if it uses a `sigmoid` last-layer activation).\n",
            "  warnings.warn('`model.predict_classes()` is deprecated and '\n"
          ],
          "name": "stderr"
        },
        {
          "output_type": "stream",
          "text": [
            "F1 Score:  0.923076923076923\n",
            "              precision    recall  f1-score   support\n",
            "\n",
            "           0       1.00      0.93      0.96        70\n",
            "           1       0.86      1.00      0.92        30\n",
            "\n",
            "    accuracy                           0.95       100\n",
            "   macro avg       0.93      0.96      0.94       100\n",
            "weighted avg       0.96      0.95      0.95       100\n",
            "\n",
            "Area under curve :  0.9642857142857143 \n",
            "\n"
          ],
          "name": "stdout"
        },
        {
          "output_type": "display_data",
          "data": {
            "image/png": "[encoded data removed]",
            "text/plain": [
              "<Figure size 864x864 with 3 Axes>"
            ]
          },
          "metadata": {
            "tags": [],
            "needs_background": "light"
          }
        }
      ]
    },
    {
      "cell_type": "code",
      "metadata": {
        "colab": {
          "base_uri": "https://localhost:8080/"
        },
        "id": "mMSGdQyD3DE1",
        "outputId": "07338bce-c0c3-4e9c-f4e8-1201d5d354f1"
      },
      "source": [
        "confusion_matrix(y_train, model2.predict_classes(x_train))"
      ],
      "execution_count": 38,
      "outputs": [
        {
          "output_type": "stream",
          "text": [
            "/usr/local/lib/python3.7/dist-packages/tensorflow/python/keras/engine/sequential.py:450: UserWarning: `model.predict_classes()` is deprecated and will be removed after 2021-01-01. Please use instead:* `np.argmax(model.predict(x), axis=-1)`,   if your model does multi-class classification   (e.g. if it uses a `softmax` last-layer activation).* `(model.predict(x) > 0.5).astype(\"int32\")`,   if your model does binary classification   (e.g. if it uses a `sigmoid` last-layer activation).\n",
            "  warnings.warn('`model.predict_classes()` is deprecated and '\n"
          ],
          "name": "stderr"
        },
        {
          "output_type": "execute_result",
          "data": {
            "text/plain": [
              "array([[10196,   535],\n",
              "       [   59,  4941]])"
            ]
          },
          "metadata": {
            "tags": []
          },
          "execution_count": 38
        }
      ]
    },
    {
      "cell_type": "markdown",
      "metadata": {
        "id": "9tGcedQW3DE1"
      },
      "source": [
        "#### Model 3"
      ]
    },
    {
      "cell_type": "markdown",
      "metadata": {
        "id": "4KpWVQPw3DE1"
      },
      "source": [
        "Model 3 is same as Model 2 but dropout is added to further reduce overfitting. "
      ]
    },
    {
      "cell_type": "code",
      "metadata": {
        "colab": {
          "base_uri": "https://localhost:8080/"
        },
        "id": "iQVtcUaE3DE2",
        "outputId": "9c330ca6-37c1-49f9-a41e-e2d81b2046e0"
      },
      "source": [
        "history = History()\n",
        "\n",
        "model3 = Sequential()\n",
        "model3.add(LSTM(\n",
        "         units=4,\n",
        "         return_sequences=False,\n",
        "         input_shape=(sequence_length, nb_features)))\n",
        "model3.add(Dropout(0.25))\n",
        "model3.add(Dense(units=1, activation='sigmoid'))\n",
        "model3.compile(loss=\"binary_crossentropy\", optimizer=\"adam\", metrics=['accuracy'])\n",
        "\n",
        "model3.summary()"
      ],
      "execution_count": 39,
      "outputs": [
        {
          "output_type": "stream",
          "text": [
            "Model: \"sequential_2\"\n",
            "_________________________________________________________________\n",
            "Layer (type)                 Output Shape              Param #   \n",
            "=================================================================\n",
            "lstm_2 (LSTM)                (None, 4)                 320       \n",
            "_________________________________________________________________\n",
            "dropout (Dropout)            (None, 4)                 0         \n",
            "_________________________________________________________________\n",
            "dense_2 (Dense)              (None, 1)                 5         \n",
            "=================================================================\n",
            "Total params: 325\n",
            "Trainable params: 325\n",
            "Non-trainable params: 0\n",
            "_________________________________________________________________\n"
          ],
          "name": "stdout"
        }
      ]
    },
    {
      "cell_type": "code",
      "metadata": {
        "scrolled": true,
        "colab": {
          "base_uri": "https://localhost:8080/"
        },
        "id": "y0B9jwtr3DE2",
        "outputId": "228d8e37-74fc-491a-9762-fd23d8d92533"
      },
      "source": [
        "%%time\n",
        "# fit the model\n",
        "model3.fit(x_train, y_train, epochs=100, batch_size=64, validation_split=0.1, verbose=1, class_weight = cls_wt,\n",
        "          callbacks = [history,\n",
        "                       keras.callbacks.EarlyStopping(monitor='val_loss', min_delta=0, patience=10, verbose=0, mode='auto')])"
      ],
      "execution_count": 40,
      "outputs": [
        {
          "output_type": "stream",
          "text": [
            "Epoch 1/100\n",
            "222/222 [==============================] - 7s 25ms/step - loss: 0.2513 - accuracy: 0.7681 - val_loss: 0.2961 - val_accuracy: 0.8939\n",
            "Epoch 2/100\n",
            "222/222 [==============================] - 5s 23ms/step - loss: 0.1434 - accuracy: 0.8818 - val_loss: 0.2636 - val_accuracy: 0.8882\n",
            "Epoch 3/100\n",
            "222/222 [==============================] - 5s 23ms/step - loss: 0.1243 - accuracy: 0.8966 - val_loss: 0.2472 - val_accuracy: 0.8875\n",
            "Epoch 4/100\n",
            "222/222 [==============================] - 5s 23ms/step - loss: 0.1033 - accuracy: 0.9096 - val_loss: 0.2792 - val_accuracy: 0.8875\n",
            "Epoch 5/100\n",
            "222/222 [==============================] - 5s 23ms/step - loss: 0.0956 - accuracy: 0.9199 - val_loss: 0.1873 - val_accuracy: 0.9199\n",
            "Epoch 6/100\n",
            "222/222 [==============================] - 5s 24ms/step - loss: 0.0837 - accuracy: 0.9346 - val_loss: 0.1985 - val_accuracy: 0.9225\n",
            "Epoch 7/100\n",
            "222/222 [==============================] - 5s 23ms/step - loss: 0.0818 - accuracy: 0.9282 - val_loss: 0.1497 - val_accuracy: 0.9346\n",
            "Epoch 8/100\n",
            "222/222 [==============================] - 5s 24ms/step - loss: 0.0771 - accuracy: 0.9376 - val_loss: 0.1981 - val_accuracy: 0.9365\n",
            "Epoch 9/100\n",
            "222/222 [==============================] - 5s 23ms/step - loss: 0.0795 - accuracy: 0.9331 - val_loss: 0.1767 - val_accuracy: 0.9358\n",
            "Epoch 10/100\n",
            "222/222 [==============================] - 5s 23ms/step - loss: 0.0703 - accuracy: 0.9438 - val_loss: 0.1616 - val_accuracy: 0.9339\n",
            "Epoch 11/100\n",
            "222/222 [==============================] - 5s 24ms/step - loss: 0.0718 - accuracy: 0.9375 - val_loss: 0.2234 - val_accuracy: 0.9187\n",
            "Epoch 12/100\n",
            "222/222 [==============================] - 5s 24ms/step - loss: 0.0694 - accuracy: 0.9379 - val_loss: 0.2135 - val_accuracy: 0.9206\n",
            "Epoch 13/100\n",
            "222/222 [==============================] - 6s 25ms/step - loss: 0.0621 - accuracy: 0.9491 - val_loss: 0.1403 - val_accuracy: 0.9485\n",
            "Epoch 14/100\n",
            "222/222 [==============================] - 6s 26ms/step - loss: 0.0601 - accuracy: 0.9454 - val_loss: 0.1353 - val_accuracy: 0.9466\n",
            "Epoch 15/100\n",
            "222/222 [==============================] - 6s 25ms/step - loss: 0.0579 - accuracy: 0.9504 - val_loss: 0.2011 - val_accuracy: 0.9263\n",
            "Epoch 16/100\n",
            "222/222 [==============================] - 6s 25ms/step - loss: 0.0590 - accuracy: 0.9471 - val_loss: 0.1543 - val_accuracy: 0.9473\n",
            "Epoch 17/100\n",
            "222/222 [==============================] - 6s 27ms/step - loss: 0.0562 - accuracy: 0.9515 - val_loss: 0.1866 - val_accuracy: 0.9352\n",
            "Epoch 18/100\n",
            "222/222 [==============================] - 5s 24ms/step - loss: 0.0529 - accuracy: 0.9545 - val_loss: 0.1826 - val_accuracy: 0.9346\n",
            "Epoch 19/100\n",
            "222/222 [==============================] - 5s 25ms/step - loss: 0.0542 - accuracy: 0.9504 - val_loss: 0.2237 - val_accuracy: 0.9174\n",
            "Epoch 20/100\n",
            "222/222 [==============================] - 5s 24ms/step - loss: 0.0553 - accuracy: 0.9505 - val_loss: 0.1492 - val_accuracy: 0.9492\n",
            "Epoch 21/100\n",
            "222/222 [==============================] - 5s 24ms/step - loss: 0.0521 - accuracy: 0.9516 - val_loss: 0.1729 - val_accuracy: 0.9428\n",
            "Epoch 22/100\n",
            "222/222 [==============================] - 5s 24ms/step - loss: 0.0533 - accuracy: 0.9537 - val_loss: 0.1505 - val_accuracy: 0.9479\n",
            "Epoch 23/100\n",
            "222/222 [==============================] - 5s 23ms/step - loss: 0.0541 - accuracy: 0.9491 - val_loss: 0.2279 - val_accuracy: 0.9111\n",
            "Epoch 24/100\n",
            "222/222 [==============================] - 5s 23ms/step - loss: 0.0503 - accuracy: 0.9557 - val_loss: 0.1715 - val_accuracy: 0.9422\n",
            "CPU times: user 2min 40s, sys: 14.8 s, total: 2min 55s\n",
            "Wall time: 2min 9s\n"
          ],
          "name": "stdout"
        },
        {
          "output_type": "execute_result",
          "data": {
            "text/plain": [
              "<tensorflow.python.keras.callbacks.History at 0x7fc1feb1ff90>"
            ]
          },
          "metadata": {
            "tags": []
          },
          "execution_count": 40
        }
      ]
    },
    {
      "cell_type": "code",
      "metadata": {
        "colab": {
          "base_uri": "https://localhost:8080/",
          "height": 312
        },
        "id": "eZoVUwg63DE2",
        "outputId": "136d6a82-e3d2-4fbd-9c42-8fe22e68dc43"
      },
      "source": [
        "fig, ax = plt.subplots(nrows = 1, ncols = 2, figsize = (10, 4))\n",
        "\n",
        "# Accuracy\n",
        "ax[0].plot(history.history['accuracy'])\n",
        "ax[0].plot(history.history['val_accuracy'])\n",
        "ax[0].set_ylabel('Accuracy')\n",
        "ax[0].set_xlabel('# Epoch')\n",
        "ax[0].legend(['train', 'validation'], loc='upper left')\n",
        "ax[0].set_title('Accuracy')\n",
        "\n",
        "# Loss\n",
        "ax[1].plot(history.history['loss'])\n",
        "ax[1].plot(history.history['val_loss'])\n",
        "ax[1].set_ylabel('Loss')\n",
        "ax[1].set_xlabel('# Epoch')\n",
        "ax[1].legend(['train', 'validation'], loc='upper left')\n",
        "ax[1].set_title('Loss')"
      ],
      "execution_count": 41,
      "outputs": [
        {
          "output_type": "execute_result",
          "data": {
            "text/plain": [
              "Text(0.5, 1.0, 'Loss')"
            ]
          },
          "metadata": {
            "tags": []
          },
          "execution_count": 41
        },
        {
          "output_type": "display_data",
          "data": {
            "image/png": "[encoded data removed]",
            "text/plain": [
              "<Figure size 720x288 with 2 Axes>"
            ]
          },
          "metadata": {
            "tags": [],
            "needs_background": "light"
          }
        }
      ]
    },
    {
      "cell_type": "code",
      "metadata": {
        "colab": {
          "base_uri": "https://localhost:8080/",
          "height": 609
        },
        "id": "lZcx4cqv3DE3",
        "outputId": "667d38a3-e285-4370-b75e-63113e375b10"
      },
      "source": [
        "y_pred = model3.predict_classes(x_test)\n",
        "\n",
        "print_results(y_true.failure, y_pred)"
      ],
      "execution_count": 42,
      "outputs": [
        {
          "output_type": "stream",
          "text": [
            "/usr/local/lib/python3.7/dist-packages/tensorflow/python/keras/engine/sequential.py:450: UserWarning: `model.predict_classes()` is deprecated and will be removed after 2021-01-01. Please use instead:* `np.argmax(model.predict(x), axis=-1)`,   if your model does multi-class classification   (e.g. if it uses a `softmax` last-layer activation).* `(model.predict(x) > 0.5).astype(\"int32\")`,   if your model does binary classification   (e.g. if it uses a `sigmoid` last-layer activation).\n",
            "  warnings.warn('`model.predict_classes()` is deprecated and '\n"
          ],
          "name": "stderr"
        },
        {
          "output_type": "stream",
          "text": [
            "F1 Score:  0.9523809523809523\n",
            "              precision    recall  f1-score   support\n",
            "\n",
            "           0       1.00      0.96      0.98        70\n",
            "           1       0.91      1.00      0.95        30\n",
            "\n",
            "    accuracy                           0.97       100\n",
            "   macro avg       0.95      0.98      0.97       100\n",
            "weighted avg       0.97      0.97      0.97       100\n",
            "\n",
            "Area under curve :  0.9785714285714286 \n",
            "\n"
          ],
          "name": "stdout"
        },
        {
          "output_type": "display_data",
          "data": {
            "image/png": "[encoded data removed]",
            "text/plain": [
              "<Figure size 864x864 with 3 Axes>"
            ]
          },
          "metadata": {
            "tags": [],
            "needs_background": "light"
          }
        }
      ]
    },
    {
      "cell_type": "code",
      "metadata": {
        "colab": {
          "base_uri": "https://localhost:8080/"
        },
        "id": "88xov_2P3DE3",
        "outputId": "ca996f2d-7d9c-4443-8162-09747bf26eef"
      },
      "source": [
        "confusion_matrix(y_train, model3.predict_classes(x_train))"
      ],
      "execution_count": 43,
      "outputs": [
        {
          "output_type": "stream",
          "text": [
            "/usr/local/lib/python3.7/dist-packages/tensorflow/python/keras/engine/sequential.py:450: UserWarning: `model.predict_classes()` is deprecated and will be removed after 2021-01-01. Please use instead:* `np.argmax(model.predict(x), axis=-1)`,   if your model does multi-class classification   (e.g. if it uses a `softmax` last-layer activation).* `(model.predict(x) > 0.5).astype(\"int32\")`,   if your model does binary classification   (e.g. if it uses a `sigmoid` last-layer activation).\n",
            "  warnings.warn('`model.predict_classes()` is deprecated and '\n"
          ],
          "name": "stderr"
        },
        {
          "output_type": "execute_result",
          "data": {
            "text/plain": [
              "array([[10385,   346],\n",
              "       [  255,  4745]])"
            ]
          },
          "metadata": {
            "tags": []
          },
          "execution_count": 43
        }
      ]
    },
    {
      "cell_type": "markdown",
      "metadata": {
        "id": "5Ht6Cz8s3DE3"
      },
      "source": [
        "#### Model 4"
      ]
    },
    {
      "cell_type": "markdown",
      "metadata": {
        "id": "H-GI1vGw3DE4"
      },
      "source": [
        "Model 4 has two hidden layers to learn complex patterns in the data."
      ]
    },
    {
      "cell_type": "code",
      "metadata": {
        "colab": {
          "base_uri": "https://localhost:8080/"
        },
        "id": "1ZS0QoA13DE4",
        "outputId": "64a78f70-34d3-4981-8149-1ae175a8720c"
      },
      "source": [
        "history = History()\n",
        "\n",
        "model4 = Sequential()\n",
        "model4.add(LSTM(\n",
        "         units=8,\n",
        "         return_sequences=True,\n",
        "         input_shape=(sequence_length, nb_features)))\n",
        "model4.add(Dropout(0.2))\n",
        "model4.add(LSTM(\n",
        "         units=4,\n",
        "         return_sequences=False))\n",
        "model4.add(Dropout(0.2))\n",
        "model4.add(Dense(units=1, activation='sigmoid'))\n",
        "model4.compile(loss=\"binary_crossentropy\", optimizer=\"adam\", metrics=['accuracy'])\n",
        "\n",
        "model4.summary()"
      ],
      "execution_count": 44,
      "outputs": [
        {
          "output_type": "stream",
          "text": [
            "Model: \"sequential_3\"\n",
            "_________________________________________________________________\n",
            "Layer (type)                 Output Shape              Param #   \n",
            "=================================================================\n",
            "lstm_3 (LSTM)                (None, 50, 8)             768       \n",
            "_________________________________________________________________\n",
            "dropout_1 (Dropout)          (None, 50, 8)             0         \n",
            "_________________________________________________________________\n",
            "lstm_4 (LSTM)                (None, 4)                 208       \n",
            "_________________________________________________________________\n",
            "dropout_2 (Dropout)          (None, 4)                 0         \n",
            "_________________________________________________________________\n",
            "dense_3 (Dense)              (None, 1)                 5         \n",
            "=================================================================\n",
            "Total params: 981\n",
            "Trainable params: 981\n",
            "Non-trainable params: 0\n",
            "_________________________________________________________________\n"
          ],
          "name": "stdout"
        }
      ]
    },
    {
      "cell_type": "code",
      "metadata": {
        "scrolled": true,
        "colab": {
          "base_uri": "https://localhost:8080/"
        },
        "id": "_smcRx7z3DE4",
        "outputId": "6529ee37-6894-49d9-a6e7-5d76d690899d"
      },
      "source": [
        "%%time\n",
        "# fit the model\n",
        "model4.fit(x_train, y_train, epochs=100, batch_size=64, validation_split=0.1, verbose=1, class_weight = cls_wt,\n",
        "          callbacks = [history,\n",
        "                       keras.callbacks.EarlyStopping(monitor='val_loss', min_delta=0, patience=10, verbose=0, mode='auto')])"
      ],
      "execution_count": 45,
      "outputs": [
        {
          "output_type": "stream",
          "text": [
            "Epoch 1/100\n",
            "222/222 [==============================] - 14s 45ms/step - loss: 0.2386 - accuracy: 0.7826 - val_loss: 0.3023 - val_accuracy: 0.8825\n",
            "Epoch 2/100\n",
            "222/222 [==============================] - 9s 41ms/step - loss: 0.1167 - accuracy: 0.9141 - val_loss: 0.2409 - val_accuracy: 0.9149\n",
            "Epoch 3/100\n",
            "222/222 [==============================] - 9s 41ms/step - loss: 0.0905 - accuracy: 0.9286 - val_loss: 0.1971 - val_accuracy: 0.9295\n",
            "Epoch 4/100\n",
            "222/222 [==============================] - 9s 42ms/step - loss: 0.0808 - accuracy: 0.9398 - val_loss: 0.2330 - val_accuracy: 0.9187\n",
            "Epoch 5/100\n",
            "222/222 [==============================] - 9s 42ms/step - loss: 0.0749 - accuracy: 0.9404 - val_loss: 0.1739 - val_accuracy: 0.9333\n",
            "Epoch 6/100\n",
            "222/222 [==============================] - 10s 43ms/step - loss: 0.0681 - accuracy: 0.9434 - val_loss: 0.1436 - val_accuracy: 0.9435\n",
            "Epoch 7/100\n",
            "222/222 [==============================] - 9s 41ms/step - loss: 0.0602 - accuracy: 0.9484 - val_loss: 0.1943 - val_accuracy: 0.9314\n",
            "Epoch 8/100\n",
            "222/222 [==============================] - 11s 48ms/step - loss: 0.0597 - accuracy: 0.9505 - val_loss: 0.1681 - val_accuracy: 0.9314\n",
            "Epoch 9/100\n",
            "222/222 [==============================] - 9s 43ms/step - loss: 0.0542 - accuracy: 0.9543 - val_loss: 0.1778 - val_accuracy: 0.9295\n",
            "Epoch 10/100\n",
            "222/222 [==============================] - 9s 42ms/step - loss: 0.0516 - accuracy: 0.9544 - val_loss: 0.1918 - val_accuracy: 0.9295\n",
            "Epoch 11/100\n",
            "222/222 [==============================] - 9s 42ms/step - loss: 0.0512 - accuracy: 0.9580 - val_loss: 0.2101 - val_accuracy: 0.9301\n",
            "Epoch 12/100\n",
            "222/222 [==============================] - 9s 41ms/step - loss: 0.0487 - accuracy: 0.9570 - val_loss: 0.1851 - val_accuracy: 0.9320\n",
            "Epoch 13/100\n",
            "222/222 [==============================] - 9s 42ms/step - loss: 0.0417 - accuracy: 0.9658 - val_loss: 0.1576 - val_accuracy: 0.9377\n",
            "Epoch 14/100\n",
            "222/222 [==============================] - 9s 41ms/step - loss: 0.0451 - accuracy: 0.9628 - val_loss: 0.2361 - val_accuracy: 0.9301\n",
            "Epoch 15/100\n",
            "222/222 [==============================] - 9s 41ms/step - loss: 0.0421 - accuracy: 0.9649 - val_loss: 0.1844 - val_accuracy: 0.9352\n",
            "Epoch 16/100\n",
            "222/222 [==============================] - 9s 42ms/step - loss: 0.0414 - accuracy: 0.9653 - val_loss: 0.2461 - val_accuracy: 0.9282\n",
            "CPU times: user 3min 27s, sys: 17.5 s, total: 3min 45s\n",
            "Wall time: 2min 34s\n"
          ],
          "name": "stdout"
        },
        {
          "output_type": "execute_result",
          "data": {
            "text/plain": [
              "<tensorflow.python.keras.callbacks.History at 0x7fc1fac14190>"
            ]
          },
          "metadata": {
            "tags": []
          },
          "execution_count": 45
        }
      ]
    },
    {
      "cell_type": "code",
      "metadata": {
        "colab": {
          "base_uri": "https://localhost:8080/",
          "height": 312
        },
        "id": "1qwBhfxy3DE5",
        "outputId": "7421694e-5068-46ab-e447-d8448318532b"
      },
      "source": [
        "fig, ax = plt.subplots(nrows = 1, ncols = 2, figsize = (10, 4))\n",
        "\n",
        "# Accuracy\n",
        "ax[0].plot(history.history['accuracy'])\n",
        "ax[0].plot(history.history['val_accuracy'])\n",
        "ax[0].set_ylabel('Accuracy')\n",
        "ax[0].set_xlabel('# Epoch')\n",
        "ax[0].legend(['train', 'validation'], loc='upper left')\n",
        "ax[0].set_title('Accuracy')\n",
        "\n",
        "# Loss\n",
        "ax[1].plot(history.history['loss'])\n",
        "ax[1].plot(history.history['val_loss'])\n",
        "ax[1].set_ylabel('Loss')\n",
        "ax[1].set_xlabel('# Epoch')\n",
        "ax[1].legend(['train', 'validation'], loc='upper left')\n",
        "ax[1].set_title('Loss')"
      ],
      "execution_count": 46,
      "outputs": [
        {
          "output_type": "execute_result",
          "data": {
            "text/plain": [
              "Text(0.5, 1.0, 'Loss')"
            ]
          },
          "metadata": {
            "tags": []
          },
          "execution_count": 46
        },
        {
          "output_type": "display_data",
          "data": {
            "image/png": "[encoded data removed]",
            "text/plain": [
              "<Figure size 720x288 with 2 Axes>"
            ]
          },
          "metadata": {
            "tags": [],
            "needs_background": "light"
          }
        }
      ]
    },
    {
      "cell_type": "code",
      "metadata": {
        "colab": {
          "base_uri": "https://localhost:8080/",
          "height": 609
        },
        "id": "odo7udsP3DE5",
        "outputId": "29e5590e-823d-4029-c4fe-05afb4d9aed5"
      },
      "source": [
        "y_pred = model4.predict_classes(x_test)\n",
        "\n",
        "print_results(y_true.failure, y_pred)"
      ],
      "execution_count": 47,
      "outputs": [
        {
          "output_type": "stream",
          "text": [
            "/usr/local/lib/python3.7/dist-packages/tensorflow/python/keras/engine/sequential.py:450: UserWarning: `model.predict_classes()` is deprecated and will be removed after 2021-01-01. Please use instead:* `np.argmax(model.predict(x), axis=-1)`,   if your model does multi-class classification   (e.g. if it uses a `softmax` last-layer activation).* `(model.predict(x) > 0.5).astype(\"int32\")`,   if your model does binary classification   (e.g. if it uses a `sigmoid` last-layer activation).\n",
            "  warnings.warn('`model.predict_classes()` is deprecated and '\n"
          ],
          "name": "stderr"
        },
        {
          "output_type": "stream",
          "text": [
            "F1 Score:  0.9375\n",
            "              precision    recall  f1-score   support\n",
            "\n",
            "           0       1.00      0.94      0.97        70\n",
            "           1       0.88      1.00      0.94        30\n",
            "\n",
            "    accuracy                           0.96       100\n",
            "   macro avg       0.94      0.97      0.95       100\n",
            "weighted avg       0.96      0.96      0.96       100\n",
            "\n",
            "Area under curve :  0.9714285714285714 \n",
            "\n"
          ],
          "name": "stdout"
        },
        {
          "output_type": "display_data",
          "data": {
            "image/png": "[encoded data removed]",
            "text/plain": [
              "<Figure size 864x864 with 3 Axes>"
            ]
          },
          "metadata": {
            "tags": [],
            "needs_background": "light"
          }
        }
      ]
    },
    {
      "cell_type": "code",
      "metadata": {
        "colab": {
          "base_uri": "https://localhost:8080/"
        },
        "id": "bnDDh0Uk3DE6",
        "outputId": "ce2f794a-409b-426d-fd28-faf1eb79a87d"
      },
      "source": [
        "confusion_matrix(y_train, model4.predict_classes(x_train))"
      ],
      "execution_count": 48,
      "outputs": [
        {
          "output_type": "stream",
          "text": [
            "/usr/local/lib/python3.7/dist-packages/tensorflow/python/keras/engine/sequential.py:450: UserWarning: `model.predict_classes()` is deprecated and will be removed after 2021-01-01. Please use instead:* `np.argmax(model.predict(x), axis=-1)`,   if your model does multi-class classification   (e.g. if it uses a `softmax` last-layer activation).* `(model.predict(x) > 0.5).astype(\"int32\")`,   if your model does binary classification   (e.g. if it uses a `sigmoid` last-layer activation).\n",
            "  warnings.warn('`model.predict_classes()` is deprecated and '\n"
          ],
          "name": "stderr"
        },
        {
          "output_type": "execute_result",
          "data": {
            "text/plain": [
              "array([[9972,  759],\n",
              "       [  50, 4950]])"
            ]
          },
          "metadata": {
            "tags": []
          },
          "execution_count": 48
        }
      ]
    },
    {
      "cell_type": "markdown",
      "metadata": {
        "id": "Syhyn9UA3DE6"
      },
      "source": [
        "#### False Positives Analysis"
      ]
    },
    {
      "cell_type": "code",
      "metadata": {
        "colab": {
          "base_uri": "https://localhost:8080/",
          "height": 204
        },
        "id": "KU_E-Bw83DE6",
        "outputId": "0109aae9-814d-4d0d-b7c9-f818d72ebdb2"
      },
      "source": [
        "y_true['pred'] = y_pred\n",
        "y_true.head()"
      ],
      "execution_count": 49,
      "outputs": [
        {
          "output_type": "execute_result",
          "data": {
            "text/html": [
              "<div>\n",
              "<style scoped>\n",
              "    .dataframe tbody tr th:only-of-type {\n",
              "        vertical-align: middle;\n",
              "    }\n",
              "\n",
              "    .dataframe tbody tr th {\n",
              "        vertical-align: top;\n",
              "    }\n",
              "\n",
              "    .dataframe thead th {\n",
              "        text-align: right;\n",
              "    }\n",
              "</style>\n",
              "<table border=\"1\" class=\"dataframe\">\n",
              "  <thead>\n",
              "    <tr style=\"text-align: right;\">\n",
              "      <th></th>\n",
              "      <th>RUL</th>\n",
              "      <th>UnitNumber</th>\n",
              "      <th>failure</th>\n",
              "      <th>pred</th>\n",
              "    </tr>\n",
              "  </thead>\n",
              "  <tbody>\n",
              "    <tr>\n",
              "      <th>0</th>\n",
              "      <td>112</td>\n",
              "      <td>0</td>\n",
              "      <td>0</td>\n",
              "      <td>0</td>\n",
              "    </tr>\n",
              "    <tr>\n",
              "      <th>1</th>\n",
              "      <td>98</td>\n",
              "      <td>1</td>\n",
              "      <td>0</td>\n",
              "      <td>0</td>\n",
              "    </tr>\n",
              "    <tr>\n",
              "      <th>2</th>\n",
              "      <td>69</td>\n",
              "      <td>2</td>\n",
              "      <td>0</td>\n",
              "      <td>0</td>\n",
              "    </tr>\n",
              "    <tr>\n",
              "      <th>3</th>\n",
              "      <td>82</td>\n",
              "      <td>3</td>\n",
              "      <td>0</td>\n",
              "      <td>0</td>\n",
              "    </tr>\n",
              "    <tr>\n",
              "      <th>4</th>\n",
              "      <td>91</td>\n",
              "      <td>4</td>\n",
              "      <td>0</td>\n",
              "      <td>0</td>\n",
              "    </tr>\n",
              "  </tbody>\n",
              "</table>\n",
              "</div>"
            ],
            "text/plain": [
              "   RUL  UnitNumber  failure  pred\n",
              "0  112           0        0     0\n",
              "1   98           1        0     0\n",
              "2   69           2        0     0\n",
              "3   82           3        0     0\n",
              "4   91           4        0     0"
            ]
          },
          "metadata": {
            "tags": []
          },
          "execution_count": 49
        }
      ]
    },
    {
      "cell_type": "code",
      "metadata": {
        "colab": {
          "base_uri": "https://localhost:8080/",
          "height": 173
        },
        "id": "2YBJ0s7G3DE7",
        "outputId": "8fcff364-eba5-462c-d6cc-ce19450e952c"
      },
      "source": [
        "y_true[y_true.failure != y_true.pred]"
      ],
      "execution_count": 50,
      "outputs": [
        {
          "output_type": "execute_result",
          "data": {
            "text/html": [
              "<div>\n",
              "<style scoped>\n",
              "    .dataframe tbody tr th:only-of-type {\n",
              "        vertical-align: middle;\n",
              "    }\n",
              "\n",
              "    .dataframe tbody tr th {\n",
              "        vertical-align: top;\n",
              "    }\n",
              "\n",
              "    .dataframe thead th {\n",
              "        text-align: right;\n",
              "    }\n",
              "</style>\n",
              "<table border=\"1\" class=\"dataframe\">\n",
              "  <thead>\n",
              "    <tr style=\"text-align: right;\">\n",
              "      <th></th>\n",
              "      <th>RUL</th>\n",
              "      <th>UnitNumber</th>\n",
              "      <th>failure</th>\n",
              "      <th>pred</th>\n",
              "    </tr>\n",
              "  </thead>\n",
              "  <tbody>\n",
              "    <tr>\n",
              "      <th>61</th>\n",
              "      <td>54</td>\n",
              "      <td>61</td>\n",
              "      <td>0</td>\n",
              "      <td>1</td>\n",
              "    </tr>\n",
              "    <tr>\n",
              "      <th>62</th>\n",
              "      <td>72</td>\n",
              "      <td>62</td>\n",
              "      <td>0</td>\n",
              "      <td>1</td>\n",
              "    </tr>\n",
              "    <tr>\n",
              "      <th>83</th>\n",
              "      <td>58</td>\n",
              "      <td>83</td>\n",
              "      <td>0</td>\n",
              "      <td>1</td>\n",
              "    </tr>\n",
              "    <tr>\n",
              "      <th>92</th>\n",
              "      <td>85</td>\n",
              "      <td>92</td>\n",
              "      <td>0</td>\n",
              "      <td>1</td>\n",
              "    </tr>\n",
              "  </tbody>\n",
              "</table>\n",
              "</div>"
            ],
            "text/plain": [
              "    RUL  UnitNumber  failure  pred\n",
              "61   54          61        0     1\n",
              "62   72          62        0     1\n",
              "83   58          83        0     1\n",
              "92   85          92        0     1"
            ]
          },
          "metadata": {
            "tags": []
          },
          "execution_count": 50
        }
      ]
    },
    {
      "cell_type": "markdown",
      "metadata": {
        "id": "ZeSkiJFZ3DE7"
      },
      "source": [
        "The RUL for False positives is near to 50 cycles only."
      ]
    },
    {
      "cell_type": "markdown",
      "metadata": {
        "id": "UEmeoorM3DE7"
      },
      "source": [
        "### Experiment"
      ]
    },
    {
      "cell_type": "markdown",
      "metadata": {
        "id": "47hCSDsD3DE7"
      },
      "source": [
        "LSTM models have stochasticity and the results might be different everytime. I run the model (architecture same as mdoel 4) 10 times and check the performance of model."
      ]
    },
    {
      "cell_type": "code",
      "metadata": {
        "id": "DV3DxGjv3DE8"
      },
      "source": [
        "def run_exp_model(X, y, X_test, y_test, nruns = 10):\n",
        "    \n",
        "    \"\"\"\n",
        "    Parameters:\n",
        "    X, y = training pandas dataframe\n",
        "    X_test, y_test = testing pandas dataframe\n",
        "    nruns = number of time the models should rn\n",
        "    \n",
        "    return:\n",
        "    Dataframe with Model Run, Accuracy, Precision, Recall, F1 Score, AUC Score\n",
        "    \"\"\"\n",
        "    \n",
        "    score_df = pd.DataFrame(columns=[\"Model\", \"Accuracy\", \"Precision\", \"Recall\", \"F1 score\", \"AUC Score\"])\n",
        "\n",
        "    for i in range(0, nruns):\n",
        "        start = time.time()\n",
        "\n",
        "        model = Sequential()\n",
        "        model.add(LSTM(\n",
        "                 units=8,\n",
        "                 return_sequences=True,\n",
        "                 input_shape=(sequence_length, nb_features)))\n",
        "        model.add(Dropout(0.2))\n",
        "        model.add(LSTM(\n",
        "                  units=4,\n",
        "                  return_sequences=False))\n",
        "        model.add(Dropout(0.2))\n",
        "        model.add(Dense(units=1, activation='sigmoid'))\n",
        "\n",
        "        model.compile(loss='binary_crossentropy', optimizer = \"adam\", metrics=[\"accuracy\"])\n",
        "\n",
        "        model.fit(X, y, epochs=100, batch_size=64, validation_split = 0.1, verbose=0, class_weight=cls_wt,\n",
        "              shuffle= True ,callbacks = [keras.callbacks.EarlyStopping(monitor='val_loss', min_delta=0, patience=10, \n",
        "                                                                  verbose=0, mode='auto')])\n",
        "\n",
        "        predictions = model.predict_classes(X_test)\n",
        "\n",
        "        acc = accuracy_score(y_test,predictions)\n",
        "        pr = precision_score(y_test,predictions)\n",
        "        rc = recall_score(y_test,predictions)\n",
        "        f1 = f1_score(y_test,predictions)\n",
        "        auc = roc_auc_score(y_test,predictions)\n",
        "\n",
        "        score_df = score_df.append({'Model':i + 1, 'Accuracy': acc, 'Precision': pr, 'Recall': rc,\n",
        "                                    'F1 Score': f1, 'AUC Score': auc}, ignore_index=True)\n",
        "        end = time.time()\n",
        "        print(\"Run:\", i+1, \" and Runtime:\", np.round(end - start, 3), \" Seconds\", sep = \"\")        \n",
        "    \n",
        "    return score_df"
      ],
      "execution_count": 51,
      "outputs": []
    },
    {
      "cell_type": "code",
      "metadata": {
        "colab": {
          "base_uri": "https://localhost:8080/"
        },
        "id": "ZgkK7iiL3DE8",
        "outputId": "232d7dae-2e1e-47ad-bc4a-ca48b30c8932"
      },
      "source": [
        "result_df = run_exp_model(x_train, y_train, x_test, y_true.failure, nruns = 10)"
      ],
      "execution_count": 52,
      "outputs": [
        {
          "output_type": "stream",
          "text": [
            "/usr/local/lib/python3.7/dist-packages/tensorflow/python/keras/engine/sequential.py:450: UserWarning: `model.predict_classes()` is deprecated and will be removed after 2021-01-01. Please use instead:* `np.argmax(model.predict(x), axis=-1)`,   if your model does multi-class classification   (e.g. if it uses a `softmax` last-layer activation).* `(model.predict(x) > 0.5).astype(\"int32\")`,   if your model does binary classification   (e.g. if it uses a `sigmoid` last-layer activation).\n",
            "  warnings.warn('`model.predict_classes()` is deprecated and '\n"
          ],
          "name": "stderr"
        },
        {
          "output_type": "stream",
          "text": [
            "Run:1 and Runtime:115.689 Seconds\n"
          ],
          "name": "stdout"
        },
        {
          "output_type": "stream",
          "text": [
            "/usr/local/lib/python3.7/dist-packages/tensorflow/python/keras/engine/sequential.py:450: UserWarning: `model.predict_classes()` is deprecated and will be removed after 2021-01-01. Please use instead:* `np.argmax(model.predict(x), axis=-1)`,   if your model does multi-class classification   (e.g. if it uses a `softmax` last-layer activation).* `(model.predict(x) > 0.5).astype(\"int32\")`,   if your model does binary classification   (e.g. if it uses a `sigmoid` last-layer activation).\n",
            "  warnings.warn('`model.predict_classes()` is deprecated and '\n"
          ],
          "name": "stderr"
        },
        {
          "output_type": "stream",
          "text": [
            "Run:2 and Runtime:174.587 Seconds\n"
          ],
          "name": "stdout"
        },
        {
          "output_type": "stream",
          "text": [
            "/usr/local/lib/python3.7/dist-packages/tensorflow/python/keras/engine/sequential.py:450: UserWarning: `model.predict_classes()` is deprecated and will be removed after 2021-01-01. Please use instead:* `np.argmax(model.predict(x), axis=-1)`,   if your model does multi-class classification   (e.g. if it uses a `softmax` last-layer activation).* `(model.predict(x) > 0.5).astype(\"int32\")`,   if your model does binary classification   (e.g. if it uses a `sigmoid` last-layer activation).\n",
            "  warnings.warn('`model.predict_classes()` is deprecated and '\n"
          ],
          "name": "stderr"
        },
        {
          "output_type": "stream",
          "text": [
            "Run:3 and Runtime:164.229 Seconds\n"
          ],
          "name": "stdout"
        },
        {
          "output_type": "stream",
          "text": [
            "/usr/local/lib/python3.7/dist-packages/tensorflow/python/keras/engine/sequential.py:450: UserWarning: `model.predict_classes()` is deprecated and will be removed after 2021-01-01. Please use instead:* `np.argmax(model.predict(x), axis=-1)`,   if your model does multi-class classification   (e.g. if it uses a `softmax` last-layer activation).* `(model.predict(x) > 0.5).astype(\"int32\")`,   if your model does binary classification   (e.g. if it uses a `sigmoid` last-layer activation).\n",
            "  warnings.warn('`model.predict_classes()` is deprecated and '\n"
          ],
          "name": "stderr"
        },
        {
          "output_type": "stream",
          "text": [
            "Run:4 and Runtime:148.743 Seconds\n"
          ],
          "name": "stdout"
        },
        {
          "output_type": "stream",
          "text": [
            "/usr/local/lib/python3.7/dist-packages/tensorflow/python/keras/engine/sequential.py:450: UserWarning: `model.predict_classes()` is deprecated and will be removed after 2021-01-01. Please use instead:* `np.argmax(model.predict(x), axis=-1)`,   if your model does multi-class classification   (e.g. if it uses a `softmax` last-layer activation).* `(model.predict(x) > 0.5).astype(\"int32\")`,   if your model does binary classification   (e.g. if it uses a `sigmoid` last-layer activation).\n",
            "  warnings.warn('`model.predict_classes()` is deprecated and '\n"
          ],
          "name": "stderr"
        },
        {
          "output_type": "stream",
          "text": [
            "Run:5 and Runtime:154.387 Seconds\n"
          ],
          "name": "stdout"
        },
        {
          "output_type": "stream",
          "text": [
            "/usr/local/lib/python3.7/dist-packages/tensorflow/python/keras/engine/sequential.py:450: UserWarning: `model.predict_classes()` is deprecated and will be removed after 2021-01-01. Please use instead:* `np.argmax(model.predict(x), axis=-1)`,   if your model does multi-class classification   (e.g. if it uses a `softmax` last-layer activation).* `(model.predict(x) > 0.5).astype(\"int32\")`,   if your model does binary classification   (e.g. if it uses a `sigmoid` last-layer activation).\n",
            "  warnings.warn('`model.predict_classes()` is deprecated and '\n"
          ],
          "name": "stderr"
        },
        {
          "output_type": "stream",
          "text": [
            "Run:6 and Runtime:299.368 Seconds\n"
          ],
          "name": "stdout"
        },
        {
          "output_type": "stream",
          "text": [
            "/usr/local/lib/python3.7/dist-packages/tensorflow/python/keras/engine/sequential.py:450: UserWarning: `model.predict_classes()` is deprecated and will be removed after 2021-01-01. Please use instead:* `np.argmax(model.predict(x), axis=-1)`,   if your model does multi-class classification   (e.g. if it uses a `softmax` last-layer activation).* `(model.predict(x) > 0.5).astype(\"int32\")`,   if your model does binary classification   (e.g. if it uses a `sigmoid` last-layer activation).\n",
            "  warnings.warn('`model.predict_classes()` is deprecated and '\n"
          ],
          "name": "stderr"
        },
        {
          "output_type": "stream",
          "text": [
            "Run:7 and Runtime:239.405 Seconds\n"
          ],
          "name": "stdout"
        },
        {
          "output_type": "stream",
          "text": [
            "/usr/local/lib/python3.7/dist-packages/tensorflow/python/keras/engine/sequential.py:450: UserWarning: `model.predict_classes()` is deprecated and will be removed after 2021-01-01. Please use instead:* `np.argmax(model.predict(x), axis=-1)`,   if your model does multi-class classification   (e.g. if it uses a `softmax` last-layer activation).* `(model.predict(x) > 0.5).astype(\"int32\")`,   if your model does binary classification   (e.g. if it uses a `sigmoid` last-layer activation).\n",
            "  warnings.warn('`model.predict_classes()` is deprecated and '\n"
          ],
          "name": "stderr"
        },
        {
          "output_type": "stream",
          "text": [
            "Run:8 and Runtime:178.886 Seconds\n"
          ],
          "name": "stdout"
        },
        {
          "output_type": "stream",
          "text": [
            "/usr/local/lib/python3.7/dist-packages/tensorflow/python/keras/engine/sequential.py:450: UserWarning: `model.predict_classes()` is deprecated and will be removed after 2021-01-01. Please use instead:* `np.argmax(model.predict(x), axis=-1)`,   if your model does multi-class classification   (e.g. if it uses a `softmax` last-layer activation).* `(model.predict(x) > 0.5).astype(\"int32\")`,   if your model does binary classification   (e.g. if it uses a `sigmoid` last-layer activation).\n",
            "  warnings.warn('`model.predict_classes()` is deprecated and '\n"
          ],
          "name": "stderr"
        },
        {
          "output_type": "stream",
          "text": [
            "Run:9 and Runtime:233.567 Seconds\n"
          ],
          "name": "stdout"
        },
        {
          "output_type": "stream",
          "text": [
            "/usr/local/lib/python3.7/dist-packages/tensorflow/python/keras/engine/sequential.py:450: UserWarning: `model.predict_classes()` is deprecated and will be removed after 2021-01-01. Please use instead:* `np.argmax(model.predict(x), axis=-1)`,   if your model does multi-class classification   (e.g. if it uses a `softmax` last-layer activation).* `(model.predict(x) > 0.5).astype(\"int32\")`,   if your model does binary classification   (e.g. if it uses a `sigmoid` last-layer activation).\n",
            "  warnings.warn('`model.predict_classes()` is deprecated and '\n"
          ],
          "name": "stderr"
        },
        {
          "output_type": "stream",
          "text": [
            "Run:10 and Runtime:173.297 Seconds\n"
          ],
          "name": "stdout"
        }
      ]
    },
    {
      "cell_type": "code",
      "metadata": {
        "colab": {
          "base_uri": "https://localhost:8080/",
          "height": 359
        },
        "id": "qaHazKbX3DE-",
        "outputId": "9c79e1ff-a122-409d-e482-9d712a4db4ee"
      },
      "source": [
        "result_df"
      ],
      "execution_count": 53,
      "outputs": [
        {
          "output_type": "execute_result",
          "data": {
            "text/html": [
              "<div>\n",
              "<style scoped>\n",
              "    .dataframe tbody tr th:only-of-type {\n",
              "        vertical-align: middle;\n",
              "    }\n",
              "\n",
              "    .dataframe tbody tr th {\n",
              "        vertical-align: top;\n",
              "    }\n",
              "\n",
              "    .dataframe thead th {\n",
              "        text-align: right;\n",
              "    }\n",
              "</style>\n",
              "<table border=\"1\" class=\"dataframe\">\n",
              "  <thead>\n",
              "    <tr style=\"text-align: right;\">\n",
              "      <th></th>\n",
              "      <th>Model</th>\n",
              "      <th>Accuracy</th>\n",
              "      <th>Precision</th>\n",
              "      <th>Recall</th>\n",
              "      <th>F1 score</th>\n",
              "      <th>AUC Score</th>\n",
              "      <th>F1 Score</th>\n",
              "    </tr>\n",
              "  </thead>\n",
              "  <tbody>\n",
              "    <tr>\n",
              "      <th>0</th>\n",
              "      <td>1.0</td>\n",
              "      <td>0.97</td>\n",
              "      <td>0.909091</td>\n",
              "      <td>1.0</td>\n",
              "      <td>NaN</td>\n",
              "      <td>0.978571</td>\n",
              "      <td>0.952381</td>\n",
              "    </tr>\n",
              "    <tr>\n",
              "      <th>1</th>\n",
              "      <td>2.0</td>\n",
              "      <td>0.99</td>\n",
              "      <td>0.967742</td>\n",
              "      <td>1.0</td>\n",
              "      <td>NaN</td>\n",
              "      <td>0.992857</td>\n",
              "      <td>0.983607</td>\n",
              "    </tr>\n",
              "    <tr>\n",
              "      <th>2</th>\n",
              "      <td>3.0</td>\n",
              "      <td>0.96</td>\n",
              "      <td>0.882353</td>\n",
              "      <td>1.0</td>\n",
              "      <td>NaN</td>\n",
              "      <td>0.971429</td>\n",
              "      <td>0.937500</td>\n",
              "    </tr>\n",
              "    <tr>\n",
              "      <th>3</th>\n",
              "      <td>4.0</td>\n",
              "      <td>0.96</td>\n",
              "      <td>0.882353</td>\n",
              "      <td>1.0</td>\n",
              "      <td>NaN</td>\n",
              "      <td>0.971429</td>\n",
              "      <td>0.937500</td>\n",
              "    </tr>\n",
              "    <tr>\n",
              "      <th>4</th>\n",
              "      <td>5.0</td>\n",
              "      <td>0.97</td>\n",
              "      <td>0.909091</td>\n",
              "      <td>1.0</td>\n",
              "      <td>NaN</td>\n",
              "      <td>0.978571</td>\n",
              "      <td>0.952381</td>\n",
              "    </tr>\n",
              "    <tr>\n",
              "      <th>5</th>\n",
              "      <td>6.0</td>\n",
              "      <td>0.96</td>\n",
              "      <td>0.882353</td>\n",
              "      <td>1.0</td>\n",
              "      <td>NaN</td>\n",
              "      <td>0.971429</td>\n",
              "      <td>0.937500</td>\n",
              "    </tr>\n",
              "    <tr>\n",
              "      <th>6</th>\n",
              "      <td>7.0</td>\n",
              "      <td>0.95</td>\n",
              "      <td>0.857143</td>\n",
              "      <td>1.0</td>\n",
              "      <td>NaN</td>\n",
              "      <td>0.964286</td>\n",
              "      <td>0.923077</td>\n",
              "    </tr>\n",
              "    <tr>\n",
              "      <th>7</th>\n",
              "      <td>8.0</td>\n",
              "      <td>0.98</td>\n",
              "      <td>0.937500</td>\n",
              "      <td>1.0</td>\n",
              "      <td>NaN</td>\n",
              "      <td>0.985714</td>\n",
              "      <td>0.967742</td>\n",
              "    </tr>\n",
              "    <tr>\n",
              "      <th>8</th>\n",
              "      <td>9.0</td>\n",
              "      <td>0.99</td>\n",
              "      <td>0.967742</td>\n",
              "      <td>1.0</td>\n",
              "      <td>NaN</td>\n",
              "      <td>0.992857</td>\n",
              "      <td>0.983607</td>\n",
              "    </tr>\n",
              "    <tr>\n",
              "      <th>9</th>\n",
              "      <td>10.0</td>\n",
              "      <td>0.98</td>\n",
              "      <td>0.937500</td>\n",
              "      <td>1.0</td>\n",
              "      <td>NaN</td>\n",
              "      <td>0.985714</td>\n",
              "      <td>0.967742</td>\n",
              "    </tr>\n",
              "  </tbody>\n",
              "</table>\n",
              "</div>"
            ],
            "text/plain": [
              "   Model  Accuracy  Precision  Recall  F1 score  AUC Score  F1 Score\n",
              "0    1.0      0.97   0.909091     1.0       NaN   0.978571  0.952381\n",
              "1    2.0      0.99   0.967742     1.0       NaN   0.992857  0.983607\n",
              "2    3.0      0.96   0.882353     1.0       NaN   0.971429  0.937500\n",
              "3    4.0      0.96   0.882353     1.0       NaN   0.971429  0.937500\n",
              "4    5.0      0.97   0.909091     1.0       NaN   0.978571  0.952381\n",
              "5    6.0      0.96   0.882353     1.0       NaN   0.971429  0.937500\n",
              "6    7.0      0.95   0.857143     1.0       NaN   0.964286  0.923077\n",
              "7    8.0      0.98   0.937500     1.0       NaN   0.985714  0.967742\n",
              "8    9.0      0.99   0.967742     1.0       NaN   0.992857  0.983607\n",
              "9   10.0      0.98   0.937500     1.0       NaN   0.985714  0.967742"
            ]
          },
          "metadata": {
            "tags": []
          },
          "execution_count": 53
        }
      ]
    },
    {
      "cell_type": "code",
      "metadata": {
        "colab": {
          "base_uri": "https://localhost:8080/",
          "height": 352
        },
        "id": "6V0yII8A3DE_",
        "outputId": "a1960ef7-3848-4a18-e27e-b1a3274f656d"
      },
      "source": [
        "fig, ax = plt.subplots()\n",
        "result_df.drop(['Model'], axis = 1).boxplot(vert = 1, ax = ax)\n",
        "ax.set_title('Binary Claasification Model Performance on Test Data')\n",
        "ax.grid(b=None)\n",
        "ax.set_ylabel('Value')"
      ],
      "execution_count": 54,
      "outputs": [
        {
          "output_type": "stream",
          "text": [
            "/usr/local/lib/python3.7/dist-packages/numpy/core/_asarray.py:83: VisibleDeprecationWarning: Creating an ndarray from ragged nested sequences (which is a list-or-tuple of lists-or-tuples-or ndarrays with different lengths or shapes) is deprecated. If you meant to do this, you must specify 'dtype=object' when creating the ndarray\n",
            "  return array(a, dtype, copy=False, order=order)\n"
          ],
          "name": "stderr"
        },
        {
          "output_type": "execute_result",
          "data": {
            "text/plain": [
              "Text(0, 0.5, 'Value')"
            ]
          },
          "metadata": {
            "tags": []
          },
          "execution_count": 54
        },
        {
          "output_type": "display_data",
          "data": {
            "image/png": "[encoded data removed]",
            "text/plain": [
              "<Figure size 432x288 with 1 Axes>"
            ]
          },
          "metadata": {
            "tags": [],
            "needs_background": "light"
          }
        }
      ]
    },
    {
      "cell_type": "code",
      "metadata": {
        "colab": {
          "base_uri": "https://localhost:8080/"
        },
        "id": "swqhX1vl3DFA",
        "outputId": "ca151a95-0ca5-4ae8-a1e8-a009bc40d484"
      },
      "source": [
        "result_df.mean()"
      ],
      "execution_count": 55,
      "outputs": [
        {
          "output_type": "execute_result",
          "data": {
            "text/plain": [
              "Model        5.500000\n",
              "Accuracy     0.971000\n",
              "Precision    0.913287\n",
              "Recall       1.000000\n",
              "F1 score          NaN\n",
              "AUC Score    0.979286\n",
              "F1 Score     0.954304\n",
              "dtype: float64"
            ]
          },
          "metadata": {
            "tags": []
          },
          "execution_count": 55
        }
      ]
    },
    {
      "cell_type": "code",
      "metadata": {
        "id": "PxRlmelq3DFB"
      },
      "source": [
        ""
      ],
      "execution_count": 55,
      "outputs": []
    }
  ]
}