{
  "nbformat": 4,
  "nbformat_minor": 0,
  "metadata": {
    "kernelspec": {
      "display_name": "Python 3",
      "language": "python",
      "name": "python3"
    },
    "language_info": {
      "codemirror_mode": {
        "name": "ipython",
        "version": 3
      },
      "file_extension": ".py",
      "mimetype": "text/x-python",
      "name": "python",
      "nbconvert_exporter": "python",
      "pygments_lexer": "ipython3",
      "version": "3.7.3"
    },
    "colab": {
      "name": "Importance of feature selection.ipynb",
      "provenance": []
    }
  },
  "cells": [
    {
      "cell_type": "markdown",
      "metadata": {
        "id": "7LZGlwTkdEH4"
      },
      "source": [
        "## Importance of Feature Selection"
      ]
    },
    {
      "cell_type": "markdown",
      "metadata": {
        "id": "9vmR36hYdEIF"
      },
      "source": [
        "In this notebook I aim to study the importance of feature selection while building a Deep Learning model. I hypothesize that a model would be able to find out the most importance features. So, we can throw all variables in the deep learning models and its performance will not be deteriorated. "
      ]
    },
    {
      "cell_type": "markdown",
      "metadata": {
        "id": "ygmzuzjidEIH"
      },
      "source": [
        "I will check and compare the performance of models built using all features."
      ]
    },
    {
      "cell_type": "markdown",
      "metadata": {
        "id": "n-_C-5d_dEII"
      },
      "source": [
        "### Importing Required Libraries and Data"
      ]
    },
    {
      "cell_type": "code",
      "metadata": {
        "id": "LXJPUDp3dEII"
      },
      "source": [
        "import pandas as pd\n",
        "import numpy as np\n",
        "\n",
        "#to plot the data\n",
        "import matplotlib.pyplot as plt\n",
        "import seaborn as sns\n",
        "%matplotlib inline\n",
        "import matplotlib as mpl\n",
        "mpl.rcParams.update(mpl.rcParamsDefault)\n",
        "\n",
        "import time\n",
        "import os\n",
        "# os.chdir(\"C:/Data/aircraft/\")\n",
        "\n",
        "from sklearn.preprocessing import MinMaxScaler #to normalize data\n",
        "from sklearn.metrics import classification_report, confusion_matrix, roc_curve\n",
        "from sklearn.metrics import f1_score, roc_auc_score, accuracy_score, precision_score, recall_score\n",
        "\n",
        "#for deep learning\n",
        "import keras\n",
        "import keras.backend as k\n",
        "from keras.models import Sequential\n",
        "from keras.layers import Dense, LSTM, Activation, Masking, Dropout\n",
        "from keras.optimizers import RMSprop, Adam\n",
        "from keras.callbacks import History\n",
        "from keras import callbacks"
      ],
      "execution_count": 1,
      "outputs": []
    },
    {
      "cell_type": "code",
      "metadata": {
        "id": "9Kcw4ud3dEIL"
      },
      "source": [
        "def prepare_data(drop_cols = True):\n",
        "    dependent_var = ['RUL']\n",
        "    index_columns_names =  [\"UnitNumber\",\"Cycle\"]\n",
        "    operational_settings_columns_names = [\"OpSet\"+str(i) for i in range(1,4)]\n",
        "    sensor_measure_columns_names =[\"SensorMeasure\"+str(i) for i in range(1,22)]\n",
        "    input_file_column_names = index_columns_names + operational_settings_columns_names + sensor_measure_columns_names\n",
        "\n",
        "    cols_to_drop = ['OpSet3', 'SensorMeasure1', 'SensorMeasure5', 'SensorMeasure6', 'SensorMeasure10', 'SensorMeasure14',\n",
        "     'SensorMeasure16', 'SensorMeasure18', 'SensorMeasure19']\n",
        "\n",
        "    df_train = pd.read_csv('https://raw.githubusercontent.com/ericlrf/rul/main/CMAPSSData/train_FD001.txt',delim_whitespace=True,names=input_file_column_names)\n",
        "\n",
        "    rul = pd.DataFrame(df_train.groupby('UnitNumber')['Cycle'].max()).reset_index()\n",
        "    rul.columns = ['UnitNumber', 'max']\n",
        "    df_train = df_train.merge(rul, on=['UnitNumber'], how='left')\n",
        "    df_train['RUL'] = df_train['max'] - df_train['Cycle']\n",
        "    df_train.drop('max', axis=1, inplace=True)\n",
        "\n",
        "    df_test = pd.read_csv('https://raw.githubusercontent.com/ericlrf/rul/main/CMAPSSData/test_FD001.txt', delim_whitespace=True, names=input_file_column_names)\n",
        "    \n",
        "    if(drop_cols == True):\n",
        "        df_train = df_train.drop(cols_to_drop, axis = 1)\n",
        "        df_test = df_test.drop(cols_to_drop, axis = 1)\n",
        "\n",
        "    y_true = pd.read_csv('https://raw.githubusercontent.com/ericlrf/rul/main/CMAPSSData/RUL_FD001.txt', delim_whitespace=True,names=[\"RUL\"])\n",
        "    y_true[\"UnitNumber\"] = y_true.index\n",
        "    \n",
        "    return df_train, df_test, y_true"
      ],
      "execution_count": 2,
      "outputs": []
    },
    {
      "cell_type": "code",
      "metadata": {
        "colab": {
          "base_uri": "https://localhost:8080/"
        },
        "id": "P7ApQOnCdEIN",
        "outputId": "c04dd663-90a9-43c8-e4b5-b8aa63ec028d"
      },
      "source": [
        "df_train, df_test, y_true = prepare_data(drop_cols=False)\n",
        "df_train.shape, df_test.shape, y_true.shape"
      ],
      "execution_count": 3,
      "outputs": [
        {
          "output_type": "execute_result",
          "data": {
            "text/plain": [
              "((20631, 27), (13096, 26), (100, 2))"
            ]
          },
          "metadata": {
            "tags": []
          },
          "execution_count": 3
        }
      ]
    },
    {
      "cell_type": "code",
      "metadata": {
        "id": "9-GyHqGUdEIQ"
      },
      "source": [
        "feats = df_train.columns.drop(['UnitNumber', 'Cycle', 'RUL'])"
      ],
      "execution_count": 4,
      "outputs": []
    },
    {
      "cell_type": "code",
      "metadata": {
        "id": "G_bNRha8dEIQ"
      },
      "source": [
        "min_max_scaler = MinMaxScaler(feature_range=(-1,1))\n",
        "\n",
        "df_train[feats] = min_max_scaler.fit_transform(df_train[feats])\n",
        "df_test[feats] = min_max_scaler.transform(df_test[feats])"
      ],
      "execution_count": 5,
      "outputs": []
    },
    {
      "cell_type": "code",
      "metadata": {
        "id": "hrexWcSCdEIR"
      },
      "source": [
        "df_train['failure'] = [1 if i < 50 else 0 for i in df_train.RUL]\n",
        "y_true['failure'] = [1 if i < 50 else 0 for i in y_true.RUL]"
      ],
      "execution_count": 6,
      "outputs": []
    },
    {
      "cell_type": "code",
      "metadata": {
        "scrolled": true,
        "colab": {
          "base_uri": "https://localhost:8080/",
          "height": 224
        },
        "id": "LJu_FOX_dEIR",
        "outputId": "67e5115f-22e3-42ee-f090-6c91cdd78319"
      },
      "source": [
        "df_train.head()"
      ],
      "execution_count": 7,
      "outputs": [
        {
          "output_type": "execute_result",
          "data": {
            "text/html": [
              "<div>\n",
              "<style scoped>\n",
              "    .dataframe tbody tr th:only-of-type {\n",
              "        vertical-align: middle;\n",
              "    }\n",
              "\n",
              "    .dataframe tbody tr th {\n",
              "        vertical-align: top;\n",
              "    }\n",
              "\n",
              "    .dataframe thead th {\n",
              "        text-align: right;\n",
              "    }\n",
              "</style>\n",
              "<table border=\"1\" class=\"dataframe\">\n",
              "  <thead>\n",
              "    <tr style=\"text-align: right;\">\n",
              "      <th></th>\n",
              "      <th>UnitNumber</th>\n",
              "      <th>Cycle</th>\n",
              "      <th>OpSet1</th>\n",
              "      <th>OpSet2</th>\n",
              "      <th>OpSet3</th>\n",
              "      <th>SensorMeasure1</th>\n",
              "      <th>SensorMeasure2</th>\n",
              "      <th>SensorMeasure3</th>\n",
              "      <th>SensorMeasure4</th>\n",
              "      <th>SensorMeasure5</th>\n",
              "      <th>SensorMeasure6</th>\n",
              "      <th>SensorMeasure7</th>\n",
              "      <th>SensorMeasure8</th>\n",
              "      <th>SensorMeasure9</th>\n",
              "      <th>SensorMeasure10</th>\n",
              "      <th>SensorMeasure11</th>\n",
              "      <th>SensorMeasure12</th>\n",
              "      <th>SensorMeasure13</th>\n",
              "      <th>SensorMeasure14</th>\n",
              "      <th>SensorMeasure15</th>\n",
              "      <th>SensorMeasure16</th>\n",
              "      <th>SensorMeasure17</th>\n",
              "      <th>SensorMeasure18</th>\n",
              "      <th>SensorMeasure19</th>\n",
              "      <th>SensorMeasure20</th>\n",
              "      <th>SensorMeasure21</th>\n",
              "      <th>RUL</th>\n",
              "      <th>failure</th>\n",
              "    </tr>\n",
              "  </thead>\n",
              "  <tbody>\n",
              "    <tr>\n",
              "      <th>0</th>\n",
              "      <td>1</td>\n",
              "      <td>1</td>\n",
              "      <td>-0.080460</td>\n",
              "      <td>-0.666667</td>\n",
              "      <td>-1.0</td>\n",
              "      <td>-1.0</td>\n",
              "      <td>-0.632530</td>\n",
              "      <td>-0.186396</td>\n",
              "      <td>-0.380486</td>\n",
              "      <td>-1.0</td>\n",
              "      <td>1.0</td>\n",
              "      <td>0.452496</td>\n",
              "      <td>-0.515152</td>\n",
              "      <td>-0.780490</td>\n",
              "      <td>-1.0</td>\n",
              "      <td>-0.261905</td>\n",
              "      <td>0.266525</td>\n",
              "      <td>-0.588235</td>\n",
              "      <td>-0.600784</td>\n",
              "      <td>-0.272028</td>\n",
              "      <td>-1.0</td>\n",
              "      <td>-0.333333</td>\n",
              "      <td>-1.0</td>\n",
              "      <td>-1.0</td>\n",
              "      <td>0.426357</td>\n",
              "      <td>0.449323</td>\n",
              "      <td>191</td>\n",
              "      <td>0</td>\n",
              "    </tr>\n",
              "    <tr>\n",
              "      <th>1</th>\n",
              "      <td>1</td>\n",
              "      <td>2</td>\n",
              "      <td>0.218391</td>\n",
              "      <td>-0.500000</td>\n",
              "      <td>-1.0</td>\n",
              "      <td>-1.0</td>\n",
              "      <td>-0.433735</td>\n",
              "      <td>-0.093961</td>\n",
              "      <td>-0.294733</td>\n",
              "      <td>-1.0</td>\n",
              "      <td>1.0</td>\n",
              "      <td>0.256039</td>\n",
              "      <td>-0.575758</td>\n",
              "      <td>-0.799515</td>\n",
              "      <td>-1.0</td>\n",
              "      <td>-0.238095</td>\n",
              "      <td>0.530917</td>\n",
              "      <td>-0.441176</td>\n",
              "      <td>-0.674373</td>\n",
              "      <td>-0.177376</td>\n",
              "      <td>-1.0</td>\n",
              "      <td>-0.333333</td>\n",
              "      <td>-1.0</td>\n",
              "      <td>-1.0</td>\n",
              "      <td>0.333333</td>\n",
              "      <td>0.462027</td>\n",
              "      <td>190</td>\n",
              "      <td>0</td>\n",
              "    </tr>\n",
              "    <tr>\n",
              "      <th>2</th>\n",
              "      <td>1</td>\n",
              "      <td>3</td>\n",
              "      <td>-0.494253</td>\n",
              "      <td>0.500000</td>\n",
              "      <td>-1.0</td>\n",
              "      <td>-1.0</td>\n",
              "      <td>-0.313253</td>\n",
              "      <td>-0.260955</td>\n",
              "      <td>-0.258947</td>\n",
              "      <td>-1.0</td>\n",
              "      <td>1.0</td>\n",
              "      <td>0.420290</td>\n",
              "      <td>-0.454545</td>\n",
              "      <td>-0.719914</td>\n",
              "      <td>-1.0</td>\n",
              "      <td>-0.500000</td>\n",
              "      <td>0.590618</td>\n",
              "      <td>-0.558824</td>\n",
              "      <td>-0.656414</td>\n",
              "      <td>-0.285110</td>\n",
              "      <td>-1.0</td>\n",
              "      <td>-0.666667</td>\n",
              "      <td>-1.0</td>\n",
              "      <td>-1.0</td>\n",
              "      <td>0.255814</td>\n",
              "      <td>0.242751</td>\n",
              "      <td>189</td>\n",
              "      <td>0</td>\n",
              "    </tr>\n",
              "    <tr>\n",
              "      <th>3</th>\n",
              "      <td>1</td>\n",
              "      <td>4</td>\n",
              "      <td>0.080460</td>\n",
              "      <td>0.000000</td>\n",
              "      <td>-1.0</td>\n",
              "      <td>-1.0</td>\n",
              "      <td>-0.313253</td>\n",
              "      <td>-0.487683</td>\n",
              "      <td>-0.337610</td>\n",
              "      <td>-1.0</td>\n",
              "      <td>1.0</td>\n",
              "      <td>0.481481</td>\n",
              "      <td>-0.363636</td>\n",
              "      <td>-0.750965</td>\n",
              "      <td>-1.0</td>\n",
              "      <td>-0.666667</td>\n",
              "      <td>0.778252</td>\n",
              "      <td>-0.411765</td>\n",
              "      <td>-0.650222</td>\n",
              "      <td>-0.666795</td>\n",
              "      <td>-1.0</td>\n",
              "      <td>-0.333333</td>\n",
              "      <td>-1.0</td>\n",
              "      <td>-1.0</td>\n",
              "      <td>0.147287</td>\n",
              "      <td>0.324772</td>\n",
              "      <td>188</td>\n",
              "      <td>0</td>\n",
              "    </tr>\n",
              "    <tr>\n",
              "      <th>4</th>\n",
              "      <td>1</td>\n",
              "      <td>5</td>\n",
              "      <td>-0.218391</td>\n",
              "      <td>-0.333333</td>\n",
              "      <td>-1.0</td>\n",
              "      <td>-1.0</td>\n",
              "      <td>-0.301205</td>\n",
              "      <td>-0.485066</td>\n",
              "      <td>-0.190749</td>\n",
              "      <td>-1.0</td>\n",
              "      <td>1.0</td>\n",
              "      <td>0.336554</td>\n",
              "      <td>-0.515152</td>\n",
              "      <td>-0.700081</td>\n",
              "      <td>-1.0</td>\n",
              "      <td>-0.488095</td>\n",
              "      <td>0.492537</td>\n",
              "      <td>-0.529412</td>\n",
              "      <td>-0.650532</td>\n",
              "      <td>-0.195845</td>\n",
              "      <td>-1.0</td>\n",
              "      <td>-0.166667</td>\n",
              "      <td>-1.0</td>\n",
              "      <td>-1.0</td>\n",
              "      <td>0.178295</td>\n",
              "      <td>0.409003</td>\n",
              "      <td>187</td>\n",
              "      <td>0</td>\n",
              "    </tr>\n",
              "  </tbody>\n",
              "</table>\n",
              "</div>"
            ],
            "text/plain": [
              "   UnitNumber  Cycle    OpSet1  ...  SensorMeasure21  RUL  failure\n",
              "0           1      1 -0.080460  ...         0.449323  191        0\n",
              "1           1      2  0.218391  ...         0.462027  190        0\n",
              "2           1      3 -0.494253  ...         0.242751  189        0\n",
              "3           1      4  0.080460  ...         0.324772  188        0\n",
              "4           1      5 -0.218391  ...         0.409003  187        0\n",
              "\n",
              "[5 rows x 28 columns]"
            ]
          },
          "metadata": {
            "tags": []
          },
          "execution_count": 7
        }
      ]
    },
    {
      "cell_type": "code",
      "metadata": {
        "colab": {
          "base_uri": "https://localhost:8080/",
          "height": 224
        },
        "id": "ibXvOHJTdEIS",
        "outputId": "0e5b8b9d-5764-48c6-8a17-6adf627b1cf5"
      },
      "source": [
        "df_test.head()"
      ],
      "execution_count": 8,
      "outputs": [
        {
          "output_type": "execute_result",
          "data": {
            "text/html": [
              "<div>\n",
              "<style scoped>\n",
              "    .dataframe tbody tr th:only-of-type {\n",
              "        vertical-align: middle;\n",
              "    }\n",
              "\n",
              "    .dataframe tbody tr th {\n",
              "        vertical-align: top;\n",
              "    }\n",
              "\n",
              "    .dataframe thead th {\n",
              "        text-align: right;\n",
              "    }\n",
              "</style>\n",
              "<table border=\"1\" class=\"dataframe\">\n",
              "  <thead>\n",
              "    <tr style=\"text-align: right;\">\n",
              "      <th></th>\n",
              "      <th>UnitNumber</th>\n",
              "      <th>Cycle</th>\n",
              "      <th>OpSet1</th>\n",
              "      <th>OpSet2</th>\n",
              "      <th>OpSet3</th>\n",
              "      <th>SensorMeasure1</th>\n",
              "      <th>SensorMeasure2</th>\n",
              "      <th>SensorMeasure3</th>\n",
              "      <th>SensorMeasure4</th>\n",
              "      <th>SensorMeasure5</th>\n",
              "      <th>SensorMeasure6</th>\n",
              "      <th>SensorMeasure7</th>\n",
              "      <th>SensorMeasure8</th>\n",
              "      <th>SensorMeasure9</th>\n",
              "      <th>SensorMeasure10</th>\n",
              "      <th>SensorMeasure11</th>\n",
              "      <th>SensorMeasure12</th>\n",
              "      <th>SensorMeasure13</th>\n",
              "      <th>SensorMeasure14</th>\n",
              "      <th>SensorMeasure15</th>\n",
              "      <th>SensorMeasure16</th>\n",
              "      <th>SensorMeasure17</th>\n",
              "      <th>SensorMeasure18</th>\n",
              "      <th>SensorMeasure19</th>\n",
              "      <th>SensorMeasure20</th>\n",
              "      <th>SensorMeasure21</th>\n",
              "    </tr>\n",
              "  </thead>\n",
              "  <tbody>\n",
              "    <tr>\n",
              "      <th>0</th>\n",
              "      <td>1</td>\n",
              "      <td>1</td>\n",
              "      <td>0.264368</td>\n",
              "      <td>0.500000</td>\n",
              "      <td>-1.0</td>\n",
              "      <td>-1.0</td>\n",
              "      <td>0.090361</td>\n",
              "      <td>-0.378679</td>\n",
              "      <td>-0.461175</td>\n",
              "      <td>-1.0</td>\n",
              "      <td>1.0</td>\n",
              "      <td>0.304348</td>\n",
              "      <td>-0.575758</td>\n",
              "      <td>-0.744773</td>\n",
              "      <td>-1.0</td>\n",
              "      <td>-0.583333</td>\n",
              "      <td>0.292111</td>\n",
              "      <td>-0.558824</td>\n",
              "      <td>-0.735680</td>\n",
              "      <td>-0.382070</td>\n",
              "      <td>-1.0</td>\n",
              "      <td>-0.333333</td>\n",
              "      <td>-1.0</td>\n",
              "      <td>-1.0</td>\n",
              "      <td>0.116279</td>\n",
              "      <td>0.323667</td>\n",
              "    </tr>\n",
              "    <tr>\n",
              "      <th>1</th>\n",
              "      <td>1</td>\n",
              "      <td>2</td>\n",
              "      <td>-0.310345</td>\n",
              "      <td>-0.500000</td>\n",
              "      <td>-1.0</td>\n",
              "      <td>-1.0</td>\n",
              "      <td>-0.698795</td>\n",
              "      <td>-0.240898</td>\n",
              "      <td>-0.555368</td>\n",
              "      <td>-1.0</td>\n",
              "      <td>1.0</td>\n",
              "      <td>0.610306</td>\n",
              "      <td>-0.666667</td>\n",
              "      <td>-0.706632</td>\n",
              "      <td>-1.0</td>\n",
              "      <td>-0.226190</td>\n",
              "      <td>0.479744</td>\n",
              "      <td>-0.470588</td>\n",
              "      <td>-0.590463</td>\n",
              "      <td>-0.573682</td>\n",
              "      <td>-1.0</td>\n",
              "      <td>-0.166667</td>\n",
              "      <td>-1.0</td>\n",
              "      <td>-1.0</td>\n",
              "      <td>0.364341</td>\n",
              "      <td>0.373654</td>\n",
              "    </tr>\n",
              "    <tr>\n",
              "      <th>2</th>\n",
              "      <td>1</td>\n",
              "      <td>3</td>\n",
              "      <td>0.034483</td>\n",
              "      <td>0.166667</td>\n",
              "      <td>-1.0</td>\n",
              "      <td>-1.0</td>\n",
              "      <td>-0.246988</td>\n",
              "      <td>-0.306736</td>\n",
              "      <td>-0.355503</td>\n",
              "      <td>-1.0</td>\n",
              "      <td>1.0</td>\n",
              "      <td>0.371981</td>\n",
              "      <td>-0.545455</td>\n",
              "      <td>-0.683837</td>\n",
              "      <td>-1.0</td>\n",
              "      <td>-0.226190</td>\n",
              "      <td>0.398721</td>\n",
              "      <td>-0.558824</td>\n",
              "      <td>-0.688719</td>\n",
              "      <td>-0.082724</td>\n",
              "      <td>-1.0</td>\n",
              "      <td>-0.166667</td>\n",
              "      <td>-1.0</td>\n",
              "      <td>-1.0</td>\n",
              "      <td>0.457364</td>\n",
              "      <td>0.442695</td>\n",
              "    </tr>\n",
              "    <tr>\n",
              "      <th>3</th>\n",
              "      <td>1</td>\n",
              "      <td>4</td>\n",
              "      <td>0.482759</td>\n",
              "      <td>0.000000</td>\n",
              "      <td>-1.0</td>\n",
              "      <td>-1.0</td>\n",
              "      <td>-0.259036</td>\n",
              "      <td>-0.429693</td>\n",
              "      <td>-0.183997</td>\n",
              "      <td>-1.0</td>\n",
              "      <td>1.0</td>\n",
              "      <td>0.359098</td>\n",
              "      <td>-0.606061</td>\n",
              "      <td>-0.788567</td>\n",
              "      <td>-1.0</td>\n",
              "      <td>-0.488095</td>\n",
              "      <td>0.147122</td>\n",
              "      <td>-0.500000</td>\n",
              "      <td>-0.659820</td>\n",
              "      <td>-0.485956</td>\n",
              "      <td>-1.0</td>\n",
              "      <td>-0.500000</td>\n",
              "      <td>-1.0</td>\n",
              "      <td>-1.0</td>\n",
              "      <td>0.333333</td>\n",
              "      <td>0.324220</td>\n",
              "    </tr>\n",
              "    <tr>\n",
              "      <th>4</th>\n",
              "      <td>1</td>\n",
              "      <td>5</td>\n",
              "      <td>0.160920</td>\n",
              "      <td>0.000000</td>\n",
              "      <td>-1.0</td>\n",
              "      <td>-1.0</td>\n",
              "      <td>-0.216867</td>\n",
              "      <td>-0.295836</td>\n",
              "      <td>-0.335922</td>\n",
              "      <td>-1.0</td>\n",
              "      <td>1.0</td>\n",
              "      <td>0.388084</td>\n",
              "      <td>-0.666667</td>\n",
              "      <td>-0.795208</td>\n",
              "      <td>-1.0</td>\n",
              "      <td>-0.452381</td>\n",
              "      <td>0.475480</td>\n",
              "      <td>-0.558824</td>\n",
              "      <td>-0.694499</td>\n",
              "      <td>-0.398230</td>\n",
              "      <td>-1.0</td>\n",
              "      <td>-0.666667</td>\n",
              "      <td>-1.0</td>\n",
              "      <td>-1.0</td>\n",
              "      <td>0.317829</td>\n",
              "      <td>0.432753</td>\n",
              "    </tr>\n",
              "  </tbody>\n",
              "</table>\n",
              "</div>"
            ],
            "text/plain": [
              "   UnitNumber  Cycle  ...  SensorMeasure20  SensorMeasure21\n",
              "0           1      1  ...         0.116279         0.323667\n",
              "1           1      2  ...         0.364341         0.373654\n",
              "2           1      3  ...         0.457364         0.442695\n",
              "3           1      4  ...         0.333333         0.324220\n",
              "4           1      5  ...         0.317829         0.432753\n",
              "\n",
              "[5 rows x 26 columns]"
            ]
          },
          "metadata": {
            "tags": []
          },
          "execution_count": 8
        }
      ]
    },
    {
      "cell_type": "code",
      "metadata": {
        "colab": {
          "base_uri": "https://localhost:8080/",
          "height": 204
        },
        "id": "24fYGcptdEIS",
        "outputId": "96b2b850-33b0-4362-9886-9ba8e8bbe743"
      },
      "source": [
        "y_true.head()"
      ],
      "execution_count": 9,
      "outputs": [
        {
          "output_type": "execute_result",
          "data": {
            "text/html": [
              "<div>\n",
              "<style scoped>\n",
              "    .dataframe tbody tr th:only-of-type {\n",
              "        vertical-align: middle;\n",
              "    }\n",
              "\n",
              "    .dataframe tbody tr th {\n",
              "        vertical-align: top;\n",
              "    }\n",
              "\n",
              "    .dataframe thead th {\n",
              "        text-align: right;\n",
              "    }\n",
              "</style>\n",
              "<table border=\"1\" class=\"dataframe\">\n",
              "  <thead>\n",
              "    <tr style=\"text-align: right;\">\n",
              "      <th></th>\n",
              "      <th>RUL</th>\n",
              "      <th>UnitNumber</th>\n",
              "      <th>failure</th>\n",
              "    </tr>\n",
              "  </thead>\n",
              "  <tbody>\n",
              "    <tr>\n",
              "      <th>0</th>\n",
              "      <td>112</td>\n",
              "      <td>0</td>\n",
              "      <td>0</td>\n",
              "    </tr>\n",
              "    <tr>\n",
              "      <th>1</th>\n",
              "      <td>98</td>\n",
              "      <td>1</td>\n",
              "      <td>0</td>\n",
              "    </tr>\n",
              "    <tr>\n",
              "      <th>2</th>\n",
              "      <td>69</td>\n",
              "      <td>2</td>\n",
              "      <td>0</td>\n",
              "    </tr>\n",
              "    <tr>\n",
              "      <th>3</th>\n",
              "      <td>82</td>\n",
              "      <td>3</td>\n",
              "      <td>0</td>\n",
              "    </tr>\n",
              "    <tr>\n",
              "      <th>4</th>\n",
              "      <td>91</td>\n",
              "      <td>4</td>\n",
              "      <td>0</td>\n",
              "    </tr>\n",
              "  </tbody>\n",
              "</table>\n",
              "</div>"
            ],
            "text/plain": [
              "   RUL  UnitNumber  failure\n",
              "0  112           0        0\n",
              "1   98           1        0\n",
              "2   69           2        0\n",
              "3   82           3        0\n",
              "4   91           4        0"
            ]
          },
          "metadata": {
            "tags": []
          },
          "execution_count": 9
        }
      ]
    },
    {
      "cell_type": "markdown",
      "metadata": {
        "id": "P3i04bnUdEIT"
      },
      "source": [
        "\n",
        "LSTM expects an input in the shape of a numpy array of 3 dimensions and I will need to convert train and test data accordingly."
      ]
    },
    {
      "cell_type": "code",
      "metadata": {
        "id": "Aq3mBeAXdEIT"
      },
      "source": [
        "def gen_train(id_df, seq_length, seq_cols):\n",
        "    \"\"\"\n",
        "        function to prepare train data into (samples, time steps, features)\n",
        "        id_df = train dataframe\n",
        "        seq_length = look back period\n",
        "        seq_cols = feature columns\n",
        "    \"\"\"\n",
        "        \n",
        "    data_array = id_df[seq_cols].values\n",
        "    num_elements = data_array.shape[0]\n",
        "    lstm_array=[]\n",
        "    \n",
        "    for start, stop in zip(range(0, num_elements-seq_length+1), range(seq_length, num_elements+1)):\n",
        "        lstm_array.append(data_array[start:stop, :])\n",
        "    \n",
        "    return np.array(lstm_array)"
      ],
      "execution_count": 10,
      "outputs": []
    },
    {
      "cell_type": "code",
      "metadata": {
        "id": "eZO-YOwidEIU"
      },
      "source": [
        "def gen_target(id_df, seq_length, label):\n",
        "    data_array = id_df[label].values\n",
        "    num_elements = data_array.shape[0]\n",
        "    return data_array[seq_length-1:num_elements+1]"
      ],
      "execution_count": 11,
      "outputs": []
    },
    {
      "cell_type": "code",
      "metadata": {
        "id": "kaP5gBo9dEIU"
      },
      "source": [
        "def gen_test(id_df, seq_length, seq_cols, mask_value):\n",
        "    \"\"\"\n",
        "        function to prepare test data into (samples, time steps, features)\n",
        "        function only returns last sequence of data for every unit\n",
        "        id_df = test dataframe\n",
        "        seq_length = look back period\n",
        "        seq_cols = feature columns\n",
        "    \"\"\"\n",
        "    df_mask = pd.DataFrame(np.zeros((seq_length-1,id_df.shape[1])),columns=id_df.columns)\n",
        "    df_mask[:] = mask_value\n",
        "    \n",
        "    id_df = df_mask.append(id_df,ignore_index=True)\n",
        "    \n",
        "    data_array = id_df[seq_cols].values\n",
        "    num_elements = data_array.shape[0]\n",
        "    lstm_array=[]\n",
        "    \n",
        "    start = num_elements-seq_length\n",
        "    stop = num_elements\n",
        "    \n",
        "    lstm_array.append(data_array[start:stop, :])\n",
        "    \n",
        "    return np.array(lstm_array)"
      ],
      "execution_count": 12,
      "outputs": []
    },
    {
      "cell_type": "markdown",
      "metadata": {
        "id": "ei_zzrJudEIV"
      },
      "source": [
        "\n",
        "Let's define look back period and mask_value"
      ]
    },
    {
      "cell_type": "code",
      "metadata": {
        "id": "oTezD2WTdEIV"
      },
      "source": [
        "sequence_length = 50 #predicting using last 30 cycle values\n",
        "mask_value = 0"
      ],
      "execution_count": 13,
      "outputs": []
    },
    {
      "cell_type": "markdown",
      "metadata": {
        "id": "Rgowb8PEdEIV"
      },
      "source": [
        "\n",
        "Let's prepare data using above functions."
      ]
    },
    {
      "cell_type": "code",
      "metadata": {
        "colab": {
          "base_uri": "https://localhost:8080/"
        },
        "id": "mXbnFj-IdEIW",
        "outputId": "cf36c461-1aac-44ee-fc25-66e59f57f6e0"
      },
      "source": [
        "#generate train\n",
        "x_train=np.concatenate(list(list(gen_train(df_train[df_train['UnitNumber']==unit], sequence_length, feats)) for unit in df_train['UnitNumber'].unique()))\n",
        "print(x_train.shape)"
      ],
      "execution_count": 14,
      "outputs": [
        {
          "output_type": "stream",
          "text": [
            "(15731, 50, 24)\n"
          ],
          "name": "stdout"
        }
      ]
    },
    {
      "cell_type": "code",
      "metadata": {
        "scrolled": true,
        "colab": {
          "base_uri": "https://localhost:8080/"
        },
        "id": "HgtGuj-pdEIW",
        "outputId": "5422f9d3-8218-4e2d-b378-d0f658ea5a70"
      },
      "source": [
        "#generate target of train\n",
        "y_train = np.concatenate(list(list(gen_target(df_train[df_train['UnitNumber']==unit], sequence_length, \"failure\")) for unit in df_train['UnitNumber'].unique()))\n",
        "y_train.shape"
      ],
      "execution_count": 15,
      "outputs": [
        {
          "output_type": "execute_result",
          "data": {
            "text/plain": [
              "(15731,)"
            ]
          },
          "metadata": {
            "tags": []
          },
          "execution_count": 15
        }
      ]
    },
    {
      "cell_type": "code",
      "metadata": {
        "colab": {
          "base_uri": "https://localhost:8080/"
        },
        "id": "rIrj2G_UdEIX",
        "outputId": "b62b5253-5bf5-4f7e-8150-14c4442a02f8"
      },
      "source": [
        "#generate test\n",
        "x_test=np.concatenate(list(list(gen_test(df_test[df_test['UnitNumber']==unit], sequence_length, feats, mask_value)) for unit in df_test['UnitNumber'].unique()))\n",
        "print(x_test.shape)"
      ],
      "execution_count": 16,
      "outputs": [
        {
          "output_type": "stream",
          "text": [
            "(100, 50, 24)\n"
          ],
          "name": "stdout"
        }
      ]
    },
    {
      "cell_type": "code",
      "metadata": {
        "colab": {
          "base_uri": "https://localhost:8080/"
        },
        "id": "1Pv1JhttdEIX",
        "outputId": "a5de28b7-7f91-4bce-94ec-49f51fc821f3"
      },
      "source": [
        "#true target of test \n",
        "y_test = y_true.RUL.values\n",
        "y_test.shape"
      ],
      "execution_count": 17,
      "outputs": [
        {
          "output_type": "execute_result",
          "data": {
            "text/plain": [
              "(100,)"
            ]
          },
          "metadata": {
            "tags": []
          },
          "execution_count": 17
        }
      ]
    },
    {
      "cell_type": "code",
      "metadata": {
        "id": "8ZkbDlrJdEIY"
      },
      "source": [
        "nb_features = x_train.shape[2]\n",
        "nb_out = 1"
      ],
      "execution_count": 18,
      "outputs": []
    },
    {
      "cell_type": "code",
      "metadata": {
        "colab": {
          "base_uri": "https://localhost:8080/"
        },
        "id": "jFPee2NydEIa",
        "outputId": "0dbc36da-2942-4a78-ab85-8cfd2830678c"
      },
      "source": [
        "nb_features"
      ],
      "execution_count": 19,
      "outputs": [
        {
          "output_type": "execute_result",
          "data": {
            "text/plain": [
              "24"
            ]
          },
          "metadata": {
            "tags": []
          },
          "execution_count": 19
        }
      ]
    },
    {
      "cell_type": "code",
      "metadata": {
        "id": "CcHCX_ekdEIa"
      },
      "source": [
        "class_0 = pd.Series(y_train).value_counts()[0]\n",
        "class_1 = pd.Series(y_train).value_counts()[1]\n",
        "total = class_0 + class_1\n",
        "\n",
        "cls_wt = {0: class_1/total, 1: class_0/total}"
      ],
      "execution_count": 20,
      "outputs": []
    },
    {
      "cell_type": "code",
      "metadata": {
        "colab": {
          "base_uri": "https://localhost:8080/"
        },
        "id": "-LSuBM2YdEIa",
        "outputId": "437e298d-c56a-4229-db7f-57b805ce176e"
      },
      "source": [
        "cls_wt"
      ],
      "execution_count": 21,
      "outputs": [
        {
          "output_type": "execute_result",
          "data": {
            "text/plain": [
              "{0: 0.3178437480134766, 1: 0.6821562519865234}"
            ]
          },
          "metadata": {
            "tags": []
          },
          "execution_count": 21
        }
      ]
    },
    {
      "cell_type": "markdown",
      "metadata": {
        "id": "GoqCshDRdEIb"
      },
      "source": [
        "### Experiment"
      ]
    },
    {
      "cell_type": "code",
      "metadata": {
        "id": "U2jObFyedEIb"
      },
      "source": [
        "def run_exp_model(X, y, X_test, y_test, nruns = 10):\n",
        "    \n",
        "    \"\"\"\n",
        "    Parameters:\n",
        "    X, y = training pandas dataframe\n",
        "    X_test, y_test = testing pandas dataframe\n",
        "    nruns = number of time the models should rn\n",
        "    \n",
        "    return:\n",
        "    Dataframe with Model Run, Accuracy, Precision, Recall, F1 Score, AUC Score\n",
        "    \"\"\"\n",
        "    \n",
        "    score_df = pd.DataFrame(columns=[\"Model\", \"Accuracy\", \"Precision\", \"Recall\", \"F1 Score\", \"AUC Score\"])\n",
        "\n",
        "    for i in range(0, nruns):\n",
        "        start = time.time()\n",
        "\n",
        "        model = Sequential()\n",
        "        model.add(LSTM(\n",
        "                 units=8,\n",
        "                 return_sequences=True,\n",
        "                 input_shape=(sequence_length, nb_features)))\n",
        "        model.add(Dropout(0.2))\n",
        "        model.add(LSTM(\n",
        "                  units=4,\n",
        "                  return_sequences=False))\n",
        "        model.add(Dropout(0.2))\n",
        "        model.add(Dense(units=1, activation='sigmoid'))\n",
        "\n",
        "        model.compile(loss='binary_crossentropy', optimizer = \"adam\", metrics=[\"accuracy\"])\n",
        "\n",
        "        model.fit(X, y, epochs=100, batch_size=64, validation_split = 0.1, verbose=0, class_weight=cls_wt,\n",
        "              shuffle= True ,callbacks = [keras.callbacks.EarlyStopping(monitor='val_loss', min_delta=0, patience=10, \n",
        "                                                                  verbose=0, mode='auto')])\n",
        "\n",
        "        predictions = model.predict_classes(X_test)\n",
        "\n",
        "        acc = accuracy_score(y_test,predictions)\n",
        "        pr = precision_score(y_test,predictions)\n",
        "        rc = recall_score(y_test,predictions)\n",
        "        f1 = f1_score(y_test,predictions)\n",
        "        auc = roc_auc_score(y_test,predictions)\n",
        "\n",
        "        score_df = score_df.append({'Model':i + 1, 'Accuracy': acc, 'Precision': pr, 'Recall': rc,\n",
        "                                    'F1 Score': f1, 'AUC Score': auc}, ignore_index=True)\n",
        "        end = time.time()\n",
        "        print(\"Run:\", i+1, \" and Runtime:\", np.round(end - start, 3), \" Seconds\", sep = \"\")        \n",
        "    \n",
        "    return score_df"
      ],
      "execution_count": 22,
      "outputs": []
    },
    {
      "cell_type": "code",
      "metadata": {
        "colab": {
          "base_uri": "https://localhost:8080/"
        },
        "id": "n6VHnk9UdEIc",
        "outputId": "f106ce2f-ee50-4a11-a73e-bd7fb5af1887"
      },
      "source": [
        "result_df = run_exp_model(x_train, y_train, x_test, y_true.failure, nruns = 10)"
      ],
      "execution_count": 23,
      "outputs": [
        {
          "output_type": "stream",
          "text": [
            "/usr/local/lib/python3.7/dist-packages/tensorflow/python/keras/engine/sequential.py:450: UserWarning: `model.predict_classes()` is deprecated and will be removed after 2021-01-01. Please use instead:* `np.argmax(model.predict(x), axis=-1)`,   if your model does multi-class classification   (e.g. if it uses a `softmax` last-layer activation).* `(model.predict(x) > 0.5).astype(\"int32\")`,   if your model does binary classification   (e.g. if it uses a `sigmoid` last-layer activation).\n",
            "  warnings.warn('`model.predict_classes()` is deprecated and '\n"
          ],
          "name": "stderr"
        },
        {
          "output_type": "stream",
          "text": [
            "Run:1 and Runtime:173.672 Seconds\n"
          ],
          "name": "stdout"
        },
        {
          "output_type": "stream",
          "text": [
            "/usr/local/lib/python3.7/dist-packages/tensorflow/python/keras/engine/sequential.py:450: UserWarning: `model.predict_classes()` is deprecated and will be removed after 2021-01-01. Please use instead:* `np.argmax(model.predict(x), axis=-1)`,   if your model does multi-class classification   (e.g. if it uses a `softmax` last-layer activation).* `(model.predict(x) > 0.5).astype(\"int32\")`,   if your model does binary classification   (e.g. if it uses a `sigmoid` last-layer activation).\n",
            "  warnings.warn('`model.predict_classes()` is deprecated and '\n"
          ],
          "name": "stderr"
        },
        {
          "output_type": "stream",
          "text": [
            "Run:2 and Runtime:190.014 Seconds\n"
          ],
          "name": "stdout"
        },
        {
          "output_type": "stream",
          "text": [
            "/usr/local/lib/python3.7/dist-packages/tensorflow/python/keras/engine/sequential.py:450: UserWarning: `model.predict_classes()` is deprecated and will be removed after 2021-01-01. Please use instead:* `np.argmax(model.predict(x), axis=-1)`,   if your model does multi-class classification   (e.g. if it uses a `softmax` last-layer activation).* `(model.predict(x) > 0.5).astype(\"int32\")`,   if your model does binary classification   (e.g. if it uses a `sigmoid` last-layer activation).\n",
            "  warnings.warn('`model.predict_classes()` is deprecated and '\n"
          ],
          "name": "stderr"
        },
        {
          "output_type": "stream",
          "text": [
            "Run:3 and Runtime:196.685 Seconds\n"
          ],
          "name": "stdout"
        },
        {
          "output_type": "stream",
          "text": [
            "/usr/local/lib/python3.7/dist-packages/tensorflow/python/keras/engine/sequential.py:450: UserWarning: `model.predict_classes()` is deprecated and will be removed after 2021-01-01. Please use instead:* `np.argmax(model.predict(x), axis=-1)`,   if your model does multi-class classification   (e.g. if it uses a `softmax` last-layer activation).* `(model.predict(x) > 0.5).astype(\"int32\")`,   if your model does binary classification   (e.g. if it uses a `sigmoid` last-layer activation).\n",
            "  warnings.warn('`model.predict_classes()` is deprecated and '\n"
          ],
          "name": "stderr"
        },
        {
          "output_type": "stream",
          "text": [
            "Run:4 and Runtime:306.754 Seconds\n"
          ],
          "name": "stdout"
        },
        {
          "output_type": "stream",
          "text": [
            "/usr/local/lib/python3.7/dist-packages/tensorflow/python/keras/engine/sequential.py:450: UserWarning: `model.predict_classes()` is deprecated and will be removed after 2021-01-01. Please use instead:* `np.argmax(model.predict(x), axis=-1)`,   if your model does multi-class classification   (e.g. if it uses a `softmax` last-layer activation).* `(model.predict(x) > 0.5).astype(\"int32\")`,   if your model does binary classification   (e.g. if it uses a `sigmoid` last-layer activation).\n",
            "  warnings.warn('`model.predict_classes()` is deprecated and '\n"
          ],
          "name": "stderr"
        },
        {
          "output_type": "stream",
          "text": [
            "Run:5 and Runtime:126.355 Seconds\n"
          ],
          "name": "stdout"
        },
        {
          "output_type": "stream",
          "text": [
            "/usr/local/lib/python3.7/dist-packages/tensorflow/python/keras/engine/sequential.py:450: UserWarning: `model.predict_classes()` is deprecated and will be removed after 2021-01-01. Please use instead:* `np.argmax(model.predict(x), axis=-1)`,   if your model does multi-class classification   (e.g. if it uses a `softmax` last-layer activation).* `(model.predict(x) > 0.5).astype(\"int32\")`,   if your model does binary classification   (e.g. if it uses a `sigmoid` last-layer activation).\n",
            "  warnings.warn('`model.predict_classes()` is deprecated and '\n"
          ],
          "name": "stderr"
        },
        {
          "output_type": "stream",
          "text": [
            "Run:6 and Runtime:191.69 Seconds\n"
          ],
          "name": "stdout"
        },
        {
          "output_type": "stream",
          "text": [
            "/usr/local/lib/python3.7/dist-packages/tensorflow/python/keras/engine/sequential.py:450: UserWarning: `model.predict_classes()` is deprecated and will be removed after 2021-01-01. Please use instead:* `np.argmax(model.predict(x), axis=-1)`,   if your model does multi-class classification   (e.g. if it uses a `softmax` last-layer activation).* `(model.predict(x) > 0.5).astype(\"int32\")`,   if your model does binary classification   (e.g. if it uses a `sigmoid` last-layer activation).\n",
            "  warnings.warn('`model.predict_classes()` is deprecated and '\n"
          ],
          "name": "stderr"
        },
        {
          "output_type": "stream",
          "text": [
            "Run:7 and Runtime:226.839 Seconds\n"
          ],
          "name": "stdout"
        },
        {
          "output_type": "stream",
          "text": [
            "/usr/local/lib/python3.7/dist-packages/tensorflow/python/keras/engine/sequential.py:450: UserWarning: `model.predict_classes()` is deprecated and will be removed after 2021-01-01. Please use instead:* `np.argmax(model.predict(x), axis=-1)`,   if your model does multi-class classification   (e.g. if it uses a `softmax` last-layer activation).* `(model.predict(x) > 0.5).astype(\"int32\")`,   if your model does binary classification   (e.g. if it uses a `sigmoid` last-layer activation).\n",
            "  warnings.warn('`model.predict_classes()` is deprecated and '\n"
          ],
          "name": "stderr"
        },
        {
          "output_type": "stream",
          "text": [
            "Run:8 and Runtime:190.123 Seconds\n"
          ],
          "name": "stdout"
        },
        {
          "output_type": "stream",
          "text": [
            "/usr/local/lib/python3.7/dist-packages/tensorflow/python/keras/engine/sequential.py:450: UserWarning: `model.predict_classes()` is deprecated and will be removed after 2021-01-01. Please use instead:* `np.argmax(model.predict(x), axis=-1)`,   if your model does multi-class classification   (e.g. if it uses a `softmax` last-layer activation).* `(model.predict(x) > 0.5).astype(\"int32\")`,   if your model does binary classification   (e.g. if it uses a `sigmoid` last-layer activation).\n",
            "  warnings.warn('`model.predict_classes()` is deprecated and '\n"
          ],
          "name": "stderr"
        },
        {
          "output_type": "stream",
          "text": [
            "Run:9 and Runtime:151.896 Seconds\n"
          ],
          "name": "stdout"
        },
        {
          "output_type": "stream",
          "text": [
            "/usr/local/lib/python3.7/dist-packages/tensorflow/python/keras/engine/sequential.py:450: UserWarning: `model.predict_classes()` is deprecated and will be removed after 2021-01-01. Please use instead:* `np.argmax(model.predict(x), axis=-1)`,   if your model does multi-class classification   (e.g. if it uses a `softmax` last-layer activation).* `(model.predict(x) > 0.5).astype(\"int32\")`,   if your model does binary classification   (e.g. if it uses a `sigmoid` last-layer activation).\n",
            "  warnings.warn('`model.predict_classes()` is deprecated and '\n"
          ],
          "name": "stderr"
        },
        {
          "output_type": "stream",
          "text": [
            "Run:10 and Runtime:243.741 Seconds\n"
          ],
          "name": "stdout"
        }
      ]
    },
    {
      "cell_type": "code",
      "metadata": {
        "colab": {
          "base_uri": "https://localhost:8080/",
          "height": 359
        },
        "id": "PH4f34jCdEId",
        "outputId": "0082ce58-e2a3-4e67-f2fc-00a18c32bc97"
      },
      "source": [
        "result_df"
      ],
      "execution_count": 24,
      "outputs": [
        {
          "output_type": "execute_result",
          "data": {
            "text/html": [
              "<div>\n",
              "<style scoped>\n",
              "    .dataframe tbody tr th:only-of-type {\n",
              "        vertical-align: middle;\n",
              "    }\n",
              "\n",
              "    .dataframe tbody tr th {\n",
              "        vertical-align: top;\n",
              "    }\n",
              "\n",
              "    .dataframe thead th {\n",
              "        text-align: right;\n",
              "    }\n",
              "</style>\n",
              "<table border=\"1\" class=\"dataframe\">\n",
              "  <thead>\n",
              "    <tr style=\"text-align: right;\">\n",
              "      <th></th>\n",
              "      <th>Model</th>\n",
              "      <th>Accuracy</th>\n",
              "      <th>Precision</th>\n",
              "      <th>Recall</th>\n",
              "      <th>F1 Score</th>\n",
              "      <th>AUC Score</th>\n",
              "    </tr>\n",
              "  </thead>\n",
              "  <tbody>\n",
              "    <tr>\n",
              "      <th>0</th>\n",
              "      <td>1.0</td>\n",
              "      <td>0.99</td>\n",
              "      <td>0.967742</td>\n",
              "      <td>1.000000</td>\n",
              "      <td>0.983607</td>\n",
              "      <td>0.992857</td>\n",
              "    </tr>\n",
              "    <tr>\n",
              "      <th>1</th>\n",
              "      <td>2.0</td>\n",
              "      <td>0.94</td>\n",
              "      <td>0.833333</td>\n",
              "      <td>1.000000</td>\n",
              "      <td>0.909091</td>\n",
              "      <td>0.957143</td>\n",
              "    </tr>\n",
              "    <tr>\n",
              "      <th>2</th>\n",
              "      <td>3.0</td>\n",
              "      <td>0.99</td>\n",
              "      <td>0.967742</td>\n",
              "      <td>1.000000</td>\n",
              "      <td>0.983607</td>\n",
              "      <td>0.992857</td>\n",
              "    </tr>\n",
              "    <tr>\n",
              "      <th>3</th>\n",
              "      <td>4.0</td>\n",
              "      <td>0.96</td>\n",
              "      <td>0.882353</td>\n",
              "      <td>1.000000</td>\n",
              "      <td>0.937500</td>\n",
              "      <td>0.971429</td>\n",
              "    </tr>\n",
              "    <tr>\n",
              "      <th>4</th>\n",
              "      <td>5.0</td>\n",
              "      <td>0.99</td>\n",
              "      <td>0.967742</td>\n",
              "      <td>1.000000</td>\n",
              "      <td>0.983607</td>\n",
              "      <td>0.992857</td>\n",
              "    </tr>\n",
              "    <tr>\n",
              "      <th>5</th>\n",
              "      <td>6.0</td>\n",
              "      <td>0.96</td>\n",
              "      <td>0.882353</td>\n",
              "      <td>1.000000</td>\n",
              "      <td>0.937500</td>\n",
              "      <td>0.971429</td>\n",
              "    </tr>\n",
              "    <tr>\n",
              "      <th>6</th>\n",
              "      <td>7.0</td>\n",
              "      <td>0.99</td>\n",
              "      <td>0.967742</td>\n",
              "      <td>1.000000</td>\n",
              "      <td>0.983607</td>\n",
              "      <td>0.992857</td>\n",
              "    </tr>\n",
              "    <tr>\n",
              "      <th>7</th>\n",
              "      <td>8.0</td>\n",
              "      <td>0.96</td>\n",
              "      <td>0.882353</td>\n",
              "      <td>1.000000</td>\n",
              "      <td>0.937500</td>\n",
              "      <td>0.971429</td>\n",
              "    </tr>\n",
              "    <tr>\n",
              "      <th>8</th>\n",
              "      <td>9.0</td>\n",
              "      <td>0.97</td>\n",
              "      <td>0.909091</td>\n",
              "      <td>1.000000</td>\n",
              "      <td>0.952381</td>\n",
              "      <td>0.978571</td>\n",
              "    </tr>\n",
              "    <tr>\n",
              "      <th>9</th>\n",
              "      <td>10.0</td>\n",
              "      <td>0.97</td>\n",
              "      <td>0.935484</td>\n",
              "      <td>0.966667</td>\n",
              "      <td>0.950820</td>\n",
              "      <td>0.969048</td>\n",
              "    </tr>\n",
              "  </tbody>\n",
              "</table>\n",
              "</div>"
            ],
            "text/plain": [
              "   Model  Accuracy  Precision    Recall  F1 Score  AUC Score\n",
              "0    1.0      0.99   0.967742  1.000000  0.983607   0.992857\n",
              "1    2.0      0.94   0.833333  1.000000  0.909091   0.957143\n",
              "2    3.0      0.99   0.967742  1.000000  0.983607   0.992857\n",
              "3    4.0      0.96   0.882353  1.000000  0.937500   0.971429\n",
              "4    5.0      0.99   0.967742  1.000000  0.983607   0.992857\n",
              "5    6.0      0.96   0.882353  1.000000  0.937500   0.971429\n",
              "6    7.0      0.99   0.967742  1.000000  0.983607   0.992857\n",
              "7    8.0      0.96   0.882353  1.000000  0.937500   0.971429\n",
              "8    9.0      0.97   0.909091  1.000000  0.952381   0.978571\n",
              "9   10.0      0.97   0.935484  0.966667  0.950820   0.969048"
            ]
          },
          "metadata": {
            "tags": []
          },
          "execution_count": 24
        }
      ]
    },
    {
      "cell_type": "code",
      "metadata": {
        "colab": {
          "base_uri": "https://localhost:8080/",
          "height": 407
        },
        "id": "1MK1h68DdEId",
        "outputId": "b842682a-137f-4e7f-eab9-14c337c47c61"
      },
      "source": [
        "fig, ax = plt.subplots(figsize = (8,6))\n",
        "result_df.drop(['Model'], axis = 1).boxplot(vert = 1, ax = ax)\n",
        "ax.set_title('Binary Claasification Model Performance on Test Data : All features')\n",
        "ax.grid(b=None)\n",
        "ax.set_ylabel('Value')"
      ],
      "execution_count": 25,
      "outputs": [
        {
          "output_type": "execute_result",
          "data": {
            "text/plain": [
              "Text(0, 0.5, 'Value')"
            ]
          },
          "metadata": {
            "tags": []
          },
          "execution_count": 25
        },
        {
          "output_type": "display_data",
          "data": {
            "image/png": "[encoded data removed]",
            "text/plain": [
              "<Figure size 576x432 with 1 Axes>"
            ]
          },
          "metadata": {
            "tags": [],
            "needs_background": "light"
          }
        }
      ]
    },
    {
      "cell_type": "code",
      "metadata": {
        "colab": {
          "base_uri": "https://localhost:8080/"
        },
        "id": "95E06KO9dEIe",
        "outputId": "fcdd49e6-5f16-4c11-9ded-960e830375a2"
      },
      "source": [
        "result_df.mean()"
      ],
      "execution_count": 26,
      "outputs": [
        {
          "output_type": "execute_result",
          "data": {
            "text/plain": [
              "Model        5.500000\n",
              "Accuracy     0.972000\n",
              "Precision    0.919593\n",
              "Recall       0.996667\n",
              "F1 Score     0.955922\n",
              "AUC Score    0.979048\n",
              "dtype: float64"
            ]
          },
          "metadata": {
            "tags": []
          },
          "execution_count": 26
        }
      ]
    },
    {
      "cell_type": "code",
      "metadata": {
        "id": "WGiuXw9UdEIe"
      },
      "source": [
        ""
      ],
      "execution_count": 26,
      "outputs": []
    }
  ]
}