{
  "nbformat": 4,
  "nbformat_minor": 0,
  "metadata": {
    "kernelspec": {
      "display_name": "Python 3",
      "language": "python",
      "name": "python3"
    },
    "language_info": {
      "codemirror_mode": {
        "name": "ipython",
        "version": 3
      },
      "file_extension": ".py",
      "mimetype": "text/x-python",
      "name": "python",
      "nbconvert_exporter": "python",
      "pygments_lexer": "ipython3",
      "version": "3.7.3"
    },
    "colab": {
      "name": "RNN - binary and multiclass classification.ipynb",
      "provenance": []
    },
    "accelerator": "GPU"
  },
  "cells": [
    {
      "cell_type": "markdown",
      "metadata": {
        "id": "azOM-daBZACq"
      },
      "source": [
        "## RNN Time Series Classification"
      ]
    },
    {
      "cell_type": "markdown",
      "metadata": {
        "id": "maepoWQyZAC_"
      },
      "source": [
        "### Importing Required Libraries and Data"
      ]
    },
    {
      "cell_type": "code",
      "metadata": {
        "id": "SKUebQtGZADB"
      },
      "source": [
        "import pandas as pd\n",
        "import numpy as np\n",
        "\n",
        "#to plot the data\n",
        "import matplotlib.pyplot as plt\n",
        "import seaborn as sns\n",
        "%matplotlib inline\n",
        "import matplotlib as mpl\n",
        "mpl.rcParams.update(mpl.rcParamsDefault)\n",
        "\n",
        "import time\n",
        "import os\n",
        "# os.chdir(\"C:/Data/aircraft/\")\n",
        "\n",
        "from sklearn.preprocessing import MinMaxScaler #to normalize data\n",
        "from sklearn.metrics import classification_report, confusion_matrix, roc_curve\n",
        "from sklearn.metrics import f1_score, roc_auc_score, accuracy_score, precision_score, recall_score\n",
        "from sklearn.utils import class_weight\n",
        "\n",
        "#for deep learning\n",
        "import keras\n",
        "import keras.backend as k\n",
        "from keras.models import Sequential\n",
        "from keras.layers import Dense, Activation, Masking, Dropout, SimpleRNN\n",
        "from keras.callbacks import History\n",
        "from keras import callbacks\n",
        "from keras.utils import to_categorical"
      ],
      "execution_count": 1,
      "outputs": []
    },
    {
      "cell_type": "code",
      "metadata": {
        "id": "zwHoQvQWZADD"
      },
      "source": [
        "def prepare_data(drop_cols = True):\n",
        "    dependent_var = ['RUL']\n",
        "    index_columns_names =  [\"UnitNumber\",\"Cycle\"]\n",
        "    operational_settings_columns_names = [\"OpSet\"+str(i) for i in range(1,4)]\n",
        "    sensor_measure_columns_names =[\"SensorMeasure\"+str(i) for i in range(1,22)]\n",
        "    input_file_column_names = index_columns_names + operational_settings_columns_names + sensor_measure_columns_names\n",
        "\n",
        "    cols_to_drop = ['OpSet3', 'SensorMeasure1', 'SensorMeasure5', 'SensorMeasure6', 'SensorMeasure10', 'SensorMeasure14',\n",
        "     'SensorMeasure16', 'SensorMeasure18', 'SensorMeasure19']\n",
        "\n",
        "    df_train = pd.read_csv('https://raw.githubusercontent.com/ericlrf/rul/main/CMAPSSData/train_FD001.txt',delim_whitespace=True,names=input_file_column_names)\n",
        "\n",
        "    rul = pd.DataFrame(df_train.groupby('UnitNumber')['Cycle'].max()).reset_index()\n",
        "    rul.columns = ['UnitNumber', 'max']\n",
        "    df_train = df_train.merge(rul, on=['UnitNumber'], how='left')\n",
        "    df_train['RUL'] = df_train['max'] - df_train['Cycle']\n",
        "    df_train.drop('max', axis=1, inplace=True)\n",
        "    df_train['failure_lbl_1'] = [1 if i < 50 else 0 for i in df_train.RUL]\n",
        "    df_train['failure_lbl_2'] = df_train['failure_lbl_1']\n",
        "    df_train.failure_lbl_2[df_train.RUL < 25] = 2\n",
        "\n",
        "    df_test = pd.read_csv('https://raw.githubusercontent.com/ericlrf/rul/main/CMAPSSData/test_FD001.txt', delim_whitespace=True, names=input_file_column_names)\n",
        "    \n",
        "    if(drop_cols == True):\n",
        "        df_train = df_train.drop(cols_to_drop, axis = 1)\n",
        "        df_test = df_test.drop(cols_to_drop, axis = 1)\n",
        "\n",
        "    y_true = pd.read_csv('https://raw.githubusercontent.com/ericlrf/rul/main/CMAPSSData/RUL_FD001.txt', delim_whitespace=True,names=[\"RUL\"])\n",
        "    y_true[\"UnitNumber\"] = y_true.index\n",
        "    y_true['failure_lbl_1'] = [1 if i < 50 else 0 for i in y_true.RUL]\n",
        "    y_true['failure_lbl_2'] = y_true['failure_lbl_1']\n",
        "    y_true.failure_lbl_2[y_true.RUL < 25] = 2\n",
        "    \n",
        "    return df_train, df_test, y_true"
      ],
      "execution_count": 2,
      "outputs": []
    },
    {
      "cell_type": "code",
      "metadata": {
        "colab": {
          "base_uri": "https://localhost:8080/"
        },
        "id": "FnAHWFtyZADE",
        "outputId": "0fcf3d33-656a-4237-9179-bc7fc0998070"
      },
      "source": [
        "df_train, df_test, y_true = prepare_data(drop_cols=True)\n",
        "df_train.shape, df_test.shape, y_true.shape"
      ],
      "execution_count": 3,
      "outputs": [
        {
          "output_type": "stream",
          "text": [
            "/usr/local/lib/python3.7/dist-packages/ipykernel_launcher.py:20: SettingWithCopyWarning: \n",
            "A value is trying to be set on a copy of a slice from a DataFrame\n",
            "\n",
            "See the caveats in the documentation: https://pandas.pydata.org/pandas-docs/stable/user_guide/indexing.html#returning-a-view-versus-a-copy\n"
          ],
          "name": "stderr"
        },
        {
          "output_type": "execute_result",
          "data": {
            "text/plain": [
              "((20631, 20), (13096, 17), (100, 4))"
            ]
          },
          "metadata": {
            "tags": []
          },
          "execution_count": 3
        }
      ]
    },
    {
      "cell_type": "code",
      "metadata": {
        "id": "6KCuN6QxZADH"
      },
      "source": [
        "feats = df_train.columns.drop(['UnitNumber', 'Cycle', 'RUL', 'failure_lbl_1', 'failure_lbl_2'])"
      ],
      "execution_count": 4,
      "outputs": []
    },
    {
      "cell_type": "code",
      "metadata": {
        "id": "pJR2CIPhZADI"
      },
      "source": [
        "min_max_scaler = MinMaxScaler(feature_range=(-1,1))\n",
        "\n",
        "df_train[feats] = min_max_scaler.fit_transform(df_train[feats])\n",
        "df_test[feats] = min_max_scaler.transform(df_test[feats])"
      ],
      "execution_count": 5,
      "outputs": []
    },
    {
      "cell_type": "code",
      "metadata": {
        "scrolled": true,
        "colab": {
          "base_uri": "https://localhost:8080/",
          "height": 224
        },
        "id": "em-6pStKZADJ",
        "outputId": "f4151ccc-8fa0-47e9-f895-639d881e6b73"
      },
      "source": [
        "df_train.head()"
      ],
      "execution_count": 6,
      "outputs": [
        {
          "output_type": "execute_result",
          "data": {
            "text/html": [
              "<div>\n",
              "<style scoped>\n",
              "    .dataframe tbody tr th:only-of-type {\n",
              "        vertical-align: middle;\n",
              "    }\n",
              "\n",
              "    .dataframe tbody tr th {\n",
              "        vertical-align: top;\n",
              "    }\n",
              "\n",
              "    .dataframe thead th {\n",
              "        text-align: right;\n",
              "    }\n",
              "</style>\n",
              "<table border=\"1\" class=\"dataframe\">\n",
              "  <thead>\n",
              "    <tr style=\"text-align: right;\">\n",
              "      <th></th>\n",
              "      <th>UnitNumber</th>\n",
              "      <th>Cycle</th>\n",
              "      <th>OpSet1</th>\n",
              "      <th>OpSet2</th>\n",
              "      <th>SensorMeasure2</th>\n",
              "      <th>SensorMeasure3</th>\n",
              "      <th>SensorMeasure4</th>\n",
              "      <th>SensorMeasure7</th>\n",
              "      <th>SensorMeasure8</th>\n",
              "      <th>SensorMeasure9</th>\n",
              "      <th>SensorMeasure11</th>\n",
              "      <th>SensorMeasure12</th>\n",
              "      <th>SensorMeasure13</th>\n",
              "      <th>SensorMeasure15</th>\n",
              "      <th>SensorMeasure17</th>\n",
              "      <th>SensorMeasure20</th>\n",
              "      <th>SensorMeasure21</th>\n",
              "      <th>RUL</th>\n",
              "      <th>failure_lbl_1</th>\n",
              "      <th>failure_lbl_2</th>\n",
              "    </tr>\n",
              "  </thead>\n",
              "  <tbody>\n",
              "    <tr>\n",
              "      <th>0</th>\n",
              "      <td>1</td>\n",
              "      <td>1</td>\n",
              "      <td>-0.080460</td>\n",
              "      <td>-0.666667</td>\n",
              "      <td>-0.632530</td>\n",
              "      <td>-0.186396</td>\n",
              "      <td>-0.380486</td>\n",
              "      <td>0.452496</td>\n",
              "      <td>-0.515152</td>\n",
              "      <td>-0.780490</td>\n",
              "      <td>-0.261905</td>\n",
              "      <td>0.266525</td>\n",
              "      <td>-0.588235</td>\n",
              "      <td>-0.272028</td>\n",
              "      <td>-0.333333</td>\n",
              "      <td>0.426357</td>\n",
              "      <td>0.449323</td>\n",
              "      <td>191</td>\n",
              "      <td>0</td>\n",
              "      <td>0</td>\n",
              "    </tr>\n",
              "    <tr>\n",
              "      <th>1</th>\n",
              "      <td>1</td>\n",
              "      <td>2</td>\n",
              "      <td>0.218391</td>\n",
              "      <td>-0.500000</td>\n",
              "      <td>-0.433735</td>\n",
              "      <td>-0.093961</td>\n",
              "      <td>-0.294733</td>\n",
              "      <td>0.256039</td>\n",
              "      <td>-0.575758</td>\n",
              "      <td>-0.799515</td>\n",
              "      <td>-0.238095</td>\n",
              "      <td>0.530917</td>\n",
              "      <td>-0.441176</td>\n",
              "      <td>-0.177376</td>\n",
              "      <td>-0.333333</td>\n",
              "      <td>0.333333</td>\n",
              "      <td>0.462027</td>\n",
              "      <td>190</td>\n",
              "      <td>0</td>\n",
              "      <td>0</td>\n",
              "    </tr>\n",
              "    <tr>\n",
              "      <th>2</th>\n",
              "      <td>1</td>\n",
              "      <td>3</td>\n",
              "      <td>-0.494253</td>\n",
              "      <td>0.500000</td>\n",
              "      <td>-0.313253</td>\n",
              "      <td>-0.260955</td>\n",
              "      <td>-0.258947</td>\n",
              "      <td>0.420290</td>\n",
              "      <td>-0.454545</td>\n",
              "      <td>-0.719914</td>\n",
              "      <td>-0.500000</td>\n",
              "      <td>0.590618</td>\n",
              "      <td>-0.558824</td>\n",
              "      <td>-0.285110</td>\n",
              "      <td>-0.666667</td>\n",
              "      <td>0.255814</td>\n",
              "      <td>0.242751</td>\n",
              "      <td>189</td>\n",
              "      <td>0</td>\n",
              "      <td>0</td>\n",
              "    </tr>\n",
              "    <tr>\n",
              "      <th>3</th>\n",
              "      <td>1</td>\n",
              "      <td>4</td>\n",
              "      <td>0.080460</td>\n",
              "      <td>0.000000</td>\n",
              "      <td>-0.313253</td>\n",
              "      <td>-0.487683</td>\n",
              "      <td>-0.337610</td>\n",
              "      <td>0.481481</td>\n",
              "      <td>-0.363636</td>\n",
              "      <td>-0.750965</td>\n",
              "      <td>-0.666667</td>\n",
              "      <td>0.778252</td>\n",
              "      <td>-0.411765</td>\n",
              "      <td>-0.666795</td>\n",
              "      <td>-0.333333</td>\n",
              "      <td>0.147287</td>\n",
              "      <td>0.324772</td>\n",
              "      <td>188</td>\n",
              "      <td>0</td>\n",
              "      <td>0</td>\n",
              "    </tr>\n",
              "    <tr>\n",
              "      <th>4</th>\n",
              "      <td>1</td>\n",
              "      <td>5</td>\n",
              "      <td>-0.218391</td>\n",
              "      <td>-0.333333</td>\n",
              "      <td>-0.301205</td>\n",
              "      <td>-0.485066</td>\n",
              "      <td>-0.190749</td>\n",
              "      <td>0.336554</td>\n",
              "      <td>-0.515152</td>\n",
              "      <td>-0.700081</td>\n",
              "      <td>-0.488095</td>\n",
              "      <td>0.492537</td>\n",
              "      <td>-0.529412</td>\n",
              "      <td>-0.195845</td>\n",
              "      <td>-0.166667</td>\n",
              "      <td>0.178295</td>\n",
              "      <td>0.409003</td>\n",
              "      <td>187</td>\n",
              "      <td>0</td>\n",
              "      <td>0</td>\n",
              "    </tr>\n",
              "  </tbody>\n",
              "</table>\n",
              "</div>"
            ],
            "text/plain": [
              "   UnitNumber  Cycle    OpSet1  ...  RUL  failure_lbl_1  failure_lbl_2\n",
              "0           1      1 -0.080460  ...  191              0              0\n",
              "1           1      2  0.218391  ...  190              0              0\n",
              "2           1      3 -0.494253  ...  189              0              0\n",
              "3           1      4  0.080460  ...  188              0              0\n",
              "4           1      5 -0.218391  ...  187              0              0\n",
              "\n",
              "[5 rows x 20 columns]"
            ]
          },
          "metadata": {
            "tags": []
          },
          "execution_count": 6
        }
      ]
    },
    {
      "cell_type": "code",
      "metadata": {
        "colab": {
          "base_uri": "https://localhost:8080/",
          "height": 224
        },
        "id": "kdTUht9iZADK",
        "outputId": "7b5c66b0-df00-462c-bf8b-cb20c75a9e82"
      },
      "source": [
        "df_test.head()"
      ],
      "execution_count": 7,
      "outputs": [
        {
          "output_type": "execute_result",
          "data": {
            "text/html": [
              "<div>\n",
              "<style scoped>\n",
              "    .dataframe tbody tr th:only-of-type {\n",
              "        vertical-align: middle;\n",
              "    }\n",
              "\n",
              "    .dataframe tbody tr th {\n",
              "        vertical-align: top;\n",
              "    }\n",
              "\n",
              "    .dataframe thead th {\n",
              "        text-align: right;\n",
              "    }\n",
              "</style>\n",
              "<table border=\"1\" class=\"dataframe\">\n",
              "  <thead>\n",
              "    <tr style=\"text-align: right;\">\n",
              "      <th></th>\n",
              "      <th>UnitNumber</th>\n",
              "      <th>Cycle</th>\n",
              "      <th>OpSet1</th>\n",
              "      <th>OpSet2</th>\n",
              "      <th>SensorMeasure2</th>\n",
              "      <th>SensorMeasure3</th>\n",
              "      <th>SensorMeasure4</th>\n",
              "      <th>SensorMeasure7</th>\n",
              "      <th>SensorMeasure8</th>\n",
              "      <th>SensorMeasure9</th>\n",
              "      <th>SensorMeasure11</th>\n",
              "      <th>SensorMeasure12</th>\n",
              "      <th>SensorMeasure13</th>\n",
              "      <th>SensorMeasure15</th>\n",
              "      <th>SensorMeasure17</th>\n",
              "      <th>SensorMeasure20</th>\n",
              "      <th>SensorMeasure21</th>\n",
              "    </tr>\n",
              "  </thead>\n",
              "  <tbody>\n",
              "    <tr>\n",
              "      <th>0</th>\n",
              "      <td>1</td>\n",
              "      <td>1</td>\n",
              "      <td>0.264368</td>\n",
              "      <td>0.500000</td>\n",
              "      <td>0.090361</td>\n",
              "      <td>-0.378679</td>\n",
              "      <td>-0.461175</td>\n",
              "      <td>0.304348</td>\n",
              "      <td>-0.575758</td>\n",
              "      <td>-0.744773</td>\n",
              "      <td>-0.583333</td>\n",
              "      <td>0.292111</td>\n",
              "      <td>-0.558824</td>\n",
              "      <td>-0.382070</td>\n",
              "      <td>-0.333333</td>\n",
              "      <td>0.116279</td>\n",
              "      <td>0.323667</td>\n",
              "    </tr>\n",
              "    <tr>\n",
              "      <th>1</th>\n",
              "      <td>1</td>\n",
              "      <td>2</td>\n",
              "      <td>-0.310345</td>\n",
              "      <td>-0.500000</td>\n",
              "      <td>-0.698795</td>\n",
              "      <td>-0.240898</td>\n",
              "      <td>-0.555368</td>\n",
              "      <td>0.610306</td>\n",
              "      <td>-0.666667</td>\n",
              "      <td>-0.706632</td>\n",
              "      <td>-0.226190</td>\n",
              "      <td>0.479744</td>\n",
              "      <td>-0.470588</td>\n",
              "      <td>-0.573682</td>\n",
              "      <td>-0.166667</td>\n",
              "      <td>0.364341</td>\n",
              "      <td>0.373654</td>\n",
              "    </tr>\n",
              "    <tr>\n",
              "      <th>2</th>\n",
              "      <td>1</td>\n",
              "      <td>3</td>\n",
              "      <td>0.034483</td>\n",
              "      <td>0.166667</td>\n",
              "      <td>-0.246988</td>\n",
              "      <td>-0.306736</td>\n",
              "      <td>-0.355503</td>\n",
              "      <td>0.371981</td>\n",
              "      <td>-0.545455</td>\n",
              "      <td>-0.683837</td>\n",
              "      <td>-0.226190</td>\n",
              "      <td>0.398721</td>\n",
              "      <td>-0.558824</td>\n",
              "      <td>-0.082724</td>\n",
              "      <td>-0.166667</td>\n",
              "      <td>0.457364</td>\n",
              "      <td>0.442695</td>\n",
              "    </tr>\n",
              "    <tr>\n",
              "      <th>3</th>\n",
              "      <td>1</td>\n",
              "      <td>4</td>\n",
              "      <td>0.482759</td>\n",
              "      <td>0.000000</td>\n",
              "      <td>-0.259036</td>\n",
              "      <td>-0.429693</td>\n",
              "      <td>-0.183997</td>\n",
              "      <td>0.359098</td>\n",
              "      <td>-0.606061</td>\n",
              "      <td>-0.788567</td>\n",
              "      <td>-0.488095</td>\n",
              "      <td>0.147122</td>\n",
              "      <td>-0.500000</td>\n",
              "      <td>-0.485956</td>\n",
              "      <td>-0.500000</td>\n",
              "      <td>0.333333</td>\n",
              "      <td>0.324220</td>\n",
              "    </tr>\n",
              "    <tr>\n",
              "      <th>4</th>\n",
              "      <td>1</td>\n",
              "      <td>5</td>\n",
              "      <td>0.160920</td>\n",
              "      <td>0.000000</td>\n",
              "      <td>-0.216867</td>\n",
              "      <td>-0.295836</td>\n",
              "      <td>-0.335922</td>\n",
              "      <td>0.388084</td>\n",
              "      <td>-0.666667</td>\n",
              "      <td>-0.795208</td>\n",
              "      <td>-0.452381</td>\n",
              "      <td>0.475480</td>\n",
              "      <td>-0.558824</td>\n",
              "      <td>-0.398230</td>\n",
              "      <td>-0.666667</td>\n",
              "      <td>0.317829</td>\n",
              "      <td>0.432753</td>\n",
              "    </tr>\n",
              "  </tbody>\n",
              "</table>\n",
              "</div>"
            ],
            "text/plain": [
              "   UnitNumber  Cycle  ...  SensorMeasure20  SensorMeasure21\n",
              "0           1      1  ...         0.116279         0.323667\n",
              "1           1      2  ...         0.364341         0.373654\n",
              "2           1      3  ...         0.457364         0.442695\n",
              "3           1      4  ...         0.333333         0.324220\n",
              "4           1      5  ...         0.317829         0.432753\n",
              "\n",
              "[5 rows x 17 columns]"
            ]
          },
          "metadata": {
            "tags": []
          },
          "execution_count": 7
        }
      ]
    },
    {
      "cell_type": "code",
      "metadata": {
        "colab": {
          "base_uri": "https://localhost:8080/",
          "height": 204
        },
        "id": "_L4lfdMfZADM",
        "outputId": "5e63b553-498c-422b-a4e3-7ab11288793c"
      },
      "source": [
        "y_true.head()"
      ],
      "execution_count": 8,
      "outputs": [
        {
          "output_type": "execute_result",
          "data": {
            "text/html": [
              "<div>\n",
              "<style scoped>\n",
              "    .dataframe tbody tr th:only-of-type {\n",
              "        vertical-align: middle;\n",
              "    }\n",
              "\n",
              "    .dataframe tbody tr th {\n",
              "        vertical-align: top;\n",
              "    }\n",
              "\n",
              "    .dataframe thead th {\n",
              "        text-align: right;\n",
              "    }\n",
              "</style>\n",
              "<table border=\"1\" class=\"dataframe\">\n",
              "  <thead>\n",
              "    <tr style=\"text-align: right;\">\n",
              "      <th></th>\n",
              "      <th>RUL</th>\n",
              "      <th>UnitNumber</th>\n",
              "      <th>failure_lbl_1</th>\n",
              "      <th>failure_lbl_2</th>\n",
              "    </tr>\n",
              "  </thead>\n",
              "  <tbody>\n",
              "    <tr>\n",
              "      <th>0</th>\n",
              "      <td>112</td>\n",
              "      <td>0</td>\n",
              "      <td>0</td>\n",
              "      <td>0</td>\n",
              "    </tr>\n",
              "    <tr>\n",
              "      <th>1</th>\n",
              "      <td>98</td>\n",
              "      <td>1</td>\n",
              "      <td>0</td>\n",
              "      <td>0</td>\n",
              "    </tr>\n",
              "    <tr>\n",
              "      <th>2</th>\n",
              "      <td>69</td>\n",
              "      <td>2</td>\n",
              "      <td>0</td>\n",
              "      <td>0</td>\n",
              "    </tr>\n",
              "    <tr>\n",
              "      <th>3</th>\n",
              "      <td>82</td>\n",
              "      <td>3</td>\n",
              "      <td>0</td>\n",
              "      <td>0</td>\n",
              "    </tr>\n",
              "    <tr>\n",
              "      <th>4</th>\n",
              "      <td>91</td>\n",
              "      <td>4</td>\n",
              "      <td>0</td>\n",
              "      <td>0</td>\n",
              "    </tr>\n",
              "  </tbody>\n",
              "</table>\n",
              "</div>"
            ],
            "text/plain": [
              "   RUL  UnitNumber  failure_lbl_1  failure_lbl_2\n",
              "0  112           0              0              0\n",
              "1   98           1              0              0\n",
              "2   69           2              0              0\n",
              "3   82           3              0              0\n",
              "4   91           4              0              0"
            ]
          },
          "metadata": {
            "tags": []
          },
          "execution_count": 8
        }
      ]
    },
    {
      "cell_type": "markdown",
      "metadata": {
        "id": "B-8ERhCpZADN"
      },
      "source": [
        "\n",
        "LSTM expects an input in the shape of a numpy array of 3 dimensions and I will need to convert train and test data accordingly."
      ]
    },
    {
      "cell_type": "code",
      "metadata": {
        "id": "vW5v5MyXZADO"
      },
      "source": [
        "def gen_train(id_df, seq_length, seq_cols):\n",
        "    \"\"\"\n",
        "        function to prepare train data into (samples, time steps, features)\n",
        "        id_df = train dataframe\n",
        "        seq_length = look back period\n",
        "        seq_cols = feature columns\n",
        "    \"\"\"\n",
        "        \n",
        "    data_array = id_df[seq_cols].values\n",
        "    num_elements = data_array.shape[0]\n",
        "    lstm_array=[]\n",
        "    \n",
        "    for start, stop in zip(range(0, num_elements-seq_length+1), range(seq_length, num_elements+1)):\n",
        "        lstm_array.append(data_array[start:stop, :])\n",
        "    \n",
        "    return np.array(lstm_array)"
      ],
      "execution_count": 9,
      "outputs": []
    },
    {
      "cell_type": "code",
      "metadata": {
        "id": "WsD3vVAMZADP"
      },
      "source": [
        "def gen_target(id_df, seq_length, label):\n",
        "    data_array = id_df[label].values\n",
        "    num_elements = data_array.shape[0]\n",
        "    return data_array[seq_length-1:num_elements+1]"
      ],
      "execution_count": 10,
      "outputs": []
    },
    {
      "cell_type": "code",
      "metadata": {
        "id": "IRMBWcAOZADQ"
      },
      "source": [
        "def gen_test(id_df, seq_length, seq_cols, mask_value):\n",
        "    \"\"\"\n",
        "        function to prepare test data into (samples, time steps, features)\n",
        "        function only returns last sequence of data for every unit\n",
        "        id_df = test dataframe\n",
        "        seq_length = look back period\n",
        "        seq_cols = feature columns\n",
        "    \"\"\"\n",
        "    df_mask = pd.DataFrame(np.zeros((seq_length-1,id_df.shape[1])),columns=id_df.columns)\n",
        "    df_mask[:] = mask_value\n",
        "    \n",
        "    id_df = df_mask.append(id_df,ignore_index=True)\n",
        "    \n",
        "    data_array = id_df[seq_cols].values\n",
        "    num_elements = data_array.shape[0]\n",
        "    lstm_array=[]\n",
        "    \n",
        "    start = num_elements-seq_length\n",
        "    stop = num_elements\n",
        "    \n",
        "    lstm_array.append(data_array[start:stop, :])\n",
        "    \n",
        "    return np.array(lstm_array)"
      ],
      "execution_count": 11,
      "outputs": []
    },
    {
      "cell_type": "markdown",
      "metadata": {
        "id": "NlSC05UIZADR"
      },
      "source": [
        "### Function to Print results"
      ]
    },
    {
      "cell_type": "code",
      "metadata": {
        "id": "fWQ0bcILZADS"
      },
      "source": [
        "def print_results(y_test, y_pred, multi_class = False):\n",
        "    \n",
        "    #f1-score\n",
        "    if multi_class == True:\n",
        "        f1 = f1_score(y_test, y_pred, average=\"macro\")\n",
        "    else:\n",
        "        f1 = f1_score(y_test, y_pred)\n",
        "    print(\"F1 Score: \", f1)\n",
        "    print(classification_report(y_test, y_pred))\n",
        "    \n",
        "    conf_matrix = confusion_matrix(y_test, y_pred)\n",
        "    plt.figure(figsize=(12,12))\n",
        "    plt.subplot(221)\n",
        "    sns.heatmap(conf_matrix, fmt = \"d\",annot=True, cmap='Blues')\n",
        "    b, t = plt.ylim()\n",
        "    plt.ylim(b + 0.5, t - 0.5)\n",
        "    plt.title('Confuion Matrix')\n",
        "    plt.ylabel('True Values')\n",
        "    plt.xlabel('Predicted Values')\n",
        "\n",
        "    #roc_auc_score\n",
        "    if multi_class == False:\n",
        "        model_roc_auc = roc_auc_score(y_test, y_pred) \n",
        "        print (\"Area under curve : \",model_roc_auc,\"\\n\")\n",
        "        fpr,tpr,thresholds = roc_curve(y_test, y_pred)\n",
        "        gmeans = np.sqrt(tpr * (1-fpr))\n",
        "        ix = np.argmax(gmeans)\n",
        "        threshold = np.round(thresholds[ix],3)\n",
        "\n",
        "        plt.subplot(222)\n",
        "        plt.plot(fpr, tpr, color='darkorange', lw=1, label = \"Auc : %.3f\" %model_roc_auc)\n",
        "        plt.plot([0, 1], [0, 1], color='navy', lw=2, linestyle='--')\n",
        "        plt.scatter(fpr[ix], tpr[ix], marker='o', color='black', label='Best Threshold:' + str(threshold))\n",
        "        plt.xlim([0.0, 1.0])\n",
        "        plt.ylim([0.0, 1.05])\n",
        "        plt.xlabel('False Positive Rate')\n",
        "        plt.ylabel('True Positive Rate')\n",
        "        plt.title('Receiver operating characteristic')\n",
        "        plt.legend(loc=\"lower right\")"
      ],
      "execution_count": 12,
      "outputs": []
    },
    {
      "cell_type": "markdown",
      "metadata": {
        "id": "2gZ0c5MaZADU"
      },
      "source": [
        "## Binary Classification"
      ]
    },
    {
      "cell_type": "code",
      "metadata": {
        "id": "X0eG09TaZADX"
      },
      "source": [
        "sequence_length = 50\n",
        "mask_value = 0\n",
        "label = \"failure_lbl_1\""
      ],
      "execution_count": 13,
      "outputs": []
    },
    {
      "cell_type": "markdown",
      "metadata": {
        "id": "Ongnoj-IZADX"
      },
      "source": [
        "\n",
        "Let's prepare data using above functions."
      ]
    },
    {
      "cell_type": "code",
      "metadata": {
        "colab": {
          "base_uri": "https://localhost:8080/"
        },
        "id": "rJsN7PzuZADY",
        "outputId": "08e1d41e-a4fa-44d7-c85d-67e695f3ad4c"
      },
      "source": [
        "#generate train\n",
        "x_train=np.concatenate(list(list(gen_train(df_train[df_train['UnitNumber']==unit], sequence_length, feats)) for unit in df_train['UnitNumber'].unique()))\n",
        "print(x_train.shape)"
      ],
      "execution_count": 14,
      "outputs": [
        {
          "output_type": "stream",
          "text": [
            "(15731, 50, 15)\n"
          ],
          "name": "stdout"
        }
      ]
    },
    {
      "cell_type": "code",
      "metadata": {
        "scrolled": true,
        "colab": {
          "base_uri": "https://localhost:8080/"
        },
        "id": "LCeEIS0GZADY",
        "outputId": "fc8d921a-df27-487d-9c24-ac284fcfd0b4"
      },
      "source": [
        "#generate target of train\n",
        "y_train = np.concatenate(list(list(gen_target(df_train[df_train['UnitNumber']==unit], sequence_length, label)) for unit in df_train['UnitNumber'].unique()))\n",
        "y_train.shape"
      ],
      "execution_count": 15,
      "outputs": [
        {
          "output_type": "execute_result",
          "data": {
            "text/plain": [
              "(15731,)"
            ]
          },
          "metadata": {
            "tags": []
          },
          "execution_count": 15
        }
      ]
    },
    {
      "cell_type": "code",
      "metadata": {
        "colab": {
          "base_uri": "https://localhost:8080/"
        },
        "id": "jS1cPLeMZADZ",
        "outputId": "1cb7c84d-141d-404d-aec9-9bb47ff90689"
      },
      "source": [
        "#generate test\n",
        "x_test=np.concatenate(list(list(gen_test(df_test[df_test['UnitNumber']==unit], sequence_length, feats, mask_value)) for unit in df_test['UnitNumber'].unique()))\n",
        "print(x_test.shape)"
      ],
      "execution_count": 16,
      "outputs": [
        {
          "output_type": "stream",
          "text": [
            "(100, 50, 15)\n"
          ],
          "name": "stdout"
        }
      ]
    },
    {
      "cell_type": "code",
      "metadata": {
        "colab": {
          "base_uri": "https://localhost:8080/"
        },
        "id": "7Gy4zkLyZADa",
        "outputId": "07b7c9e2-89fd-4dd3-ef9f-4881f6e5bc7a"
      },
      "source": [
        "#true target of test \n",
        "y_test = y_true.RUL.values\n",
        "y_test.shape"
      ],
      "execution_count": 17,
      "outputs": [
        {
          "output_type": "execute_result",
          "data": {
            "text/plain": [
              "(100,)"
            ]
          },
          "metadata": {
            "tags": []
          },
          "execution_count": 17
        }
      ]
    },
    {
      "cell_type": "code",
      "metadata": {
        "id": "ZR2HqKLWZADc"
      },
      "source": [
        "nb_features = x_train.shape[2]\n",
        "nb_out = 1"
      ],
      "execution_count": 18,
      "outputs": []
    },
    {
      "cell_type": "code",
      "metadata": {
        "colab": {
          "base_uri": "https://localhost:8080/"
        },
        "id": "77GZ5EEXZADd",
        "outputId": "dbfa21a4-861b-4cf0-d8fd-7a33070a3e8c"
      },
      "source": [
        "nb_features"
      ],
      "execution_count": 19,
      "outputs": [
        {
          "output_type": "execute_result",
          "data": {
            "text/plain": [
              "15"
            ]
          },
          "metadata": {
            "tags": []
          },
          "execution_count": 19
        }
      ]
    },
    {
      "cell_type": "code",
      "metadata": {
        "colab": {
          "base_uri": "https://localhost:8080/"
        },
        "id": "AJhnzPaZZADe",
        "outputId": "6c2c5042-1ad3-44bd-d1f8-abb240aed504"
      },
      "source": [
        "cls_wt= class_weight.compute_class_weight('balanced',np.unique(y_train), y_train)\n",
        "cls_wt"
      ],
      "execution_count": 20,
      "outputs": [
        {
          "output_type": "execute_result",
          "data": {
            "text/plain": [
              "array([0.7329699, 1.5731   ])"
            ]
          },
          "metadata": {
            "tags": []
          },
          "execution_count": 20
        }
      ]
    },
    {
      "cell_type": "markdown",
      "metadata": {
        "id": "p63NvQinZADh"
      },
      "source": [
        "### Model"
      ]
    },
    {
      "cell_type": "code",
      "metadata": {
        "colab": {
          "base_uri": "https://localhost:8080/"
        },
        "id": "Yqxa4xtLZADh",
        "outputId": "292a8f2a-39de-4105-fcc0-3480dbebc67b"
      },
      "source": [
        "history = History()\n",
        "\n",
        "model = Sequential()\n",
        "model.add(SimpleRNN(16, input_shape=(sequence_length, nb_features),\n",
        "                    activation = 'relu'))\n",
        "model.add(Dense(8, activation = 'relu'))\n",
        "model.add(Dense(1, activation='sigmoid'))\n",
        "\n",
        "model.compile(loss=\"binary_crossentropy\", optimizer=\"adam\", metrics=['accuracy'])\n",
        "\n",
        "model.summary()"
      ],
      "execution_count": 21,
      "outputs": [
        {
          "output_type": "stream",
          "text": [
            "Model: \"sequential\"\n",
            "_________________________________________________________________\n",
            "Layer (type)                 Output Shape              Param #   \n",
            "=================================================================\n",
            "simple_rnn (SimpleRNN)       (None, 16)                512       \n",
            "_________________________________________________________________\n",
            "dense (Dense)                (None, 8)                 136       \n",
            "_________________________________________________________________\n",
            "dense_1 (Dense)              (None, 1)                 9         \n",
            "=================================================================\n",
            "Total params: 657\n",
            "Trainable params: 657\n",
            "Non-trainable params: 0\n",
            "_________________________________________________________________\n"
          ],
          "name": "stdout"
        }
      ]
    },
    {
      "cell_type": "code",
      "metadata": {
        "colab": {
          "base_uri": "https://localhost:8080/",
          "height": 34
        },
        "id": "EkpWhSxxb7OC",
        "outputId": "0f251001-33e6-4521-ae9e-363627929259"
      },
      "source": [
        "# type(cls_wt)\r\n",
        "cls_wt_list = cls_wt.tolist()\r\n",
        "# display(cls_wt_list)\r\n",
        "cls_wt_dict = dict(enumerate(cls_wt_list))\r\n",
        "display(cls_wt_dict)"
      ],
      "execution_count": 23,
      "outputs": [
        {
          "output_type": "display_data",
          "data": {
            "text/plain": [
              "{0: 0.7329699002888826, 1: 1.5731}"
            ]
          },
          "metadata": {
            "tags": []
          }
        }
      ]
    },
    {
      "cell_type": "code",
      "metadata": {
        "scrolled": true,
        "colab": {
          "base_uri": "https://localhost:8080/"
        },
        "id": "uz3zSKmZZADi",
        "outputId": "3a71e133-eddb-4a35-beca-83cc0f9dc8bd"
      },
      "source": [
        "%%time\n",
        "# fit the model\n",
        "model.fit(x_train, y_train, epochs=100, batch_size=64, validation_split=0.2, verbose=1, class_weight = cls_wt_dict,\n",
        "          callbacks = [history,\n",
        "                      keras.callbacks.EarlyStopping(monitor='val_loss', min_delta=0, patience=5, verbose=0, mode='auto')])"
      ],
      "execution_count": 24,
      "outputs": [
        {
          "output_type": "stream",
          "text": [
            "Epoch 1/100\n",
            "197/197 [==============================] - 3s 11ms/step - loss: 0.5418 - accuracy: 0.7861 - val_loss: 0.2883 - val_accuracy: 0.8665\n",
            "Epoch 2/100\n",
            "197/197 [==============================] - 2s 9ms/step - loss: 0.2364 - accuracy: 0.9018 - val_loss: 0.2347 - val_accuracy: 0.8999\n",
            "Epoch 3/100\n",
            "197/197 [==============================] - 2s 9ms/step - loss: 0.2202 - accuracy: 0.9087 - val_loss: 0.2335 - val_accuracy: 0.8986\n",
            "Epoch 4/100\n",
            "197/197 [==============================] - 2s 9ms/step - loss: 0.2093 - accuracy: 0.9139 - val_loss: 0.2521 - val_accuracy: 0.8808\n",
            "Epoch 5/100\n",
            "197/197 [==============================] - 2s 9ms/step - loss: 0.1994 - accuracy: 0.9149 - val_loss: 0.2048 - val_accuracy: 0.9120\n",
            "Epoch 6/100\n",
            "197/197 [==============================] - 2s 9ms/step - loss: 0.1783 - accuracy: 0.9223 - val_loss: 0.1842 - val_accuracy: 0.9148\n",
            "Epoch 7/100\n",
            "197/197 [==============================] - 2s 9ms/step - loss: 0.1339 - accuracy: 0.9387 - val_loss: 0.1588 - val_accuracy: 0.9326\n",
            "Epoch 8/100\n",
            "197/197 [==============================] - 2s 9ms/step - loss: 0.1338 - accuracy: 0.9410 - val_loss: 0.1548 - val_accuracy: 0.9339\n",
            "Epoch 9/100\n",
            "197/197 [==============================] - 2s 10ms/step - loss: 0.1281 - accuracy: 0.9437 - val_loss: 0.1264 - val_accuracy: 0.9482\n",
            "Epoch 10/100\n",
            "197/197 [==============================] - 3s 15ms/step - loss: 0.1217 - accuracy: 0.9467 - val_loss: 0.1188 - val_accuracy: 0.9498\n",
            "Epoch 11/100\n",
            "197/197 [==============================] - 3s 15ms/step - loss: 0.1075 - accuracy: 0.9529 - val_loss: 0.1222 - val_accuracy: 0.9488\n",
            "Epoch 12/100\n",
            "197/197 [==============================] - 3s 15ms/step - loss: 0.1060 - accuracy: 0.9539 - val_loss: 0.1581 - val_accuracy: 0.9336\n",
            "Epoch 13/100\n",
            "197/197 [==============================] - 3s 15ms/step - loss: 0.0967 - accuracy: 0.9596 - val_loss: 0.1220 - val_accuracy: 0.9473\n",
            "Epoch 14/100\n",
            "197/197 [==============================] - 2s 10ms/step - loss: 0.1004 - accuracy: 0.9595 - val_loss: 0.1710 - val_accuracy: 0.9218\n",
            "Epoch 15/100\n",
            "197/197 [==============================] - 2s 9ms/step - loss: 0.0991 - accuracy: 0.9599 - val_loss: 0.1479 - val_accuracy: 0.9415\n",
            "CPU times: user 40.7 s, sys: 2.25 s, total: 42.9 s\n",
            "Wall time: 33.4 s\n"
          ],
          "name": "stdout"
        },
        {
          "output_type": "execute_result",
          "data": {
            "text/plain": [
              "<tensorflow.python.keras.callbacks.History at 0x7fcd21ccda50>"
            ]
          },
          "metadata": {
            "tags": []
          },
          "execution_count": 24
        }
      ]
    },
    {
      "cell_type": "code",
      "metadata": {
        "colab": {
          "base_uri": "https://localhost:8080/"
        },
        "id": "oyeLfSiRaZ54",
        "outputId": "48c23e20-c2ed-4433-dc2b-60780510411e"
      },
      "source": [
        "history.history.keys()"
      ],
      "execution_count": 25,
      "outputs": [
        {
          "output_type": "execute_result",
          "data": {
            "text/plain": [
              "dict_keys(['loss', 'accuracy', 'val_loss', 'val_accuracy'])"
            ]
          },
          "metadata": {
            "tags": []
          },
          "execution_count": 25
        }
      ]
    },
    {
      "cell_type": "code",
      "metadata": {
        "colab": {
          "base_uri": "https://localhost:8080/",
          "height": 312
        },
        "id": "jpSER35DZADj",
        "outputId": "b0198b39-8d5b-4668-facc-25a6421e1b46"
      },
      "source": [
        "fig, ax = plt.subplots(nrows = 1, ncols = 2, figsize = (10, 4))\n",
        "\n",
        "# Accuracy\n",
        "ax[0].plot(history.history['accuracy'])\n",
        "ax[0].plot(history.history['val_accuracy'])\n",
        "ax[0].set_ylabel('Accuracy')\n",
        "ax[0].set_xlabel('# Epoch')\n",
        "ax[0].legend(['train', 'validation'], loc='upper left')\n",
        "ax[0].set_title('Accuracy')\n",
        "\n",
        "# Loss\n",
        "ax[1].plot(history.history['loss'])\n",
        "ax[1].plot(history.history['val_loss'])\n",
        "ax[1].set_ylabel('Loss')\n",
        "ax[1].set_xlabel('# Epoch')\n",
        "ax[1].legend(['train', 'validation'], loc='upper left')\n",
        "ax[1].set_title('Loss')"
      ],
      "execution_count": 26,
      "outputs": [
        {
          "output_type": "execute_result",
          "data": {
            "text/plain": [
              "Text(0.5, 1.0, 'Loss')"
            ]
          },
          "metadata": {
            "tags": []
          },
          "execution_count": 26
        },
        {
          "output_type": "display_data",
          "data": {
            "image/png": "[encoded data removed]",
            "text/plain": [
              "<Figure size 720x288 with 2 Axes>"
            ]
          },
          "metadata": {
            "tags": [],
            "needs_background": "light"
          }
        }
      ]
    },
    {
      "cell_type": "code",
      "metadata": {
        "colab": {
          "base_uri": "https://localhost:8080/",
          "height": 609
        },
        "id": "dgWGD2DYZAD8",
        "outputId": "0a34b539-99f6-4f9d-e9af-24b55d6378ce"
      },
      "source": [
        "y_pred = model.predict_classes(x_test)\n",
        "\n",
        "print_results(y_true.failure_lbl_1, y_pred)"
      ],
      "execution_count": 27,
      "outputs": [
        {
          "output_type": "stream",
          "text": [
            "/usr/local/lib/python3.7/dist-packages/tensorflow/python/keras/engine/sequential.py:450: UserWarning: `model.predict_classes()` is deprecated and will be removed after 2021-01-01. Please use instead:* `np.argmax(model.predict(x), axis=-1)`,   if your model does multi-class classification   (e.g. if it uses a `softmax` last-layer activation).* `(model.predict(x) > 0.5).astype(\"int32\")`,   if your model does binary classification   (e.g. if it uses a `sigmoid` last-layer activation).\n",
            "  warnings.warn('`model.predict_classes()` is deprecated and '\n"
          ],
          "name": "stderr"
        },
        {
          "output_type": "stream",
          "text": [
            "F1 Score:  0.9523809523809523\n",
            "              precision    recall  f1-score   support\n",
            "\n",
            "           0       1.00      0.96      0.98        70\n",
            "           1       0.91      1.00      0.95        30\n",
            "\n",
            "    accuracy                           0.97       100\n",
            "   macro avg       0.95      0.98      0.97       100\n",
            "weighted avg       0.97      0.97      0.97       100\n",
            "\n",
            "Area under curve :  0.9785714285714286 \n",
            "\n"
          ],
          "name": "stdout"
        },
        {
          "output_type": "display_data",
          "data": {
            "image/png": "[encoded data removed]",
            "text/plain": [
              "<Figure size 864x864 with 3 Axes>"
            ]
          },
          "metadata": {
            "tags": [],
            "needs_background": "light"
          }
        }
      ]
    },
    {
      "cell_type": "code",
      "metadata": {
        "colab": {
          "base_uri": "https://localhost:8080/"
        },
        "id": "L3O7_frqZAD9",
        "outputId": "03a05aec-6e9e-4cec-93cb-16d872ba7c90"
      },
      "source": [
        "confusion_matrix(y_train, model.predict_classes(x_train))"
      ],
      "execution_count": 28,
      "outputs": [
        {
          "output_type": "stream",
          "text": [
            "/usr/local/lib/python3.7/dist-packages/tensorflow/python/keras/engine/sequential.py:450: UserWarning: `model.predict_classes()` is deprecated and will be removed after 2021-01-01. Please use instead:* `np.argmax(model.predict(x), axis=-1)`,   if your model does multi-class classification   (e.g. if it uses a `softmax` last-layer activation).* `(model.predict(x) > 0.5).astype(\"int32\")`,   if your model does binary classification   (e.g. if it uses a `sigmoid` last-layer activation).\n",
            "  warnings.warn('`model.predict_classes()` is deprecated and '\n"
          ],
          "name": "stderr"
        },
        {
          "output_type": "execute_result",
          "data": {
            "text/plain": [
              "array([[10354,   377],\n",
              "       [  260,  4740]])"
            ]
          },
          "metadata": {
            "tags": []
          },
          "execution_count": 28
        }
      ]
    },
    {
      "cell_type": "markdown",
      "metadata": {
        "id": "TrrkIraBZAD-"
      },
      "source": [
        "## Multiclass Classification"
      ]
    },
    {
      "cell_type": "code",
      "metadata": {
        "id": "oT-GdbXWZAD_"
      },
      "source": [
        "sequence_length = 50\n",
        "mask_value = 0\n",
        "label = \"failure_lbl_2\""
      ],
      "execution_count": 29,
      "outputs": []
    },
    {
      "cell_type": "markdown",
      "metadata": {
        "id": "3hhDas8zZAEB"
      },
      "source": [
        "\n",
        "Let's prepare data using above functions."
      ]
    },
    {
      "cell_type": "code",
      "metadata": {
        "colab": {
          "base_uri": "https://localhost:8080/"
        },
        "id": "rBPpI43XZAEC",
        "outputId": "d4d3dc83-a6f3-40fb-d43e-e4bfa841a81e"
      },
      "source": [
        "#generate train\n",
        "x_train=np.concatenate(list(list(gen_train(df_train[df_train['UnitNumber']==unit], sequence_length, feats)) for unit in df_train['UnitNumber'].unique()))\n",
        "print(x_train.shape)"
      ],
      "execution_count": 30,
      "outputs": [
        {
          "output_type": "stream",
          "text": [
            "(15731, 50, 15)\n"
          ],
          "name": "stdout"
        }
      ]
    },
    {
      "cell_type": "code",
      "metadata": {
        "scrolled": true,
        "colab": {
          "base_uri": "https://localhost:8080/"
        },
        "id": "06lbRJXIZAED",
        "outputId": "f661ac5b-dc74-4803-aa8d-d0bb42ffd12d"
      },
      "source": [
        "#generate target of train\n",
        "y_train = np.concatenate(list(list(gen_target(df_train[df_train['UnitNumber']==unit], sequence_length, label)) for unit in df_train['UnitNumber'].unique()))\n",
        "y_train.shape"
      ],
      "execution_count": 31,
      "outputs": [
        {
          "output_type": "execute_result",
          "data": {
            "text/plain": [
              "(15731,)"
            ]
          },
          "metadata": {
            "tags": []
          },
          "execution_count": 31
        }
      ]
    },
    {
      "cell_type": "code",
      "metadata": {
        "colab": {
          "base_uri": "https://localhost:8080/"
        },
        "id": "EJLzKjwjZAEE",
        "outputId": "dd7fc81d-e358-4863-bb8e-c4296def9ff7"
      },
      "source": [
        "y_train2 = to_categorical(y_train)\n",
        "y_train2"
      ],
      "execution_count": 32,
      "outputs": [
        {
          "output_type": "execute_result",
          "data": {
            "text/plain": [
              "array([[1., 0., 0.],\n",
              "       [1., 0., 0.],\n",
              "       [1., 0., 0.],\n",
              "       ...,\n",
              "       [0., 0., 1.],\n",
              "       [0., 0., 1.],\n",
              "       [0., 0., 1.]], dtype=float32)"
            ]
          },
          "metadata": {
            "tags": []
          },
          "execution_count": 32
        }
      ]
    },
    {
      "cell_type": "code",
      "metadata": {
        "colab": {
          "base_uri": "https://localhost:8080/"
        },
        "id": "QLBttoxoZAEF",
        "outputId": "2a3cc5cf-6cdc-443f-b0de-6cedaf24fcbc"
      },
      "source": [
        "#generate test\n",
        "x_test=np.concatenate(list(list(gen_test(df_test[df_test['UnitNumber']==unit], sequence_length, feats, mask_value)) for unit in df_test['UnitNumber'].unique()))\n",
        "print(x_test.shape)"
      ],
      "execution_count": 33,
      "outputs": [
        {
          "output_type": "stream",
          "text": [
            "(100, 50, 15)\n"
          ],
          "name": "stdout"
        }
      ]
    },
    {
      "cell_type": "code",
      "metadata": {
        "id": "fSqNKwgCZAEF"
      },
      "source": [
        "nb_features = x_train.shape[2]\n",
        "nb_out = 1"
      ],
      "execution_count": 34,
      "outputs": []
    },
    {
      "cell_type": "code",
      "metadata": {
        "colab": {
          "base_uri": "https://localhost:8080/"
        },
        "id": "AArhvO7FZAEG",
        "outputId": "84271596-d531-4283-a74c-41cffb3d55e5"
      },
      "source": [
        "nb_features"
      ],
      "execution_count": 35,
      "outputs": [
        {
          "output_type": "execute_result",
          "data": {
            "text/plain": [
              "15"
            ]
          },
          "metadata": {
            "tags": []
          },
          "execution_count": 35
        }
      ]
    },
    {
      "cell_type": "code",
      "metadata": {
        "scrolled": true,
        "colab": {
          "base_uri": "https://localhost:8080/"
        },
        "id": "3boPTNuaZAEH",
        "outputId": "60168148-0405-402f-ac9f-53447504ac7f"
      },
      "source": [
        "cls_wt= class_weight.compute_class_weight('balanced',np.unique(y_train), y_train)\n",
        "cls_wt"
      ],
      "execution_count": 36,
      "outputs": [
        {
          "output_type": "execute_result",
          "data": {
            "text/plain": [
              "array([0.4886466 , 2.09746667, 2.09746667])"
            ]
          },
          "metadata": {
            "tags": []
          },
          "execution_count": 36
        }
      ]
    },
    {
      "cell_type": "markdown",
      "metadata": {
        "id": "l-NbHe2qZAEI"
      },
      "source": [
        "### Model"
      ]
    },
    {
      "cell_type": "code",
      "metadata": {
        "colab": {
          "base_uri": "https://localhost:8080/"
        },
        "id": "sslJdrm-ZAEJ",
        "outputId": "68f8acbb-80c9-4402-e551-cb2febdacb33"
      },
      "source": [
        "history2 = History()\n",
        "\n",
        "model2 = Sequential()\n",
        "model2.add(SimpleRNN(16, input_shape=(sequence_length, nb_features),\n",
        "                    activation = 'relu'))\n",
        "model2.add(Dense(8, activation = 'relu'))\n",
        "model2.add(Dense(units=3, activation='softmax'))\n",
        "\n",
        "model2.compile(loss=\"categorical_crossentropy\", optimizer=\"adam\", metrics=['accuracy'])\n",
        "\n",
        "model2.summary()"
      ],
      "execution_count": 37,
      "outputs": [
        {
          "output_type": "stream",
          "text": [
            "Model: \"sequential_1\"\n",
            "_________________________________________________________________\n",
            "Layer (type)                 Output Shape              Param #   \n",
            "=================================================================\n",
            "simple_rnn_1 (SimpleRNN)     (None, 16)                512       \n",
            "_________________________________________________________________\n",
            "dense_2 (Dense)              (None, 8)                 136       \n",
            "_________________________________________________________________\n",
            "dense_3 (Dense)              (None, 3)                 27        \n",
            "=================================================================\n",
            "Total params: 675\n",
            "Trainable params: 675\n",
            "Non-trainable params: 0\n",
            "_________________________________________________________________\n"
          ],
          "name": "stdout"
        }
      ]
    },
    {
      "cell_type": "code",
      "metadata": {
        "colab": {
          "base_uri": "https://localhost:8080/",
          "height": 34
        },
        "id": "bgn8noRpcnkg",
        "outputId": "5de94698-af77-4a65-f381-2b9172685161"
      },
      "source": [
        "# type(cls_wt)\r\n",
        "cls_wt_list = cls_wt.tolist()\r\n",
        "# display(cls_wt_list)\r\n",
        "cls_wt_dict = dict(enumerate(cls_wt_list))\r\n",
        "display(cls_wt_dict)"
      ],
      "execution_count": 39,
      "outputs": [
        {
          "output_type": "display_data",
          "data": {
            "text/plain": [
              "{0: 0.48864660019258843, 1: 2.0974666666666666, 2: 2.0974666666666666}"
            ]
          },
          "metadata": {
            "tags": []
          }
        }
      ]
    },
    {
      "cell_type": "code",
      "metadata": {
        "scrolled": true,
        "colab": {
          "base_uri": "https://localhost:8080/"
        },
        "id": "YxE96DVWZAEK",
        "outputId": "c127374e-c61f-4228-9e8d-35964e6a83da"
      },
      "source": [
        "%%time\n",
        "# fit the model\n",
        "model2.fit(x_train, y_train2, epochs=10, batch_size=64, validation_split=0.2, verbose=1, class_weight = cls_wt_dict,\n",
        "          callbacks = [history2,\n",
        "                      keras.callbacks.EarlyStopping(monitor='val_loss', min_delta=0, patience=3, verbose=0, mode='auto')])"
      ],
      "execution_count": 41,
      "outputs": [
        {
          "output_type": "stream",
          "text": [
            "Epoch 1/10\n",
            "197/197 [==============================] - 3s 10ms/step - loss: 0.9204 - accuracy: 0.4874 - val_loss: 0.4890 - val_accuracy: 0.7547\n",
            "Epoch 2/10\n",
            "197/197 [==============================] - 2s 9ms/step - loss: 0.4561 - accuracy: 0.7937 - val_loss: 0.3865 - val_accuracy: 0.8201\n",
            "Epoch 3/10\n",
            "197/197 [==============================] - 2s 9ms/step - loss: 0.3594 - accuracy: 0.8473 - val_loss: 0.2954 - val_accuracy: 0.8767\n",
            "Epoch 4/10\n",
            "197/197 [==============================] - 2s 9ms/step - loss: 0.3098 - accuracy: 0.8746 - val_loss: 0.3158 - val_accuracy: 0.8554\n",
            "Epoch 5/10\n",
            "197/197 [==============================] - 2s 9ms/step - loss: 0.2708 - accuracy: 0.8979 - val_loss: 0.2731 - val_accuracy: 0.8815\n",
            "Epoch 6/10\n",
            "197/197 [==============================] - 2s 9ms/step - loss: 0.2537 - accuracy: 0.9022 - val_loss: 0.3002 - val_accuracy: 0.8650\n",
            "Epoch 7/10\n",
            "197/197 [==============================] - 2s 9ms/step - loss: 0.2691 - accuracy: 0.8963 - val_loss: 0.3036 - val_accuracy: 0.8678\n",
            "Epoch 8/10\n",
            "197/197 [==============================] - 2s 9ms/step - loss: 0.2237 - accuracy: 0.9095 - val_loss: 0.2662 - val_accuracy: 0.8850\n",
            "Epoch 9/10\n",
            "197/197 [==============================] - 2s 9ms/step - loss: 0.2359 - accuracy: 0.9043 - val_loss: 0.2186 - val_accuracy: 0.9009\n",
            "Epoch 10/10\n",
            "197/197 [==============================] - 2s 9ms/step - loss: 0.2459 - accuracy: 0.9053 - val_loss: 0.2535 - val_accuracy: 0.8840\n",
            "CPU times: user 28 s, sys: 1.93 s, total: 30 s\n",
            "Wall time: 19.3 s\n"
          ],
          "name": "stdout"
        },
        {
          "output_type": "execute_result",
          "data": {
            "text/plain": [
              "<tensorflow.python.keras.callbacks.History at 0x7fcd22560350>"
            ]
          },
          "metadata": {
            "tags": []
          },
          "execution_count": 41
        }
      ]
    },
    {
      "cell_type": "code",
      "metadata": {
        "colab": {
          "base_uri": "https://localhost:8080/",
          "height": 312
        },
        "id": "j7CBwW8HZAEL",
        "outputId": "3b5cb424-350c-41df-879a-e9b484f8c38a"
      },
      "source": [
        "fig, ax = plt.subplots(nrows = 1, ncols = 2, figsize = (10, 4))\n",
        "\n",
        "# Accuracy\n",
        "ax[0].plot(history2.history['accuracy'])\n",
        "ax[0].plot(history2.history['val_accuracy'])\n",
        "ax[0].set_ylabel('Accuracy')\n",
        "ax[0].set_xlabel('# Epoch')\n",
        "ax[0].legend(['train', 'validation'], loc='upper left')\n",
        "ax[0].set_title('Accuracy')\n",
        "\n",
        "# Loss\n",
        "ax[1].plot(history2.history['loss'])\n",
        "ax[1].plot(history2.history['val_loss'])\n",
        "ax[1].set_ylabel('Loss')\n",
        "ax[1].set_xlabel('# Epoch')\n",
        "ax[1].legend(['train', 'validation'], loc='upper left')\n",
        "ax[1].set_title('Loss')"
      ],
      "execution_count": 42,
      "outputs": [
        {
          "output_type": "execute_result",
          "data": {
            "text/plain": [
              "Text(0.5, 1.0, 'Loss')"
            ]
          },
          "metadata": {
            "tags": []
          },
          "execution_count": 42
        },
        {
          "output_type": "display_data",
          "data": {
            "image/png": "[encoded data removed]",
            "text/plain": [
              "<Figure size 720x288 with 2 Axes>"
            ]
          },
          "metadata": {
            "tags": [],
            "needs_background": "light"
          }
        }
      ]
    },
    {
      "cell_type": "code",
      "metadata": {
        "colab": {
          "base_uri": "https://localhost:8080/",
          "height": 615
        },
        "id": "Gp-VIDnLZAEM",
        "outputId": "23ee02ba-893e-48eb-ea71-a7b409ae07b1"
      },
      "source": [
        "y_pred = model2.predict_classes(x_test)\n",
        "\n",
        "print_results(y_true.failure_lbl_2, y_pred, multi_class=True)"
      ],
      "execution_count": 43,
      "outputs": [
        {
          "output_type": "stream",
          "text": [
            "/usr/local/lib/python3.7/dist-packages/tensorflow/python/keras/engine/sequential.py:450: UserWarning: `model.predict_classes()` is deprecated and will be removed after 2021-01-01. Please use instead:* `np.argmax(model.predict(x), axis=-1)`,   if your model does multi-class classification   (e.g. if it uses a `softmax` last-layer activation).* `(model.predict(x) > 0.5).astype(\"int32\")`,   if your model does binary classification   (e.g. if it uses a `sigmoid` last-layer activation).\n",
            "  warnings.warn('`model.predict_classes()` is deprecated and '\n"
          ],
          "name": "stderr"
        },
        {
          "output_type": "stream",
          "text": [
            "F1 Score:  0.8160188160188161\n",
            "              precision    recall  f1-score   support\n",
            "\n",
            "           0       1.00      0.86      0.92        70\n",
            "           1       0.45      0.91      0.61        11\n",
            "           2       0.94      0.89      0.92        19\n",
            "\n",
            "    accuracy                           0.87       100\n",
            "   macro avg       0.80      0.89      0.82       100\n",
            "weighted avg       0.93      0.87      0.89       100\n",
            "\n"
          ],
          "name": "stdout"
        },
        {
          "output_type": "display_data",
          "data": {
            "image/png": "[encoded data removed]",
            "text/plain": [
              "<Figure size 864x864 with 2 Axes>"
            ]
          },
          "metadata": {
            "tags": [],
            "needs_background": "light"
          }
        }
      ]
    },
    {
      "cell_type": "code",
      "metadata": {
        "colab": {
          "base_uri": "https://localhost:8080/"
        },
        "id": "_n4LvtviZAEN",
        "outputId": "c806bb3a-9f48-4caa-8e33-6f08b73d295b"
      },
      "source": [
        "confusion_matrix(y_train, model2.predict_classes(x_train))"
      ],
      "execution_count": 44,
      "outputs": [
        {
          "output_type": "stream",
          "text": [
            "/usr/local/lib/python3.7/dist-packages/tensorflow/python/keras/engine/sequential.py:450: UserWarning: `model.predict_classes()` is deprecated and will be removed after 2021-01-01. Please use instead:* `np.argmax(model.predict(x), axis=-1)`,   if your model does multi-class classification   (e.g. if it uses a `softmax` last-layer activation).* `(model.predict(x) > 0.5).astype(\"int32\")`,   if your model does binary classification   (e.g. if it uses a `sigmoid` last-layer activation).\n",
            "  warnings.warn('`model.predict_classes()` is deprecated and '\n"
          ],
          "name": "stderr"
        },
        {
          "output_type": "execute_result",
          "data": {
            "text/plain": [
              "array([[9669, 1062,    0],\n",
              "       [  99, 2210,  191],\n",
              "       [   0,  125, 2375]])"
            ]
          },
          "metadata": {
            "tags": []
          },
          "execution_count": 44
        }
      ]
    },
    {
      "cell_type": "code",
      "metadata": {
        "id": "clhrKOrnZAEN"
      },
      "source": [
        ""
      ],
      "execution_count": null,
      "outputs": []
    }
  ]
}