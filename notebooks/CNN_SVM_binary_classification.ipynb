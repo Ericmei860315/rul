{
  "nbformat": 4,
  "nbformat_minor": 0,
  "metadata": {
    "kernelspec": {
      "display_name": "Python 3",
      "language": "python",
      "name": "python3"
    },
    "language_info": {
      "codemirror_mode": {
        "name": "ipython",
        "version": 3
      },
      "file_extension": ".py",
      "mimetype": "text/x-python",
      "name": "python",
      "nbconvert_exporter": "python",
      "pygments_lexer": "ipython3",
      "version": "3.7.3"
    },
    "colab": {
      "name": "CNN-SVM binary classification.ipynb",
      "provenance": []
    },
    "accelerator": "GPU"
  },
  "cells": [
    {
      "cell_type": "markdown",
      "metadata": {
        "id": "D-YumBwwr6M1"
      },
      "source": [
        "## CNN-SVM"
      ]
    },
    {
      "cell_type": "markdown",
      "metadata": {
        "id": "UqGfQXWHr6NF"
      },
      "source": [
        "CNN is very good for feature extraction but not very good for classification. SVM is the state of the art algorithm for binary classification. Combining both of them achieves best of both worlds.  "
      ]
    },
    {
      "cell_type": "markdown",
      "metadata": {
        "id": "l9Xhea7vr6NG"
      },
      "source": [
        "There are two ways of implementing CNN-SVM.\n",
        "\n",
        "(1) The hinge loss with regularization term forms the complete SVM loss function which gives CNN_SVM implementation.\n",
        "\n",
        "(2) Train the CNN model as usual and build SVM model using the output of second last layer of CNN model as an input. "
      ]
    },
    {
      "cell_type": "markdown",
      "metadata": {
        "id": "EPgoewQ4r6NH"
      },
      "source": [
        "### Importing Required Libraries and Data"
      ]
    },
    {
      "cell_type": "code",
      "metadata": {
        "id": "gPIb0QVCr6NI"
      },
      "source": [
        "import pandas as pd\n",
        "import numpy as np\n",
        "\n",
        "#to plot the data\n",
        "import matplotlib.pyplot as plt\n",
        "import seaborn as sns\n",
        "%matplotlib inline\n",
        "import matplotlib as mpl\n",
        "mpl.rcParams.update(mpl.rcParamsDefault)\n",
        "\n",
        "import time\n",
        "import os\n",
        "# os.chdir(\"C:/Data/aircraft/\")\n",
        "\n",
        "from sklearn.preprocessing import MinMaxScaler #to normalize data\n",
        "from sklearn.metrics import classification_report, confusion_matrix, roc_curve\n",
        "from sklearn.metrics import f1_score, roc_auc_score, accuracy_score, precision_score, recall_score\n",
        "from sklearn.svm import SVC\n",
        "\n",
        "#for deep learning\n",
        "import keras\n",
        "import keras.backend as k\n",
        "from keras.models import Sequential, Model\n",
        "from keras.layers import Dense, LSTM, Activation, Masking, Dropout, Conv1D, GlobalAveragePooling1D, MaxPooling1D\n",
        "from keras.optimizers import RMSprop, Adam\n",
        "from keras.regularizers import l2\n",
        "from keras.callbacks import History\n",
        "from keras import callbacks"
      ],
      "execution_count": 1,
      "outputs": []
    },
    {
      "cell_type": "code",
      "metadata": {
        "id": "t4cJuDB3r6NK"
      },
      "source": [
        "def prepare_data(drop_cols = True):\n",
        "    dependent_var = ['RUL']\n",
        "    index_columns_names =  [\"UnitNumber\",\"Cycle\"]\n",
        "    operational_settings_columns_names = [\"OpSet\"+str(i) for i in range(1,4)]\n",
        "    sensor_measure_columns_names =[\"SensorMeasure\"+str(i) for i in range(1,22)]\n",
        "    input_file_column_names = index_columns_names + operational_settings_columns_names + sensor_measure_columns_names\n",
        "\n",
        "    cols_to_drop = ['OpSet3', 'SensorMeasure1', 'SensorMeasure5', 'SensorMeasure6', 'SensorMeasure10', 'SensorMeasure14',\n",
        "     'SensorMeasure16', 'SensorMeasure18', 'SensorMeasure19']\n",
        "\n",
        "    df_train = pd.read_csv('https://raw.githubusercontent.com/ericlrf/rul/main/CMAPSSData/train_FD001.txt',delim_whitespace=True,names=input_file_column_names)\n",
        "\n",
        "    rul = pd.DataFrame(df_train.groupby('UnitNumber')['Cycle'].max()).reset_index()\n",
        "    rul.columns = ['UnitNumber', 'max']\n",
        "    df_train = df_train.merge(rul, on=['UnitNumber'], how='left')\n",
        "    df_train['RUL'] = df_train['max'] - df_train['Cycle']\n",
        "    df_train.drop('max', axis=1, inplace=True)\n",
        "\n",
        "    df_test = pd.read_csv('https://raw.githubusercontent.com/ericlrf/rul/main/CMAPSSData/test_FD001.txt', delim_whitespace=True, names=input_file_column_names)\n",
        "    \n",
        "    if(drop_cols == True):\n",
        "        df_train = df_train.drop(cols_to_drop, axis = 1)\n",
        "        df_test = df_test.drop(cols_to_drop, axis = 1)\n",
        "\n",
        "    y_true = pd.read_csv('https://raw.githubusercontent.com/ericlrf/rul/main/CMAPSSData/RUL_FD001.txt', delim_whitespace=True,names=[\"RUL\"])\n",
        "    y_true[\"UnitNumber\"] = y_true.index + 1\n",
        "    \n",
        "    return df_train, df_test, y_true"
      ],
      "execution_count": 2,
      "outputs": []
    },
    {
      "cell_type": "code",
      "metadata": {
        "colab": {
          "base_uri": "https://localhost:8080/"
        },
        "id": "DERrlSJhr6NM",
        "outputId": "0af7ed1e-b103-4904-895d-bfc5fdffd383"
      },
      "source": [
        "df_train, df_test, y_true = prepare_data(drop_cols=True)\n",
        "df_train.shape, df_test.shape, y_true.shape"
      ],
      "execution_count": 3,
      "outputs": [
        {
          "output_type": "execute_result",
          "data": {
            "text/plain": [
              "((20631, 18), (13096, 17), (100, 2))"
            ]
          },
          "metadata": {
            "tags": []
          },
          "execution_count": 3
        }
      ]
    },
    {
      "cell_type": "code",
      "metadata": {
        "id": "hyNn76T3r6NP"
      },
      "source": [
        "feats = df_train.columns.drop(['UnitNumber', 'Cycle', 'RUL'])"
      ],
      "execution_count": 4,
      "outputs": []
    },
    {
      "cell_type": "code",
      "metadata": {
        "id": "7wV7YO9lr6NQ"
      },
      "source": [
        "min_max_scaler = MinMaxScaler(feature_range=(-1,1))\n",
        "\n",
        "df_train[feats] = min_max_scaler.fit_transform(df_train[feats])\n",
        "df_test[feats] = min_max_scaler.transform(df_test[feats])"
      ],
      "execution_count": 5,
      "outputs": []
    },
    {
      "cell_type": "code",
      "metadata": {
        "id": "lNGfxWTYr6NT"
      },
      "source": [
        "df_train['failure'] = [1 if i < 50 else 0 for i in df_train.RUL]\n",
        "y_true['failure'] = [1 if i < 50 else 0 for i in y_true.RUL]"
      ],
      "execution_count": 6,
      "outputs": []
    },
    {
      "cell_type": "code",
      "metadata": {
        "scrolled": true,
        "colab": {
          "base_uri": "https://localhost:8080/",
          "height": 224
        },
        "id": "j-V7Zquor6NU",
        "outputId": "73d2e70f-e293-4efb-f298-aa1b59950f44"
      },
      "source": [
        "df_train.head()"
      ],
      "execution_count": 7,
      "outputs": [
        {
          "output_type": "execute_result",
          "data": {
            "text/html": [
              "<div>\n",
              "<style scoped>\n",
              "    .dataframe tbody tr th:only-of-type {\n",
              "        vertical-align: middle;\n",
              "    }\n",
              "\n",
              "    .dataframe tbody tr th {\n",
              "        vertical-align: top;\n",
              "    }\n",
              "\n",
              "    .dataframe thead th {\n",
              "        text-align: right;\n",
              "    }\n",
              "</style>\n",
              "<table border=\"1\" class=\"dataframe\">\n",
              "  <thead>\n",
              "    <tr style=\"text-align: right;\">\n",
              "      <th></th>\n",
              "      <th>UnitNumber</th>\n",
              "      <th>Cycle</th>\n",
              "      <th>OpSet1</th>\n",
              "      <th>OpSet2</th>\n",
              "      <th>SensorMeasure2</th>\n",
              "      <th>SensorMeasure3</th>\n",
              "      <th>SensorMeasure4</th>\n",
              "      <th>SensorMeasure7</th>\n",
              "      <th>SensorMeasure8</th>\n",
              "      <th>SensorMeasure9</th>\n",
              "      <th>SensorMeasure11</th>\n",
              "      <th>SensorMeasure12</th>\n",
              "      <th>SensorMeasure13</th>\n",
              "      <th>SensorMeasure15</th>\n",
              "      <th>SensorMeasure17</th>\n",
              "      <th>SensorMeasure20</th>\n",
              "      <th>SensorMeasure21</th>\n",
              "      <th>RUL</th>\n",
              "      <th>failure</th>\n",
              "    </tr>\n",
              "  </thead>\n",
              "  <tbody>\n",
              "    <tr>\n",
              "      <th>0</th>\n",
              "      <td>1</td>\n",
              "      <td>1</td>\n",
              "      <td>-0.080460</td>\n",
              "      <td>-0.666667</td>\n",
              "      <td>-0.632530</td>\n",
              "      <td>-0.186396</td>\n",
              "      <td>-0.380486</td>\n",
              "      <td>0.452496</td>\n",
              "      <td>-0.515152</td>\n",
              "      <td>-0.780490</td>\n",
              "      <td>-0.261905</td>\n",
              "      <td>0.266525</td>\n",
              "      <td>-0.588235</td>\n",
              "      <td>-0.272028</td>\n",
              "      <td>-0.333333</td>\n",
              "      <td>0.426357</td>\n",
              "      <td>0.449323</td>\n",
              "      <td>191</td>\n",
              "      <td>0</td>\n",
              "    </tr>\n",
              "    <tr>\n",
              "      <th>1</th>\n",
              "      <td>1</td>\n",
              "      <td>2</td>\n",
              "      <td>0.218391</td>\n",
              "      <td>-0.500000</td>\n",
              "      <td>-0.433735</td>\n",
              "      <td>-0.093961</td>\n",
              "      <td>-0.294733</td>\n",
              "      <td>0.256039</td>\n",
              "      <td>-0.575758</td>\n",
              "      <td>-0.799515</td>\n",
              "      <td>-0.238095</td>\n",
              "      <td>0.530917</td>\n",
              "      <td>-0.441176</td>\n",
              "      <td>-0.177376</td>\n",
              "      <td>-0.333333</td>\n",
              "      <td>0.333333</td>\n",
              "      <td>0.462027</td>\n",
              "      <td>190</td>\n",
              "      <td>0</td>\n",
              "    </tr>\n",
              "    <tr>\n",
              "      <th>2</th>\n",
              "      <td>1</td>\n",
              "      <td>3</td>\n",
              "      <td>-0.494253</td>\n",
              "      <td>0.500000</td>\n",
              "      <td>-0.313253</td>\n",
              "      <td>-0.260955</td>\n",
              "      <td>-0.258947</td>\n",
              "      <td>0.420290</td>\n",
              "      <td>-0.454545</td>\n",
              "      <td>-0.719914</td>\n",
              "      <td>-0.500000</td>\n",
              "      <td>0.590618</td>\n",
              "      <td>-0.558824</td>\n",
              "      <td>-0.285110</td>\n",
              "      <td>-0.666667</td>\n",
              "      <td>0.255814</td>\n",
              "      <td>0.242751</td>\n",
              "      <td>189</td>\n",
              "      <td>0</td>\n",
              "    </tr>\n",
              "    <tr>\n",
              "      <th>3</th>\n",
              "      <td>1</td>\n",
              "      <td>4</td>\n",
              "      <td>0.080460</td>\n",
              "      <td>0.000000</td>\n",
              "      <td>-0.313253</td>\n",
              "      <td>-0.487683</td>\n",
              "      <td>-0.337610</td>\n",
              "      <td>0.481481</td>\n",
              "      <td>-0.363636</td>\n",
              "      <td>-0.750965</td>\n",
              "      <td>-0.666667</td>\n",
              "      <td>0.778252</td>\n",
              "      <td>-0.411765</td>\n",
              "      <td>-0.666795</td>\n",
              "      <td>-0.333333</td>\n",
              "      <td>0.147287</td>\n",
              "      <td>0.324772</td>\n",
              "      <td>188</td>\n",
              "      <td>0</td>\n",
              "    </tr>\n",
              "    <tr>\n",
              "      <th>4</th>\n",
              "      <td>1</td>\n",
              "      <td>5</td>\n",
              "      <td>-0.218391</td>\n",
              "      <td>-0.333333</td>\n",
              "      <td>-0.301205</td>\n",
              "      <td>-0.485066</td>\n",
              "      <td>-0.190749</td>\n",
              "      <td>0.336554</td>\n",
              "      <td>-0.515152</td>\n",
              "      <td>-0.700081</td>\n",
              "      <td>-0.488095</td>\n",
              "      <td>0.492537</td>\n",
              "      <td>-0.529412</td>\n",
              "      <td>-0.195845</td>\n",
              "      <td>-0.166667</td>\n",
              "      <td>0.178295</td>\n",
              "      <td>0.409003</td>\n",
              "      <td>187</td>\n",
              "      <td>0</td>\n",
              "    </tr>\n",
              "  </tbody>\n",
              "</table>\n",
              "</div>"
            ],
            "text/plain": [
              "   UnitNumber  Cycle    OpSet1  ...  SensorMeasure21  RUL  failure\n",
              "0           1      1 -0.080460  ...         0.449323  191        0\n",
              "1           1      2  0.218391  ...         0.462027  190        0\n",
              "2           1      3 -0.494253  ...         0.242751  189        0\n",
              "3           1      4  0.080460  ...         0.324772  188        0\n",
              "4           1      5 -0.218391  ...         0.409003  187        0\n",
              "\n",
              "[5 rows x 19 columns]"
            ]
          },
          "metadata": {
            "tags": []
          },
          "execution_count": 7
        }
      ]
    },
    {
      "cell_type": "code",
      "metadata": {
        "colab": {
          "base_uri": "https://localhost:8080/",
          "height": 224
        },
        "id": "bQsi6Dklr6NW",
        "outputId": "19b4e5f9-719d-445c-e3e2-7089b27e410c"
      },
      "source": [
        "df_test.head()"
      ],
      "execution_count": 8,
      "outputs": [
        {
          "output_type": "execute_result",
          "data": {
            "text/html": [
              "<div>\n",
              "<style scoped>\n",
              "    .dataframe tbody tr th:only-of-type {\n",
              "        vertical-align: middle;\n",
              "    }\n",
              "\n",
              "    .dataframe tbody tr th {\n",
              "        vertical-align: top;\n",
              "    }\n",
              "\n",
              "    .dataframe thead th {\n",
              "        text-align: right;\n",
              "    }\n",
              "</style>\n",
              "<table border=\"1\" class=\"dataframe\">\n",
              "  <thead>\n",
              "    <tr style=\"text-align: right;\">\n",
              "      <th></th>\n",
              "      <th>UnitNumber</th>\n",
              "      <th>Cycle</th>\n",
              "      <th>OpSet1</th>\n",
              "      <th>OpSet2</th>\n",
              "      <th>SensorMeasure2</th>\n",
              "      <th>SensorMeasure3</th>\n",
              "      <th>SensorMeasure4</th>\n",
              "      <th>SensorMeasure7</th>\n",
              "      <th>SensorMeasure8</th>\n",
              "      <th>SensorMeasure9</th>\n",
              "      <th>SensorMeasure11</th>\n",
              "      <th>SensorMeasure12</th>\n",
              "      <th>SensorMeasure13</th>\n",
              "      <th>SensorMeasure15</th>\n",
              "      <th>SensorMeasure17</th>\n",
              "      <th>SensorMeasure20</th>\n",
              "      <th>SensorMeasure21</th>\n",
              "    </tr>\n",
              "  </thead>\n",
              "  <tbody>\n",
              "    <tr>\n",
              "      <th>0</th>\n",
              "      <td>1</td>\n",
              "      <td>1</td>\n",
              "      <td>0.264368</td>\n",
              "      <td>0.500000</td>\n",
              "      <td>0.090361</td>\n",
              "      <td>-0.378679</td>\n",
              "      <td>-0.461175</td>\n",
              "      <td>0.304348</td>\n",
              "      <td>-0.575758</td>\n",
              "      <td>-0.744773</td>\n",
              "      <td>-0.583333</td>\n",
              "      <td>0.292111</td>\n",
              "      <td>-0.558824</td>\n",
              "      <td>-0.382070</td>\n",
              "      <td>-0.333333</td>\n",
              "      <td>0.116279</td>\n",
              "      <td>0.323667</td>\n",
              "    </tr>\n",
              "    <tr>\n",
              "      <th>1</th>\n",
              "      <td>1</td>\n",
              "      <td>2</td>\n",
              "      <td>-0.310345</td>\n",
              "      <td>-0.500000</td>\n",
              "      <td>-0.698795</td>\n",
              "      <td>-0.240898</td>\n",
              "      <td>-0.555368</td>\n",
              "      <td>0.610306</td>\n",
              "      <td>-0.666667</td>\n",
              "      <td>-0.706632</td>\n",
              "      <td>-0.226190</td>\n",
              "      <td>0.479744</td>\n",
              "      <td>-0.470588</td>\n",
              "      <td>-0.573682</td>\n",
              "      <td>-0.166667</td>\n",
              "      <td>0.364341</td>\n",
              "      <td>0.373654</td>\n",
              "    </tr>\n",
              "    <tr>\n",
              "      <th>2</th>\n",
              "      <td>1</td>\n",
              "      <td>3</td>\n",
              "      <td>0.034483</td>\n",
              "      <td>0.166667</td>\n",
              "      <td>-0.246988</td>\n",
              "      <td>-0.306736</td>\n",
              "      <td>-0.355503</td>\n",
              "      <td>0.371981</td>\n",
              "      <td>-0.545455</td>\n",
              "      <td>-0.683837</td>\n",
              "      <td>-0.226190</td>\n",
              "      <td>0.398721</td>\n",
              "      <td>-0.558824</td>\n",
              "      <td>-0.082724</td>\n",
              "      <td>-0.166667</td>\n",
              "      <td>0.457364</td>\n",
              "      <td>0.442695</td>\n",
              "    </tr>\n",
              "    <tr>\n",
              "      <th>3</th>\n",
              "      <td>1</td>\n",
              "      <td>4</td>\n",
              "      <td>0.482759</td>\n",
              "      <td>0.000000</td>\n",
              "      <td>-0.259036</td>\n",
              "      <td>-0.429693</td>\n",
              "      <td>-0.183997</td>\n",
              "      <td>0.359098</td>\n",
              "      <td>-0.606061</td>\n",
              "      <td>-0.788567</td>\n",
              "      <td>-0.488095</td>\n",
              "      <td>0.147122</td>\n",
              "      <td>-0.500000</td>\n",
              "      <td>-0.485956</td>\n",
              "      <td>-0.500000</td>\n",
              "      <td>0.333333</td>\n",
              "      <td>0.324220</td>\n",
              "    </tr>\n",
              "    <tr>\n",
              "      <th>4</th>\n",
              "      <td>1</td>\n",
              "      <td>5</td>\n",
              "      <td>0.160920</td>\n",
              "      <td>0.000000</td>\n",
              "      <td>-0.216867</td>\n",
              "      <td>-0.295836</td>\n",
              "      <td>-0.335922</td>\n",
              "      <td>0.388084</td>\n",
              "      <td>-0.666667</td>\n",
              "      <td>-0.795208</td>\n",
              "      <td>-0.452381</td>\n",
              "      <td>0.475480</td>\n",
              "      <td>-0.558824</td>\n",
              "      <td>-0.398230</td>\n",
              "      <td>-0.666667</td>\n",
              "      <td>0.317829</td>\n",
              "      <td>0.432753</td>\n",
              "    </tr>\n",
              "  </tbody>\n",
              "</table>\n",
              "</div>"
            ],
            "text/plain": [
              "   UnitNumber  Cycle  ...  SensorMeasure20  SensorMeasure21\n",
              "0           1      1  ...         0.116279         0.323667\n",
              "1           1      2  ...         0.364341         0.373654\n",
              "2           1      3  ...         0.457364         0.442695\n",
              "3           1      4  ...         0.333333         0.324220\n",
              "4           1      5  ...         0.317829         0.432753\n",
              "\n",
              "[5 rows x 17 columns]"
            ]
          },
          "metadata": {
            "tags": []
          },
          "execution_count": 8
        }
      ]
    },
    {
      "cell_type": "code",
      "metadata": {
        "colab": {
          "base_uri": "https://localhost:8080/",
          "height": 204
        },
        "id": "exTXCmswr6NW",
        "outputId": "3380245b-53dd-4f4d-c859-dd688627139c"
      },
      "source": [
        "y_true.head()"
      ],
      "execution_count": 9,
      "outputs": [
        {
          "output_type": "execute_result",
          "data": {
            "text/html": [
              "<div>\n",
              "<style scoped>\n",
              "    .dataframe tbody tr th:only-of-type {\n",
              "        vertical-align: middle;\n",
              "    }\n",
              "\n",
              "    .dataframe tbody tr th {\n",
              "        vertical-align: top;\n",
              "    }\n",
              "\n",
              "    .dataframe thead th {\n",
              "        text-align: right;\n",
              "    }\n",
              "</style>\n",
              "<table border=\"1\" class=\"dataframe\">\n",
              "  <thead>\n",
              "    <tr style=\"text-align: right;\">\n",
              "      <th></th>\n",
              "      <th>RUL</th>\n",
              "      <th>UnitNumber</th>\n",
              "      <th>failure</th>\n",
              "    </tr>\n",
              "  </thead>\n",
              "  <tbody>\n",
              "    <tr>\n",
              "      <th>0</th>\n",
              "      <td>112</td>\n",
              "      <td>1</td>\n",
              "      <td>0</td>\n",
              "    </tr>\n",
              "    <tr>\n",
              "      <th>1</th>\n",
              "      <td>98</td>\n",
              "      <td>2</td>\n",
              "      <td>0</td>\n",
              "    </tr>\n",
              "    <tr>\n",
              "      <th>2</th>\n",
              "      <td>69</td>\n",
              "      <td>3</td>\n",
              "      <td>0</td>\n",
              "    </tr>\n",
              "    <tr>\n",
              "      <th>3</th>\n",
              "      <td>82</td>\n",
              "      <td>4</td>\n",
              "      <td>0</td>\n",
              "    </tr>\n",
              "    <tr>\n",
              "      <th>4</th>\n",
              "      <td>91</td>\n",
              "      <td>5</td>\n",
              "      <td>0</td>\n",
              "    </tr>\n",
              "  </tbody>\n",
              "</table>\n",
              "</div>"
            ],
            "text/plain": [
              "   RUL  UnitNumber  failure\n",
              "0  112           1        0\n",
              "1   98           2        0\n",
              "2   69           3        0\n",
              "3   82           4        0\n",
              "4   91           5        0"
            ]
          },
          "metadata": {
            "tags": []
          },
          "execution_count": 9
        }
      ]
    },
    {
      "cell_type": "markdown",
      "metadata": {
        "id": "3yv7a2qDr6NX"
      },
      "source": [
        "\n",
        "LSTM expects an input in the shape of a numpy array of 3 dimensions and I will need to convert train and test data accordingly."
      ]
    },
    {
      "cell_type": "code",
      "metadata": {
        "id": "l5JqkmDwr6NY"
      },
      "source": [
        "def gen_train(id_df, seq_length, seq_cols):\n",
        "    \"\"\"\n",
        "        function to prepare train data into (samples, time steps, features)\n",
        "        id_df = train dataframe\n",
        "        seq_length = look back period\n",
        "        seq_cols = feature columns\n",
        "    \"\"\"\n",
        "        \n",
        "    data_array = id_df[seq_cols].values\n",
        "    num_elements = data_array.shape[0]\n",
        "    lstm_array=[]\n",
        "    \n",
        "    for start, stop in zip(range(0, num_elements-seq_length+1), range(seq_length, num_elements+1)):\n",
        "        lstm_array.append(data_array[start:stop, :])\n",
        "    \n",
        "    return np.array(lstm_array)"
      ],
      "execution_count": 10,
      "outputs": []
    },
    {
      "cell_type": "code",
      "metadata": {
        "id": "MheDPr_hr6NZ"
      },
      "source": [
        "def gen_target(id_df, seq_length, label):\n",
        "    data_array = id_df[label].values\n",
        "    num_elements = data_array.shape[0]\n",
        "    return data_array[seq_length-1:num_elements+1]"
      ],
      "execution_count": 11,
      "outputs": []
    },
    {
      "cell_type": "code",
      "metadata": {
        "id": "XgH-r22qr6Na"
      },
      "source": [
        "def gen_test(id_df, seq_length, seq_cols, mask_value):\n",
        "    \"\"\"\n",
        "        function to prepare test data into (samples, time steps, features)\n",
        "        function only returns last sequence of data for every unit\n",
        "        id_df = test dataframe\n",
        "        seq_length = look back period\n",
        "        seq_cols = feature columns\n",
        "    \"\"\"\n",
        "    df_mask = pd.DataFrame(np.zeros((seq_length-1,id_df.shape[1])),columns=id_df.columns)\n",
        "    df_mask[:] = mask_value\n",
        "    \n",
        "    id_df = df_mask.append(id_df,ignore_index=True)\n",
        "    \n",
        "    data_array = id_df[seq_cols].values\n",
        "    num_elements = data_array.shape[0]\n",
        "    lstm_array=[]\n",
        "    \n",
        "    start = num_elements-seq_length\n",
        "    stop = num_elements\n",
        "    \n",
        "    lstm_array.append(data_array[start:stop, :])\n",
        "    \n",
        "    return np.array(lstm_array)"
      ],
      "execution_count": 12,
      "outputs": []
    },
    {
      "cell_type": "markdown",
      "metadata": {
        "id": "E4AaATp4r6Nb"
      },
      "source": [
        "\n",
        "Let's define look back period and mask_value"
      ]
    },
    {
      "cell_type": "code",
      "metadata": {
        "id": "MzC6qbdxr6Nb"
      },
      "source": [
        "sequence_length = 50 #predicting using last 30 cycle values\n",
        "mask_value = 0"
      ],
      "execution_count": 13,
      "outputs": []
    },
    {
      "cell_type": "markdown",
      "metadata": {
        "id": "JGcRFZeCr6Nc"
      },
      "source": [
        "\n",
        "Let's prepare data using above functions."
      ]
    },
    {
      "cell_type": "code",
      "metadata": {
        "colab": {
          "base_uri": "https://localhost:8080/"
        },
        "id": "U7l2veiyr6Nd",
        "outputId": "aa70d211-8f8a-4e03-af6c-950f0e342dd3"
      },
      "source": [
        "#generate train\n",
        "x_train=np.concatenate(list(list(gen_train(df_train[df_train['UnitNumber']==unit], sequence_length, feats)) for unit in df_train['UnitNumber'].unique()))\n",
        "print(x_train.shape)"
      ],
      "execution_count": 14,
      "outputs": [
        {
          "output_type": "stream",
          "text": [
            "(15731, 50, 15)\n"
          ],
          "name": "stdout"
        }
      ]
    },
    {
      "cell_type": "code",
      "metadata": {
        "scrolled": true,
        "colab": {
          "base_uri": "https://localhost:8080/"
        },
        "id": "HhcsdSr_r6Ne",
        "outputId": "a194b855-f4a5-4229-fe36-c6543225fc48"
      },
      "source": [
        "#generate target of train\n",
        "y_train = np.concatenate(list(list(gen_target(df_train[df_train['UnitNumber']==unit], sequence_length, \"failure\")) for unit in df_train['UnitNumber'].unique()))\n",
        "y_train.shape"
      ],
      "execution_count": 15,
      "outputs": [
        {
          "output_type": "execute_result",
          "data": {
            "text/plain": [
              "(15731,)"
            ]
          },
          "metadata": {
            "tags": []
          },
          "execution_count": 15
        }
      ]
    },
    {
      "cell_type": "code",
      "metadata": {
        "colab": {
          "base_uri": "https://localhost:8080/"
        },
        "id": "_xn0KqQyr6Ne",
        "outputId": "11652718-abbf-425f-85ad-16dbad23fcde"
      },
      "source": [
        "#generate test\n",
        "x_test=np.concatenate(list(list(gen_test(df_test[df_test['UnitNumber']==unit], sequence_length, feats, mask_value)) for unit in df_test['UnitNumber'].unique()))\n",
        "print(x_test.shape)"
      ],
      "execution_count": 16,
      "outputs": [
        {
          "output_type": "stream",
          "text": [
            "(100, 50, 15)\n"
          ],
          "name": "stdout"
        }
      ]
    },
    {
      "cell_type": "code",
      "metadata": {
        "colab": {
          "base_uri": "https://localhost:8080/"
        },
        "id": "BolnAQROr6Nf",
        "outputId": "d8a35e94-d809-40a1-f863-743711e1e8e7"
      },
      "source": [
        "#true target of test \n",
        "y_test = y_true.RUL.values\n",
        "y_test.shape"
      ],
      "execution_count": 17,
      "outputs": [
        {
          "output_type": "execute_result",
          "data": {
            "text/plain": [
              "(100,)"
            ]
          },
          "metadata": {
            "tags": []
          },
          "execution_count": 17
        }
      ]
    },
    {
      "cell_type": "code",
      "metadata": {
        "id": "5na2LmFbr6Ng"
      },
      "source": [
        "nb_features = x_train.shape[2]\n",
        "nb_out = 1"
      ],
      "execution_count": 18,
      "outputs": []
    },
    {
      "cell_type": "code",
      "metadata": {
        "colab": {
          "base_uri": "https://localhost:8080/"
        },
        "id": "1GpW2WWhr6Nh",
        "outputId": "2aaee597-4329-4278-ff81-2051762a4ed8"
      },
      "source": [
        "nb_features"
      ],
      "execution_count": 19,
      "outputs": [
        {
          "output_type": "execute_result",
          "data": {
            "text/plain": [
              "15"
            ]
          },
          "metadata": {
            "tags": []
          },
          "execution_count": 19
        }
      ]
    },
    {
      "cell_type": "code",
      "metadata": {
        "id": "55_uHhuEr6Nh"
      },
      "source": [
        "class_0 = pd.Series(y_train).value_counts()[0]\n",
        "class_1 = pd.Series(y_train).value_counts()[1]\n",
        "total = class_0 + class_1\n",
        "\n",
        "cls_wt = {0: class_1/total, 1: class_0/total}"
      ],
      "execution_count": 20,
      "outputs": []
    },
    {
      "cell_type": "code",
      "metadata": {
        "colab": {
          "base_uri": "https://localhost:8080/"
        },
        "id": "uLCvNgbfr6Ni",
        "outputId": "25d9d9a7-7d75-489a-9576-eeeea00e040b"
      },
      "source": [
        "cls_wt"
      ],
      "execution_count": 21,
      "outputs": [
        {
          "output_type": "execute_result",
          "data": {
            "text/plain": [
              "{0: 0.3178437480134766, 1: 0.6821562519865234}"
            ]
          },
          "metadata": {
            "tags": []
          },
          "execution_count": 21
        }
      ]
    },
    {
      "cell_type": "markdown",
      "metadata": {
        "id": "Djk08ms0r6Nj"
      },
      "source": [
        "### Function to Print results"
      ]
    },
    {
      "cell_type": "code",
      "metadata": {
        "id": "bPEFkaher6Nj"
      },
      "source": [
        "def print_results(y_test, y_pred):\n",
        "    \n",
        "    #f1-score\n",
        "    f1 = f1_score(y_test, y_pred)\n",
        "    print(\"F1 Score: \", f1)\n",
        "    print(classification_report(y_true.failure, y_pred))\n",
        "    \n",
        "    conf_matrix = confusion_matrix(y_test, y_pred)\n",
        "    plt.figure(figsize=(12,12))\n",
        "    plt.subplot(221)\n",
        "    sns.heatmap(conf_matrix, fmt = \"d\",annot=True, cmap='Blues')\n",
        "    b, t = plt.ylim()\n",
        "    plt.ylim(b + 0.5, t - 0.5)\n",
        "    plt.title('Confuion Matrix')\n",
        "    plt.ylabel('True Values')\n",
        "    plt.xlabel('Predicted Values')\n",
        "\n",
        "    #roc_auc_score\n",
        "    model_roc_auc = roc_auc_score(y_test, y_pred) \n",
        "    print (\"Area under curve : \",model_roc_auc,\"\\n\")\n",
        "    fpr,tpr,thresholds = roc_curve(y_test, y_pred)\n",
        "    gmeans = np.sqrt(tpr * (1-fpr))\n",
        "    ix = np.argmax(gmeans)\n",
        "    threshold = np.round(thresholds[ix],3)\n",
        "\n",
        "    plt.subplot(222)\n",
        "    plt.plot(fpr, tpr, color='darkorange', lw=1, label = \"Auc : %.3f\" %model_roc_auc)\n",
        "    plt.plot([0, 1], [0, 1], color='navy', lw=2, linestyle='--')\n",
        "    plt.scatter(fpr[ix], tpr[ix], marker='o', color='black', label='Best Threshold:' + str(threshold))\n",
        "    plt.xlim([0.0, 1.0])\n",
        "    plt.ylim([0.0, 1.05])\n",
        "    plt.xlabel('False Positive Rate')\n",
        "    plt.ylabel('True Positive Rate')\n",
        "    plt.title('Receiver operating characteristic')\n",
        "    plt.legend(loc=\"lower right\")"
      ],
      "execution_count": 22,
      "outputs": []
    },
    {
      "cell_type": "markdown",
      "metadata": {
        "id": "ve9ncd2wr6Nk"
      },
      "source": [
        "### Approach 1"
      ]
    },
    {
      "cell_type": "markdown",
      "metadata": {
        "id": "5Vd6D48xr6Nl"
      },
      "source": [
        "Converting labels in proper shape"
      ]
    },
    {
      "cell_type": "code",
      "metadata": {
        "id": "c5-YwKaFr6Nl"
      },
      "source": [
        "def get_one_hot(targets, classes):\n",
        "    res = np.eye(classes)[np.array(targets).reshape(-1)]\n",
        "    return res.reshape(list(targets.shape) + [classes])"
      ],
      "execution_count": 23,
      "outputs": []
    },
    {
      "cell_type": "code",
      "metadata": {
        "id": "0SA7EgWQr6Nm"
      },
      "source": [
        "y_train_2 = get_one_hot(y_train, 2)\n",
        "y_test_2 = get_one_hot(y_true.failure,2)"
      ],
      "execution_count": 24,
      "outputs": []
    },
    {
      "cell_type": "code",
      "metadata": {
        "colab": {
          "base_uri": "https://localhost:8080/"
        },
        "id": "FsRVhGBIr6Nm",
        "outputId": "526f0cbc-9ac8-4e2e-813c-cd65b8d9721d"
      },
      "source": [
        "y_train_2"
      ],
      "execution_count": 25,
      "outputs": [
        {
          "output_type": "execute_result",
          "data": {
            "text/plain": [
              "array([[1., 0.],\n",
              "       [1., 0.],\n",
              "       [1., 0.],\n",
              "       ...,\n",
              "       [0., 1.],\n",
              "       [0., 1.],\n",
              "       [0., 1.]])"
            ]
          },
          "metadata": {
            "tags": []
          },
          "execution_count": 25
        }
      ]
    },
    {
      "cell_type": "code",
      "metadata": {
        "colab": {
          "base_uri": "https://localhost:8080/"
        },
        "id": "jo_1WPFKr6Nn",
        "outputId": "3acf3c6f-44ab-4ae2-d995-6703e2ac6aaa"
      },
      "source": [
        "y_train_2.shape, y_test_2.shape"
      ],
      "execution_count": 26,
      "outputs": [
        {
          "output_type": "execute_result",
          "data": {
            "text/plain": [
              "((15731, 2), (100, 2))"
            ]
          },
          "metadata": {
            "tags": []
          },
          "execution_count": 26
        }
      ]
    },
    {
      "cell_type": "code",
      "metadata": {
        "colab": {
          "base_uri": "https://localhost:8080/"
        },
        "id": "kMo7Q0lsr6Nn",
        "outputId": "df3dd269-3b5e-4fd7-89df-4cde0fb3e2fb"
      },
      "source": [
        "history1 = History()\n",
        "\n",
        "model1 = Sequential()\n",
        "model1.add(Conv1D(16, 3, activation = 'relu', input_shape=(sequence_length, nb_features)))\n",
        "model1.add(Conv1D(16, 3, activation = 'relu'))\n",
        "model1.add(MaxPooling1D(3))\n",
        "model1.add(Conv1D(32, 3, activation = 'relu'))\n",
        "model1.add(Conv1D(32, 3, activation = 'relu'))\n",
        "model1.add(GlobalAveragePooling1D())\n",
        "model1.add(Dropout(0.5))\n",
        "model1.add(Dense(2, kernel_regularizer=l2(0.0001)))\n",
        "model1.add(Activation('softmax'))\n",
        "\n",
        "model1.compile(loss=\"hinge\", optimizer=\"adam\", metrics=['accuracy'])\n",
        "\n",
        "model1.summary()"
      ],
      "execution_count": 27,
      "outputs": [
        {
          "output_type": "stream",
          "text": [
            "Model: \"sequential\"\n",
            "_________________________________________________________________\n",
            "Layer (type)                 Output Shape              Param #   \n",
            "=================================================================\n",
            "conv1d (Conv1D)              (None, 48, 16)            736       \n",
            "_________________________________________________________________\n",
            "conv1d_1 (Conv1D)            (None, 46, 16)            784       \n",
            "_________________________________________________________________\n",
            "max_pooling1d (MaxPooling1D) (None, 15, 16)            0         \n",
            "_________________________________________________________________\n",
            "conv1d_2 (Conv1D)            (None, 13, 32)            1568      \n",
            "_________________________________________________________________\n",
            "conv1d_3 (Conv1D)            (None, 11, 32)            3104      \n",
            "_________________________________________________________________\n",
            "global_average_pooling1d (Gl (None, 32)                0         \n",
            "_________________________________________________________________\n",
            "dropout (Dropout)            (None, 32)                0         \n",
            "_________________________________________________________________\n",
            "dense (Dense)                (None, 2)                 66        \n",
            "_________________________________________________________________\n",
            "activation (Activation)      (None, 2)                 0         \n",
            "=================================================================\n",
            "Total params: 6,258\n",
            "Trainable params: 6,258\n",
            "Non-trainable params: 0\n",
            "_________________________________________________________________\n"
          ],
          "name": "stdout"
        }
      ]
    },
    {
      "cell_type": "markdown",
      "metadata": {
        "id": "PGSH-Lonr6No"
      },
      "source": [
        "Fitting the model"
      ]
    },
    {
      "cell_type": "code",
      "metadata": {
        "scrolled": true,
        "colab": {
          "base_uri": "https://localhost:8080/"
        },
        "id": "GZwZod6Er6No",
        "outputId": "550dc7cd-7964-43c1-88e8-0d657d559302"
      },
      "source": [
        "%%time\n",
        "# fit the model\n",
        "model1.fit(x_train, y_train_2, epochs=100, batch_size=64, validation_split=0.1, verbose=1,\n",
        "          callbacks = [history1,\n",
        "                      keras.callbacks.EarlyStopping(monitor='val_loss', min_delta=0, patience=10, verbose=0, mode='auto')])"
      ],
      "execution_count": 28,
      "outputs": [
        {
          "output_type": "stream",
          "text": [
            "Epoch 1/100\n",
            "222/222 [==============================] - 4s 6ms/step - loss: 0.7760 - accuracy: 0.7577 - val_loss: 0.6235 - val_accuracy: 0.8793\n",
            "Epoch 2/100\n",
            "222/222 [==============================] - 1s 4ms/step - loss: 0.6181 - accuracy: 0.8844 - val_loss: 0.6202 - val_accuracy: 0.8825\n",
            "Epoch 3/100\n",
            "222/222 [==============================] - 1s 4ms/step - loss: 0.6024 - accuracy: 0.8995 - val_loss: 0.6207 - val_accuracy: 0.8793\n",
            "Epoch 4/100\n",
            "222/222 [==============================] - 1s 4ms/step - loss: 0.6001 - accuracy: 0.9015 - val_loss: 0.6315 - val_accuracy: 0.8691\n",
            "Epoch 5/100\n",
            "222/222 [==============================] - 1s 4ms/step - loss: 0.5922 - accuracy: 0.9103 - val_loss: 0.6270 - val_accuracy: 0.8736\n",
            "Epoch 6/100\n",
            "222/222 [==============================] - 1s 4ms/step - loss: 0.5909 - accuracy: 0.9109 - val_loss: 0.6086 - val_accuracy: 0.8939\n",
            "Epoch 7/100\n",
            "222/222 [==============================] - 1s 4ms/step - loss: 0.5867 - accuracy: 0.9153 - val_loss: 0.6017 - val_accuracy: 0.9003\n",
            "Epoch 8/100\n",
            "222/222 [==============================] - 1s 4ms/step - loss: 0.5832 - accuracy: 0.9192 - val_loss: 0.6205 - val_accuracy: 0.8806\n",
            "Epoch 9/100\n",
            "222/222 [==============================] - 1s 4ms/step - loss: 0.5923 - accuracy: 0.9106 - val_loss: 0.5954 - val_accuracy: 0.9041\n",
            "Epoch 10/100\n",
            "222/222 [==============================] - 1s 4ms/step - loss: 0.5819 - accuracy: 0.9203 - val_loss: 0.6005 - val_accuracy: 0.9022\n",
            "Epoch 11/100\n",
            "222/222 [==============================] - 1s 4ms/step - loss: 0.5753 - accuracy: 0.9265 - val_loss: 0.6015 - val_accuracy: 0.8990\n",
            "Epoch 12/100\n",
            "222/222 [==============================] - 1s 4ms/step - loss: 0.5721 - accuracy: 0.9295 - val_loss: 0.6113 - val_accuracy: 0.8914\n",
            "Epoch 13/100\n",
            "222/222 [==============================] - 1s 4ms/step - loss: 0.5706 - accuracy: 0.9319 - val_loss: 0.6013 - val_accuracy: 0.9015\n",
            "Epoch 14/100\n",
            "222/222 [==============================] - 1s 4ms/step - loss: 0.5643 - accuracy: 0.9379 - val_loss: 0.6095 - val_accuracy: 0.8888\n",
            "Epoch 15/100\n",
            "222/222 [==============================] - 1s 4ms/step - loss: 0.5676 - accuracy: 0.9340 - val_loss: 0.6317 - val_accuracy: 0.8679\n",
            "Epoch 16/100\n",
            "222/222 [==============================] - 1s 4ms/step - loss: 0.5691 - accuracy: 0.9326 - val_loss: 0.5995 - val_accuracy: 0.9015\n",
            "Epoch 17/100\n",
            "222/222 [==============================] - 1s 4ms/step - loss: 0.5642 - accuracy: 0.9376 - val_loss: 0.6097 - val_accuracy: 0.8907\n",
            "Epoch 18/100\n",
            "222/222 [==============================] - 1s 4ms/step - loss: 0.5598 - accuracy: 0.9423 - val_loss: 0.6252 - val_accuracy: 0.8748\n",
            "Epoch 19/100\n",
            "222/222 [==============================] - 1s 4ms/step - loss: 0.5576 - accuracy: 0.9438 - val_loss: 0.5919 - val_accuracy: 0.9079\n",
            "Epoch 20/100\n",
            "222/222 [==============================] - 1s 4ms/step - loss: 0.5556 - accuracy: 0.9457 - val_loss: 0.6071 - val_accuracy: 0.8939\n",
            "Epoch 21/100\n",
            "222/222 [==============================] - 1s 4ms/step - loss: 0.5515 - accuracy: 0.9506 - val_loss: 0.6038 - val_accuracy: 0.8958\n",
            "Epoch 22/100\n",
            "222/222 [==============================] - 1s 4ms/step - loss: 0.5530 - accuracy: 0.9487 - val_loss: 0.6315 - val_accuracy: 0.8679\n",
            "Epoch 23/100\n",
            "222/222 [==============================] - 1s 4ms/step - loss: 0.5591 - accuracy: 0.9418 - val_loss: 0.6197 - val_accuracy: 0.8812\n",
            "Epoch 24/100\n",
            "222/222 [==============================] - 1s 4ms/step - loss: 0.5515 - accuracy: 0.9504 - val_loss: 0.6206 - val_accuracy: 0.8799\n",
            "Epoch 25/100\n",
            "222/222 [==============================] - 1s 4ms/step - loss: 0.5489 - accuracy: 0.9523 - val_loss: 0.6179 - val_accuracy: 0.8818\n",
            "Epoch 26/100\n",
            "222/222 [==============================] - 1s 4ms/step - loss: 0.5477 - accuracy: 0.9545 - val_loss: 0.6109 - val_accuracy: 0.8895\n",
            "Epoch 27/100\n",
            "222/222 [==============================] - 1s 4ms/step - loss: 0.5487 - accuracy: 0.9530 - val_loss: 0.6285 - val_accuracy: 0.8710\n",
            "Epoch 28/100\n",
            "222/222 [==============================] - 1s 4ms/step - loss: 0.5479 - accuracy: 0.9530 - val_loss: 0.6048 - val_accuracy: 0.8977\n",
            "Epoch 29/100\n",
            "222/222 [==============================] - 1s 4ms/step - loss: 0.5432 - accuracy: 0.9581 - val_loss: 0.6215 - val_accuracy: 0.8793\n",
            "CPU times: user 32.6 s, sys: 3.99 s, total: 36.6 s\n",
            "Wall time: 27.9 s\n"
          ],
          "name": "stdout"
        },
        {
          "output_type": "execute_result",
          "data": {
            "text/plain": [
              "<tensorflow.python.keras.callbacks.History at 0x7fbfdc97d950>"
            ]
          },
          "metadata": {
            "tags": []
          },
          "execution_count": 28
        }
      ]
    },
    {
      "cell_type": "code",
      "metadata": {
        "colab": {
          "base_uri": "https://localhost:8080/"
        },
        "id": "yMguM25FtnTC",
        "outputId": "02c82258-87e0-4e39-b6fb-c1766df80af8"
      },
      "source": [
        "history1.history.keys()"
      ],
      "execution_count": 29,
      "outputs": [
        {
          "output_type": "execute_result",
          "data": {
            "text/plain": [
              "dict_keys(['loss', 'accuracy', 'val_loss', 'val_accuracy'])"
            ]
          },
          "metadata": {
            "tags": []
          },
          "execution_count": 29
        }
      ]
    },
    {
      "cell_type": "code",
      "metadata": {
        "colab": {
          "base_uri": "https://localhost:8080/",
          "height": 312
        },
        "id": "gt2BREPYr6Np",
        "outputId": "569ae944-0825-4fd5-ad92-9ce9288b5460"
      },
      "source": [
        "fig, ax = plt.subplots(nrows = 1, ncols = 2, figsize = (10, 4))\n",
        "\n",
        "# Accuracy\n",
        "ax[0].plot(history1.history['accuracy'])\n",
        "ax[0].plot(history1.history['val_accuracy'])\n",
        "ax[0].set_ylabel('Accuracy')\n",
        "ax[0].set_xlabel('# Epoch')\n",
        "ax[0].legend(['train', 'validation'], loc='upper left')\n",
        "ax[0].set_title('Accuracy')\n",
        "\n",
        "# Loss\n",
        "ax[1].plot(history1.history['loss'])\n",
        "ax[1].plot(history1.history['val_loss'])\n",
        "ax[1].set_ylabel('Loss')\n",
        "ax[1].set_xlabel('# Epoch')\n",
        "ax[1].legend(['train', 'validation'], loc='upper left')\n",
        "ax[1].set_title('Loss')"
      ],
      "execution_count": 30,
      "outputs": [
        {
          "output_type": "execute_result",
          "data": {
            "text/plain": [
              "Text(0.5, 1.0, 'Loss')"
            ]
          },
          "metadata": {
            "tags": []
          },
          "execution_count": 30
        },
        {
          "output_type": "display_data",
          "data": {
            "image/png": "[encoded data removed]",
            "text/plain": [
              "<Figure size 720x288 with 2 Axes>"
            ]
          },
          "metadata": {
            "tags": [],
            "needs_background": "light"
          }
        }
      ]
    },
    {
      "cell_type": "code",
      "metadata": {
        "colab": {
          "base_uri": "https://localhost:8080/",
          "height": 610
        },
        "id": "n1sCFOuXr6Nq",
        "outputId": "1862605c-0537-4c57-c227-ee2fea4133b2"
      },
      "source": [
        "y_pred = model1.predict_classes(x_test)\n",
        "\n",
        "print_results(y_true.failure, y_pred)"
      ],
      "execution_count": 31,
      "outputs": [
        {
          "output_type": "stream",
          "text": [
            "/usr/local/lib/python3.7/dist-packages/tensorflow/python/keras/engine/sequential.py:450: UserWarning: `model.predict_classes()` is deprecated and will be removed after 2021-01-01. Please use instead:* `np.argmax(model.predict(x), axis=-1)`,   if your model does multi-class classification   (e.g. if it uses a `softmax` last-layer activation).* `(model.predict(x) > 0.5).astype(\"int32\")`,   if your model does binary classification   (e.g. if it uses a `sigmoid` last-layer activation).\n",
            "  warnings.warn('`model.predict_classes()` is deprecated and '\n"
          ],
          "name": "stderr"
        },
        {
          "output_type": "stream",
          "text": [
            "F1 Score:  0.8571428571428572\n",
            "              precision    recall  f1-score   support\n",
            "\n",
            "           0       0.96      0.91      0.93        70\n",
            "           1       0.82      0.90      0.86        30\n",
            "\n",
            "    accuracy                           0.91       100\n",
            "   macro avg       0.89      0.91      0.90       100\n",
            "weighted avg       0.91      0.91      0.91       100\n",
            "\n",
            "Area under curve :  0.9071428571428571 \n",
            "\n"
          ],
          "name": "stdout"
        },
        {
          "output_type": "display_data",
          "data": {
            "image/png": "[encoded data removed]",
            "text/plain": [
              "<Figure size 864x864 with 3 Axes>"
            ]
          },
          "metadata": {
            "tags": [],
            "needs_background": "light"
          }
        }
      ]
    },
    {
      "cell_type": "code",
      "metadata": {
        "colab": {
          "base_uri": "https://localhost:8080/"
        },
        "id": "BXF8vo4Vr6Nq",
        "outputId": "47340dc4-fc3f-486e-c042-4eacda95a6e4"
      },
      "source": [
        "confusion_matrix(y_train, model1.predict_classes(x_train))"
      ],
      "execution_count": 32,
      "outputs": [
        {
          "output_type": "stream",
          "text": [
            "/usr/local/lib/python3.7/dist-packages/tensorflow/python/keras/engine/sequential.py:450: UserWarning: `model.predict_classes()` is deprecated and will be removed after 2021-01-01. Please use instead:* `np.argmax(model.predict(x), axis=-1)`,   if your model does multi-class classification   (e.g. if it uses a `softmax` last-layer activation).* `(model.predict(x) > 0.5).astype(\"int32\")`,   if your model does binary classification   (e.g. if it uses a `sigmoid` last-layer activation).\n",
            "  warnings.warn('`model.predict_classes()` is deprecated and '\n"
          ],
          "name": "stderr"
        },
        {
          "output_type": "execute_result",
          "data": {
            "text/plain": [
              "array([[10191,   540],\n",
              "       [  397,  4603]])"
            ]
          },
          "metadata": {
            "tags": []
          },
          "execution_count": 32
        }
      ]
    },
    {
      "cell_type": "markdown",
      "metadata": {
        "id": "Jhy_cB9cr6Nr"
      },
      "source": [
        "### Approach 2"
      ]
    },
    {
      "cell_type": "code",
      "metadata": {
        "colab": {
          "base_uri": "https://localhost:8080/"
        },
        "id": "VxdwDuIRr6Nr",
        "outputId": "f217e879-6318-476a-f322-11920dc85a77"
      },
      "source": [
        "history2 = History()\n",
        "\n",
        "model2 = Sequential()\n",
        "model2.add(Conv1D(16, 3, activation = 'relu', input_shape=(sequence_length, nb_features)))\n",
        "model2.add(Conv1D(16, 3, activation = 'relu'))\n",
        "model2.add(MaxPooling1D(3))\n",
        "model2.add(Conv1D(32, 3, activation = 'relu'))\n",
        "model2.add(Conv1D(32, 3, activation = 'relu'))\n",
        "model2.add(GlobalAveragePooling1D(name = 'feature_layer'))\n",
        "model2.add(Dropout(0.5))\n",
        "model2.add(Dense(1, activation='sigmoid'))\n",
        "\n",
        "model2.compile(loss=\"binary_crossentropy\", optimizer=\"adam\", metrics=['accuracy'])\n",
        "\n",
        "model2.summary()"
      ],
      "execution_count": 33,
      "outputs": [
        {
          "output_type": "stream",
          "text": [
            "Model: \"sequential_1\"\n",
            "_________________________________________________________________\n",
            "Layer (type)                 Output Shape              Param #   \n",
            "=================================================================\n",
            "conv1d_4 (Conv1D)            (None, 48, 16)            736       \n",
            "_________________________________________________________________\n",
            "conv1d_5 (Conv1D)            (None, 46, 16)            784       \n",
            "_________________________________________________________________\n",
            "max_pooling1d_1 (MaxPooling1 (None, 15, 16)            0         \n",
            "_________________________________________________________________\n",
            "conv1d_6 (Conv1D)            (None, 13, 32)            1568      \n",
            "_________________________________________________________________\n",
            "conv1d_7 (Conv1D)            (None, 11, 32)            3104      \n",
            "_________________________________________________________________\n",
            "feature_layer (GlobalAverage (None, 32)                0         \n",
            "_________________________________________________________________\n",
            "dropout_1 (Dropout)          (None, 32)                0         \n",
            "_________________________________________________________________\n",
            "dense_1 (Dense)              (None, 1)                 33        \n",
            "=================================================================\n",
            "Total params: 6,225\n",
            "Trainable params: 6,225\n",
            "Non-trainable params: 0\n",
            "_________________________________________________________________\n"
          ],
          "name": "stdout"
        }
      ]
    },
    {
      "cell_type": "code",
      "metadata": {
        "scrolled": true,
        "colab": {
          "base_uri": "https://localhost:8080/"
        },
        "id": "lxMfrJtor6Ns",
        "outputId": "79db6d12-b6e8-456a-d872-17ca680cb7b6"
      },
      "source": [
        "%%time\n",
        "# fit the model\n",
        "model2.fit(x_train, y_train, epochs=100, batch_size=64, validation_split=0.1, verbose=1,\n",
        "          callbacks = [history2,\n",
        "                      keras.callbacks.EarlyStopping(monitor='val_loss', min_delta=0, patience=10, verbose=0, mode='auto')])"
      ],
      "execution_count": 34,
      "outputs": [
        {
          "output_type": "stream",
          "text": [
            "Epoch 1/100\n",
            "222/222 [==============================] - 2s 4ms/step - loss: 0.4415 - accuracy: 0.7889 - val_loss: 0.2784 - val_accuracy: 0.8869\n",
            "Epoch 2/100\n",
            "222/222 [==============================] - 1s 4ms/step - loss: 0.2556 - accuracy: 0.9051 - val_loss: 0.2670 - val_accuracy: 0.8914\n",
            "Epoch 3/100\n",
            "222/222 [==============================] - 1s 3ms/step - loss: 0.2241 - accuracy: 0.9189 - val_loss: 0.2480 - val_accuracy: 0.8850\n",
            "Epoch 4/100\n",
            "222/222 [==============================] - 1s 4ms/step - loss: 0.1605 - accuracy: 0.9439 - val_loss: 0.1900 - val_accuracy: 0.9123\n",
            "Epoch 5/100\n",
            "222/222 [==============================] - 1s 4ms/step - loss: 0.1243 - accuracy: 0.9563 - val_loss: 0.2100 - val_accuracy: 0.9136\n",
            "Epoch 6/100\n",
            "222/222 [==============================] - 1s 4ms/step - loss: 0.1064 - accuracy: 0.9628 - val_loss: 0.2434 - val_accuracy: 0.8990\n",
            "Epoch 7/100\n",
            "222/222 [==============================] - 1s 4ms/step - loss: 0.0880 - accuracy: 0.9679 - val_loss: 0.1856 - val_accuracy: 0.9098\n",
            "Epoch 8/100\n",
            "222/222 [==============================] - 1s 3ms/step - loss: 0.0789 - accuracy: 0.9719 - val_loss: 0.2355 - val_accuracy: 0.9111\n",
            "Epoch 9/100\n",
            "222/222 [==============================] - 1s 4ms/step - loss: 0.0831 - accuracy: 0.9684 - val_loss: 0.2728 - val_accuracy: 0.8895\n",
            "Epoch 10/100\n",
            "222/222 [==============================] - 1s 4ms/step - loss: 0.0703 - accuracy: 0.9750 - val_loss: 0.2577 - val_accuracy: 0.8895\n",
            "Epoch 11/100\n",
            "222/222 [==============================] - 1s 4ms/step - loss: 0.0608 - accuracy: 0.9788 - val_loss: 0.2789 - val_accuracy: 0.8875\n",
            "Epoch 12/100\n",
            "222/222 [==============================] - 1s 4ms/step - loss: 0.0581 - accuracy: 0.9777 - val_loss: 0.3759 - val_accuracy: 0.8736\n",
            "Epoch 13/100\n",
            "222/222 [==============================] - 1s 4ms/step - loss: 0.0573 - accuracy: 0.9781 - val_loss: 0.3343 - val_accuracy: 0.8793\n",
            "Epoch 14/100\n",
            "222/222 [==============================] - 1s 4ms/step - loss: 0.0549 - accuracy: 0.9798 - val_loss: 0.3418 - val_accuracy: 0.8774\n",
            "Epoch 15/100\n",
            "222/222 [==============================] - 1s 4ms/step - loss: 0.0466 - accuracy: 0.9823 - val_loss: 0.3363 - val_accuracy: 0.8850\n",
            "Epoch 16/100\n",
            "222/222 [==============================] - 1s 4ms/step - loss: 0.0495 - accuracy: 0.9801 - val_loss: 0.3258 - val_accuracy: 0.8774\n",
            "Epoch 17/100\n",
            "222/222 [==============================] - 1s 4ms/step - loss: 0.0562 - accuracy: 0.9816 - val_loss: 0.3562 - val_accuracy: 0.9104\n",
            "CPU times: user 16.7 s, sys: 1.57 s, total: 18.3 s\n",
            "Wall time: 14.3 s\n"
          ],
          "name": "stdout"
        },
        {
          "output_type": "execute_result",
          "data": {
            "text/plain": [
              "<tensorflow.python.keras.callbacks.History at 0x7fbfdc455910>"
            ]
          },
          "metadata": {
            "tags": []
          },
          "execution_count": 34
        }
      ]
    },
    {
      "cell_type": "code",
      "metadata": {
        "id": "EHmZ0wWer6Ns"
      },
      "source": [
        "layer_name = 'feature_layer'\n",
        "intermediate_layer_model = Model(inputs = model2.input,\n",
        "                                outputs = model2.get_layer(layer_name).output)\n",
        "cnn_x_train = intermediate_layer_model.predict(x_train)\n",
        "cnn_x_test = intermediate_layer_model.predict(x_test)"
      ],
      "execution_count": 35,
      "outputs": []
    },
    {
      "cell_type": "code",
      "metadata": {
        "colab": {
          "base_uri": "https://localhost:8080/"
        },
        "id": "qOQhxo7er6Nt",
        "outputId": "b7160e63-5b69-4ad7-a97b-4d4ffe1272eb"
      },
      "source": [
        "svc = SVC(kernel='rbf', C=1, gamma='auto', class_weight='balanced')\n",
        "\n",
        "svc.fit(cnn_x_train, y_train)"
      ],
      "execution_count": 36,
      "outputs": [
        {
          "output_type": "execute_result",
          "data": {
            "text/plain": [
              "SVC(C=1, break_ties=False, cache_size=200, class_weight='balanced', coef0=0.0,\n",
              "    decision_function_shape='ovr', degree=3, gamma='auto', kernel='rbf',\n",
              "    max_iter=-1, probability=False, random_state=None, shrinking=True,\n",
              "    tol=0.001, verbose=False)"
            ]
          },
          "metadata": {
            "tags": []
          },
          "execution_count": 36
        }
      ]
    },
    {
      "cell_type": "code",
      "metadata": {
        "colab": {
          "base_uri": "https://localhost:8080/"
        },
        "id": "y3yFV8CIr6Nt",
        "outputId": "c70cb641-bd4b-4535-c5a9-c16af615c15e"
      },
      "source": [
        "svc.support_vectors_.shape"
      ],
      "execution_count": 37,
      "outputs": [
        {
          "output_type": "execute_result",
          "data": {
            "text/plain": [
              "(875, 32)"
            ]
          },
          "metadata": {
            "tags": []
          },
          "execution_count": 37
        }
      ]
    },
    {
      "cell_type": "code",
      "metadata": {
        "colab": {
          "base_uri": "https://localhost:8080/"
        },
        "id": "1Sp2N3HJr6Nu",
        "outputId": "c7eb31dc-9594-4fbc-b7c0-457578cb972a"
      },
      "source": [
        "svc.score(cnn_x_train, y_train)"
      ],
      "execution_count": 38,
      "outputs": [
        {
          "output_type": "execute_result",
          "data": {
            "text/plain": [
              "0.977242387642235"
            ]
          },
          "metadata": {
            "tags": []
          },
          "execution_count": 38
        }
      ]
    },
    {
      "cell_type": "code",
      "metadata": {
        "colab": {
          "base_uri": "https://localhost:8080/",
          "height": 556
        },
        "id": "c0uTMRUEr6Nv",
        "outputId": "027a0c0e-ba6b-40be-bc02-a4bf3a4b9b52"
      },
      "source": [
        "y_pred2 = svc.predict(cnn_x_test)\n",
        "\n",
        "print_results(y_true.failure, y_pred2)"
      ],
      "execution_count": 39,
      "outputs": [
        {
          "output_type": "stream",
          "text": [
            "F1 Score:  0.9354838709677419\n",
            "              precision    recall  f1-score   support\n",
            "\n",
            "           0       0.99      0.96      0.97        70\n",
            "           1       0.91      0.97      0.94        30\n",
            "\n",
            "    accuracy                           0.96       100\n",
            "   macro avg       0.95      0.96      0.95       100\n",
            "weighted avg       0.96      0.96      0.96       100\n",
            "\n",
            "Area under curve :  0.9619047619047619 \n",
            "\n"
          ],
          "name": "stdout"
        },
        {
          "output_type": "display_data",
          "data": {
            "image/png": "[encoded data removed]",
            "text/plain": [
              "<Figure size 864x864 with 3 Axes>"
            ]
          },
          "metadata": {
            "tags": [],
            "needs_background": "light"
          }
        }
      ]
    },
    {
      "cell_type": "code",
      "metadata": {
        "colab": {
          "base_uri": "https://localhost:8080/"
        },
        "id": "A4QktNnKr6Nv",
        "outputId": "88f18a58-8e15-4bb1-80a1-34c645d80f97"
      },
      "source": [
        "confusion_matrix(y_train, svc.predict(cnn_x_train))"
      ],
      "execution_count": 40,
      "outputs": [
        {
          "output_type": "execute_result",
          "data": {
            "text/plain": [
              "array([[10443,   288],\n",
              "       [   70,  4930]])"
            ]
          },
          "metadata": {
            "tags": []
          },
          "execution_count": 40
        }
      ]
    },
    {
      "cell_type": "code",
      "metadata": {
        "id": "xnIe1zazr6Nw"
      },
      "source": [
        ""
      ],
      "execution_count": 40,
      "outputs": []
    }
  ]
}